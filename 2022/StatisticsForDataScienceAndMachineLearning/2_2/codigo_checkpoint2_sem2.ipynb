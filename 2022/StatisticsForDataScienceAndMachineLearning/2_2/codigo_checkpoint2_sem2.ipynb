{
  "cells": [
    {
      "cell_type": "markdown",
      "metadata": {
        "id": "dFpcHXLO-8bY"
      },
      "source": [
        "# checkpoint 2 - sem. 2"
      ]
    },
    {
      "cell_type": "markdown",
      "metadata": {
        "id": "9SvCkmlL_cWZ"
      },
      "source": [
        "## Módulos"
      ]
    },
    {
      "cell_type": "code",
      "execution_count": 1,
      "metadata": {
        "id": "IfuldRwj_cau"
      },
      "outputs": [],
      "source": [
        "# gerais\n",
        "import numpy as np\n",
        "import pandas as pd\n",
        "import matplotlib.pyplot as plt\n",
        "import seaborn as sns"
      ]
    },
    {
      "cell_type": "code",
      "execution_count": 2,
      "metadata": {
        "id": "z66g5m2VVT4V"
      },
      "outputs": [],
      "source": [
        "# probabilidade\n",
        "from scipy.stats import expon, norm, t, chi2, f"
      ]
    },
    {
      "cell_type": "code",
      "execution_count": 3,
      "metadata": {
        "id": "0Uz9FJg7VSEy"
      },
      "outputs": [],
      "source": [
        "# amostragem\n",
        "from sklearn.model_selection import train_test_split"
      ]
    },
    {
      "cell_type": "markdown",
      "metadata": {
        "id": "8v39WqIg_cey"
      },
      "source": [
        "## Dados"
      ]
    },
    {
      "cell_type": "code",
      "execution_count": 4,
      "metadata": {
        "id": "t5w-s4ELHtdI"
      },
      "outputs": [],
      "source": [
        "dados_atendimentos = pd.read_csv(\"dados_atendimentos.csv\")"
      ]
    },
    {
      "cell_type": "code",
      "execution_count": 5,
      "metadata": {
        "colab": {
          "base_uri": "https://localhost:8080/",
          "height": 478
        },
        "id": "gjbPmnGFTBeO",
        "outputId": "2d0849eb-85a6-46f7-9578-ddff3f8c888b"
      },
      "outputs": [
        {
          "data": {
            "text/html": [
              "<div>\n",
              "<style scoped>\n",
              "    .dataframe tbody tr th:only-of-type {\n",
              "        vertical-align: middle;\n",
              "    }\n",
              "\n",
              "    .dataframe tbody tr th {\n",
              "        vertical-align: top;\n",
              "    }\n",
              "\n",
              "    .dataframe thead th {\n",
              "        text-align: right;\n",
              "    }\n",
              "</style>\n",
              "<table border=\"1\" class=\"dataframe\">\n",
              "  <thead>\n",
              "    <tr style=\"text-align: right;\">\n",
              "      <th></th>\n",
              "      <th>idEntrada</th>\n",
              "      <th>state</th>\n",
              "      <th>usuarioOnline</th>\n",
              "      <th>statusSaida</th>\n",
              "      <th>paginaSaida</th>\n",
              "      <th>avaliacao</th>\n",
              "      <th>dataHoraEntrada</th>\n",
              "      <th>dataHoraSaida</th>\n",
              "      <th>dataHoraErro</th>\n",
              "      <th>tempoAcesso</th>\n",
              "      <th>codigo</th>\n",
              "      <th>erro</th>\n",
              "    </tr>\n",
              "  </thead>\n",
              "  <tbody>\n",
              "    <tr>\n",
              "      <th>0</th>\n",
              "      <td>1</td>\n",
              "      <td>CE</td>\n",
              "      <td>1</td>\n",
              "      <td>80%</td>\n",
              "      <td>1</td>\n",
              "      <td>positiva</td>\n",
              "      <td>18/05/2021 17:57</td>\n",
              "      <td>18/05/2021 18:00</td>\n",
              "      <td>18/05/2021 17:59</td>\n",
              "      <td>173</td>\n",
              "      <td>550</td>\n",
              "      <td>\"NO MOMENTO ESTE SERIVCO ESTA INDISPONIVEL. PO...</td>\n",
              "    </tr>\n",
              "    <tr>\n",
              "      <th>1</th>\n",
              "      <td>2</td>\n",
              "      <td>PE</td>\n",
              "      <td>0</td>\n",
              "      <td>40%</td>\n",
              "      <td>3</td>\n",
              "      <td>negativa</td>\n",
              "      <td>18/05/2021 17:57</td>\n",
              "      <td>18/05/2021 18:01</td>\n",
              "      <td>18/05/2021 18:00</td>\n",
              "      <td>212</td>\n",
              "      <td>550</td>\n",
              "      <td>\"ERRO NA VALIDACAO DE DADOS COMPLEMENTARES\"</td>\n",
              "    </tr>\n",
              "    <tr>\n",
              "      <th>2</th>\n",
              "      <td>3</td>\n",
              "      <td>CE</td>\n",
              "      <td>0</td>\n",
              "      <td>60%</td>\n",
              "      <td>2</td>\n",
              "      <td>negativa</td>\n",
              "      <td>18/05/2021 17:57</td>\n",
              "      <td>18/05/2021 18:04</td>\n",
              "      <td>18/05/2021 18:03</td>\n",
              "      <td>427</td>\n",
              "      <td>500</td>\n",
              "      <td>\"INTERNAL SERVER ERROR\"</td>\n",
              "    </tr>\n",
              "    <tr>\n",
              "      <th>3</th>\n",
              "      <td>4</td>\n",
              "      <td>PR</td>\n",
              "      <td>0</td>\n",
              "      <td>20%</td>\n",
              "      <td>4</td>\n",
              "      <td>negativa</td>\n",
              "      <td>18/05/2021 17:57</td>\n",
              "      <td>18/05/2021 18:01</td>\n",
              "      <td>18/05/2021 18:00</td>\n",
              "      <td>248</td>\n",
              "      <td>550</td>\n",
              "      <td>\"CPF -CNPJ CLIENTE NAO CADASTRADO\"</td>\n",
              "    </tr>\n",
              "    <tr>\n",
              "      <th>4</th>\n",
              "      <td>5</td>\n",
              "      <td>TO</td>\n",
              "      <td>0</td>\n",
              "      <td>20%</td>\n",
              "      <td>4</td>\n",
              "      <td>positiva</td>\n",
              "      <td>18/05/2021 17:57</td>\n",
              "      <td>18/05/2021 18:01</td>\n",
              "      <td>18/05/2021 18:02</td>\n",
              "      <td>256</td>\n",
              "      <td>500</td>\n",
              "      <td>\"OPS! NÃO FOI POSSIVEL CONSULTAR O SALDO. TENT...</td>\n",
              "    </tr>\n",
              "  </tbody>\n",
              "</table>\n",
              "</div>"
            ],
            "text/plain": [
              "   idEntrada state  usuarioOnline statusSaida  paginaSaida avaliacao  \\\n",
              "0          1    CE              1         80%            1  positiva   \n",
              "1          2    PE              0         40%            3  negativa   \n",
              "2          3    CE              0         60%            2  negativa   \n",
              "3          4    PR              0         20%            4  negativa   \n",
              "4          5    TO              0         20%            4  positiva   \n",
              "\n",
              "    dataHoraEntrada     dataHoraSaida      dataHoraErro  tempoAcesso  codigo  \\\n",
              "0  18/05/2021 17:57  18/05/2021 18:00  18/05/2021 17:59          173     550   \n",
              "1  18/05/2021 17:57  18/05/2021 18:01  18/05/2021 18:00          212     550   \n",
              "2  18/05/2021 17:57  18/05/2021 18:04  18/05/2021 18:03          427     500   \n",
              "3  18/05/2021 17:57  18/05/2021 18:01  18/05/2021 18:00          248     550   \n",
              "4  18/05/2021 17:57  18/05/2021 18:01  18/05/2021 18:02          256     500   \n",
              "\n",
              "                                                erro  \n",
              "0  \"NO MOMENTO ESTE SERIVCO ESTA INDISPONIVEL. PO...  \n",
              "1        \"ERRO NA VALIDACAO DE DADOS COMPLEMENTARES\"  \n",
              "2                            \"INTERNAL SERVER ERROR\"  \n",
              "3                 \"CPF -CNPJ CLIENTE NAO CADASTRADO\"  \n",
              "4  \"OPS! NÃO FOI POSSIVEL CONSULTAR O SALDO. TENT...  "
            ]
          },
          "execution_count": 5,
          "metadata": {},
          "output_type": "execute_result"
        }
      ],
      "source": [
        "dados_atendimentos.head()"
      ]
    },
    {
      "cell_type": "code",
      "execution_count": 6,
      "metadata": {
        "id": "GU4jAoOV_cir"
      },
      "outputs": [],
      "source": [
        "dados_renda = pd.read_csv(\"dados_renda_municipios_2010.csv\")"
      ]
    },
    {
      "cell_type": "code",
      "execution_count": 7,
      "metadata": {
        "colab": {
          "base_uri": "https://localhost:8080/",
          "height": 206
        },
        "id": "0Nx9SXn6TFoU",
        "outputId": "d7845008-6da8-4a18-a5b6-c123edc139e5"
      },
      "outputs": [
        {
          "data": {
            "text/html": [
              "<div>\n",
              "<style scoped>\n",
              "    .dataframe tbody tr th:only-of-type {\n",
              "        vertical-align: middle;\n",
              "    }\n",
              "\n",
              "    .dataframe tbody tr th {\n",
              "        vertical-align: top;\n",
              "    }\n",
              "\n",
              "    .dataframe thead th {\n",
              "        text-align: right;\n",
              "    }\n",
              "</style>\n",
              "<table border=\"1\" class=\"dataframe\">\n",
              "  <thead>\n",
              "    <tr style=\"text-align: right;\">\n",
              "      <th></th>\n",
              "      <th>state</th>\n",
              "      <th>city</th>\n",
              "      <th>RDPC</th>\n",
              "    </tr>\n",
              "  </thead>\n",
              "  <tbody>\n",
              "    <tr>\n",
              "      <th>0</th>\n",
              "      <td>GO</td>\n",
              "      <td>Abadia de Goiás/GO</td>\n",
              "      <td>574.96</td>\n",
              "    </tr>\n",
              "    <tr>\n",
              "      <th>1</th>\n",
              "      <td>MG</td>\n",
              "      <td>Abadia dos Dourados/MG</td>\n",
              "      <td>596.18</td>\n",
              "    </tr>\n",
              "    <tr>\n",
              "      <th>2</th>\n",
              "      <td>GO</td>\n",
              "      <td>Abadiânia/GO</td>\n",
              "      <td>519.87</td>\n",
              "    </tr>\n",
              "    <tr>\n",
              "      <th>3</th>\n",
              "      <td>PA</td>\n",
              "      <td>Abaetetuba/PA</td>\n",
              "      <td>293.01</td>\n",
              "    </tr>\n",
              "    <tr>\n",
              "      <th>4</th>\n",
              "      <td>MG</td>\n",
              "      <td>Abaeté/MG</td>\n",
              "      <td>707.24</td>\n",
              "    </tr>\n",
              "  </tbody>\n",
              "</table>\n",
              "</div>"
            ],
            "text/plain": [
              "  state                    city    RDPC\n",
              "0    GO      Abadia de Goiás/GO  574.96\n",
              "1    MG  Abadia dos Dourados/MG  596.18\n",
              "2    GO            Abadiânia/GO  519.87\n",
              "3    PA           Abaetetuba/PA  293.01\n",
              "4    MG               Abaeté/MG  707.24"
            ]
          },
          "execution_count": 7,
          "metadata": {},
          "output_type": "execute_result"
        }
      ],
      "source": [
        "dados_renda.head()"
      ]
    },
    {
      "cell_type": "markdown",
      "metadata": {
        "id": "AAV_gqbBBODN"
      },
      "source": [
        "## Funções"
      ]
    },
    {
      "cell_type": "markdown",
      "metadata": {
        "id": "BD80nsWOCqEa"
      },
      "source": [
        "- Índice de Gini\n",
        "\n",
        "Utilizar esta função para calcular o índice de gini para cada estado."
      ]
    },
    {
      "cell_type": "code",
      "execution_count": 8,
      "metadata": {
        "id": "9cb0dKO0BOGe"
      },
      "outputs": [],
      "source": [
        "def gini(array: np.ndarray or pd.core.series.Series) -> float:\n",
        "    \"\"\"\n",
        "    Calculates the Gini coefficient of a 1D array.\n",
        "\n",
        "    Args:\n",
        "        array (array-like): A 1D array of values.\n",
        "\n",
        "    Returns:\n",
        "        float: The Gini coefficient of the array.\n",
        "\n",
        "    \"\"\"\n",
        "    # Convert a pandas series to a numpy array\n",
        "    if type(array) == pd.core.series.Series:\n",
        "        array = array.to_numpy()\n",
        "\n",
        "    # Flatten the array if it is not already 1D\n",
        "    array = array.flatten()\n",
        "\n",
        "    # Convert the array to float64 if it is not already\n",
        "    if array.dtype != np.float64:\n",
        "        array = np.ascontiguousarray(array, dtype=np.float64)\n",
        "\n",
        "    # Shift the values in the array so that the minimum value is 0\n",
        "    if np.amin(array) < 0:\n",
        "        array -= np.amin(array)\n",
        "\n",
        "    array += 0.0000001\n",
        "    array = np.sort(array)\n",
        "    index = np.arange(1, array.shape[0] + 1)\n",
        "    n = array.shape[0]\n",
        "    return (np.sum((2 * index - n - 1) * array)) / (n * np.sum(array))"
      ]
    },
    {
      "cell_type": "markdown",
      "metadata": {
        "id": "0f_I0Zaw_cml"
      },
      "source": [
        "## Questões"
      ]
    },
    {
      "cell_type": "markdown",
      "metadata": {
        "id": "kP6Q7NY4bYLv"
      },
      "source": [
        "## Questão 1 - Na tabela do censo de 2010, obter o índice de Gini por UF(state) (criar um dataframe como df_gini_estado).\n"
      ]
    },
    {
      "cell_type": "code",
      "execution_count": 9,
      "metadata": {
        "colab": {
          "base_uri": "https://localhost:8080/",
          "height": 206
        },
        "id": "GwJrNpEPse4T",
        "outputId": "2479054e-32ec-491f-f235-592b0b4297ac"
      },
      "outputs": [
        {
          "data": {
            "text/html": [
              "<div>\n",
              "<style scoped>\n",
              "    .dataframe tbody tr th:only-of-type {\n",
              "        vertical-align: middle;\n",
              "    }\n",
              "\n",
              "    .dataframe tbody tr th {\n",
              "        vertical-align: top;\n",
              "    }\n",
              "\n",
              "    .dataframe thead th {\n",
              "        text-align: right;\n",
              "    }\n",
              "</style>\n",
              "<table border=\"1\" class=\"dataframe\">\n",
              "  <thead>\n",
              "    <tr style=\"text-align: right;\">\n",
              "      <th></th>\n",
              "      <th>state</th>\n",
              "      <th>gini</th>\n",
              "    </tr>\n",
              "  </thead>\n",
              "  <tbody>\n",
              "    <tr>\n",
              "      <th>0</th>\n",
              "      <td>AC</td>\n",
              "      <td>0.195495</td>\n",
              "    </tr>\n",
              "    <tr>\n",
              "      <th>1</th>\n",
              "      <td>AL</td>\n",
              "      <td>0.140823</td>\n",
              "    </tr>\n",
              "    <tr>\n",
              "      <th>2</th>\n",
              "      <td>AM</td>\n",
              "      <td>0.180262</td>\n",
              "    </tr>\n",
              "    <tr>\n",
              "      <th>3</th>\n",
              "      <td>AP</td>\n",
              "      <td>0.177035</td>\n",
              "    </tr>\n",
              "    <tr>\n",
              "      <th>4</th>\n",
              "      <td>BA</td>\n",
              "      <td>0.160275</td>\n",
              "    </tr>\n",
              "  </tbody>\n",
              "</table>\n",
              "</div>"
            ],
            "text/plain": [
              "  state      gini\n",
              "0    AC  0.195495\n",
              "1    AL  0.140823\n",
              "2    AM  0.180262\n",
              "3    AP  0.177035\n",
              "4    BA  0.160275"
            ]
          },
          "execution_count": 9,
          "metadata": {},
          "output_type": "execute_result"
        }
      ],
      "source": [
        "df_gini_estado = (\n",
        "    dados_renda.groupby(\"state\")\n",
        "    .agg(\n",
        "        gini=pd.NamedAgg(\"RDPC\", gini),\n",
        "    )\n",
        "    .reset_index()\n",
        ")\n",
        "\n",
        "df_gini_estado.head()"
      ]
    },
    {
      "cell_type": "markdown",
      "metadata": {
        "id": "Tqo-qxTxLnmE"
      },
      "source": [
        "## Questão 2 – Realizar o join das tabelas de atendimento e df_gini_estado."
      ]
    },
    {
      "cell_type": "code",
      "execution_count": 10,
      "metadata": {
        "colab": {
          "base_uri": "https://localhost:8080/",
          "height": 409
        },
        "id": "jxPGB-BdLnrT",
        "outputId": "2ee4fe9e-a83c-43a3-f5b9-86437e27d773"
      },
      "outputs": [
        {
          "data": {
            "text/html": [
              "<div>\n",
              "<style scoped>\n",
              "    .dataframe tbody tr th:only-of-type {\n",
              "        vertical-align: middle;\n",
              "    }\n",
              "\n",
              "    .dataframe tbody tr th {\n",
              "        vertical-align: top;\n",
              "    }\n",
              "\n",
              "    .dataframe thead th {\n",
              "        text-align: right;\n",
              "    }\n",
              "</style>\n",
              "<table border=\"1\" class=\"dataframe\">\n",
              "  <thead>\n",
              "    <tr style=\"text-align: right;\">\n",
              "      <th></th>\n",
              "      <th>idEntrada</th>\n",
              "      <th>state</th>\n",
              "      <th>usuarioOnline</th>\n",
              "      <th>statusSaida</th>\n",
              "      <th>paginaSaida</th>\n",
              "      <th>avaliacao</th>\n",
              "      <th>dataHoraEntrada</th>\n",
              "      <th>dataHoraSaida</th>\n",
              "      <th>dataHoraErro</th>\n",
              "      <th>tempoAcesso</th>\n",
              "      <th>codigo</th>\n",
              "      <th>erro</th>\n",
              "      <th>gini</th>\n",
              "    </tr>\n",
              "  </thead>\n",
              "  <tbody>\n",
              "    <tr>\n",
              "      <th>0</th>\n",
              "      <td>1</td>\n",
              "      <td>CE</td>\n",
              "      <td>1</td>\n",
              "      <td>80%</td>\n",
              "      <td>1</td>\n",
              "      <td>positiva</td>\n",
              "      <td>18/05/2021 17:57</td>\n",
              "      <td>18/05/2021 18:00</td>\n",
              "      <td>18/05/2021 17:59</td>\n",
              "      <td>173</td>\n",
              "      <td>550</td>\n",
              "      <td>\"NO MOMENTO ESTE SERIVCO ESTA INDISPONIVEL. PO...</td>\n",
              "      <td>0.132551</td>\n",
              "    </tr>\n",
              "    <tr>\n",
              "      <th>1</th>\n",
              "      <td>3</td>\n",
              "      <td>CE</td>\n",
              "      <td>0</td>\n",
              "      <td>60%</td>\n",
              "      <td>2</td>\n",
              "      <td>negativa</td>\n",
              "      <td>18/05/2021 17:57</td>\n",
              "      <td>18/05/2021 18:04</td>\n",
              "      <td>18/05/2021 18:03</td>\n",
              "      <td>427</td>\n",
              "      <td>500</td>\n",
              "      <td>\"INTERNAL SERVER ERROR\"</td>\n",
              "      <td>0.132551</td>\n",
              "    </tr>\n",
              "    <tr>\n",
              "      <th>2</th>\n",
              "      <td>25</td>\n",
              "      <td>CE</td>\n",
              "      <td>0</td>\n",
              "      <td>40%</td>\n",
              "      <td>3</td>\n",
              "      <td>negativa</td>\n",
              "      <td>18/05/2021 17:57</td>\n",
              "      <td>18/05/2021 18:00</td>\n",
              "      <td>18/05/2021 18:00</td>\n",
              "      <td>165</td>\n",
              "      <td>550</td>\n",
              "      <td>\"NO MOMENTO ESTE SERIVCO ESTA INDISPONIVEL. PO...</td>\n",
              "      <td>0.132551</td>\n",
              "    </tr>\n",
              "    <tr>\n",
              "      <th>3</th>\n",
              "      <td>74</td>\n",
              "      <td>CE</td>\n",
              "      <td>0</td>\n",
              "      <td>100%</td>\n",
              "      <td>0</td>\n",
              "      <td>n/ avaliado</td>\n",
              "      <td>18/05/2021 17:57</td>\n",
              "      <td>18/05/2021 18:00</td>\n",
              "      <td>18/05/2021 17:59</td>\n",
              "      <td>155</td>\n",
              "      <td>500</td>\n",
              "      <td>\"ERRO AO EXECUTAR SERVICO: REQUESTCREDITSERVICE\"</td>\n",
              "      <td>0.132551</td>\n",
              "    </tr>\n",
              "    <tr>\n",
              "      <th>4</th>\n",
              "      <td>99</td>\n",
              "      <td>CE</td>\n",
              "      <td>0</td>\n",
              "      <td>60%</td>\n",
              "      <td>2</td>\n",
              "      <td>n/ avaliado</td>\n",
              "      <td>18/05/2021 17:57</td>\n",
              "      <td>18/05/2021 18:01</td>\n",
              "      <td>18/05/2021 17:59</td>\n",
              "      <td>212</td>\n",
              "      <td>550</td>\n",
              "      <td>\"NAO ENCONTROU DADOS PARA A SELECAO\"</td>\n",
              "      <td>0.132551</td>\n",
              "    </tr>\n",
              "  </tbody>\n",
              "</table>\n",
              "</div>"
            ],
            "text/plain": [
              "   idEntrada state  usuarioOnline statusSaida  paginaSaida    avaliacao  \\\n",
              "0          1    CE              1         80%            1     positiva   \n",
              "1          3    CE              0         60%            2     negativa   \n",
              "2         25    CE              0         40%            3     negativa   \n",
              "3         74    CE              0        100%            0  n/ avaliado   \n",
              "4         99    CE              0         60%            2  n/ avaliado   \n",
              "\n",
              "    dataHoraEntrada     dataHoraSaida      dataHoraErro  tempoAcesso  codigo  \\\n",
              "0  18/05/2021 17:57  18/05/2021 18:00  18/05/2021 17:59          173     550   \n",
              "1  18/05/2021 17:57  18/05/2021 18:04  18/05/2021 18:03          427     500   \n",
              "2  18/05/2021 17:57  18/05/2021 18:00  18/05/2021 18:00          165     550   \n",
              "3  18/05/2021 17:57  18/05/2021 18:00  18/05/2021 17:59          155     500   \n",
              "4  18/05/2021 17:57  18/05/2021 18:01  18/05/2021 17:59          212     550   \n",
              "\n",
              "                                                erro      gini  \n",
              "0  \"NO MOMENTO ESTE SERIVCO ESTA INDISPONIVEL. PO...  0.132551  \n",
              "1                            \"INTERNAL SERVER ERROR\"  0.132551  \n",
              "2  \"NO MOMENTO ESTE SERIVCO ESTA INDISPONIVEL. PO...  0.132551  \n",
              "3   \"ERRO AO EXECUTAR SERVICO: REQUESTCREDITSERVICE\"  0.132551  \n",
              "4               \"NAO ENCONTROU DADOS PARA A SELECAO\"  0.132551  "
            ]
          },
          "execution_count": 10,
          "metadata": {},
          "output_type": "execute_result"
        }
      ],
      "source": [
        "atendimento_x_gini_estado = pd.merge(\n",
        "    dados_atendimentos, df_gini_estado, on=\"state\", how=\"inner\"\n",
        ")\n",
        "atendimento_x_gini_estado.head()"
      ]
    },
    {
      "cell_type": "markdown",
      "metadata": {
        "id": "8an-2okQ35GP"
      },
      "source": [
        "# Questão 3 – Obter as distribuições de probabilidade (histograma) das variáveis listadas, depois informar qual das distribuições de probabilidade estudadas é mais similar:"
      ]
    },
    {
      "cell_type": "markdown",
      "metadata": {
        "id": "8BkxxVRzLnzZ"
      },
      "source": [
        "**Letra A) Tempo de Acesso**"
      ]
    },
    {
      "cell_type": "code",
      "execution_count": 11,
      "metadata": {
        "colab": {
          "base_uri": "https://localhost:8080/",
          "height": 313
        },
        "id": "b3Ji8ucUNYto",
        "outputId": "d3b69406-9a31-4161-8010-5c1222b4e721"
      },
      "outputs": [
        {
          "data": {
            "text/plain": [
              "[]"
            ]
          },
          "execution_count": 11,
          "metadata": {},
          "output_type": "execute_result"
        },
        {
          "data": {
            "image/png": "[encoded data removed]",
            "text/plain": [
              "<Figure size 640x480 with 1 Axes>"
            ]
          },
          "metadata": {},
          "output_type": "display_data"
        }
      ],
      "source": [
        "histograma_ta = sns.histplot(dados_atendimentos[\"tempoAcesso\"], kde=False)\n",
        "histograma_ta.set_title(\"Histograma do tempo de acesso\")\n",
        "histograma_ta.set_xlabel(\"Tempo de acesso\")\n",
        "histograma_ta.set_ylabel(\"Frequência\")\n",
        "histograma_ta.plot()"
      ]
    },
    {
      "cell_type": "markdown",
      "metadata": {
        "id": "aunMsO9335GP"
      },
      "source": [
        "**Letra B) Gini**"
      ]
    },
    {
      "cell_type": "code",
      "execution_count": 12,
      "metadata": {
        "colab": {
          "base_uri": "https://localhost:8080/",
          "height": 313
        },
        "id": "bjxbYt8pse-S",
        "outputId": "7074bb7d-6630-4ad6-9a68-220e2071fc9c"
      },
      "outputs": [
        {
          "data": {
            "text/plain": [
              "[]"
            ]
          },
          "execution_count": 12,
          "metadata": {},
          "output_type": "execute_result"
        },
        {
          "data": {
            "image/png": "[encoded data removed]",
            "text/plain": [
              "<Figure size 640x480 with 1 Axes>"
            ]
          },
          "metadata": {},
          "output_type": "display_data"
        }
      ],
      "source": [
        "histograma_gi = sns.histplot(atendimento_x_gini_estado[\"gini\"], kde=True)\n",
        "histograma_gi.set_title(\"Histograma do coeficiente de Gini\")\n",
        "histograma_gi.set_xlabel(\"Gini\")\n",
        "histograma_gi.set_ylabel(\"Frequência\")\n",
        "histograma_gi.plot()"
      ]
    },
    {
      "cell_type": "markdown",
      "metadata": {
        "id": "w8qJ5NwTklA9"
      },
      "source": [
        "## Questão 4 - Assumindo que tempoAcesso (em segundos) e Gini tendem a seguir uma distribuição de NORMAL. Obtenha as seguintes probabilidades:"
      ]
    },
    {
      "cell_type": "code",
      "execution_count": 13,
      "metadata": {
        "colab": {
          "base_uri": "https://localhost:8080/",
          "height": 300
        },
        "id": "ESO4Y61LshZU",
        "outputId": "17eb37ed-d571-4b47-fb46-31063486e472"
      },
      "outputs": [
        {
          "data": {
            "text/html": [
              "<div>\n",
              "<style scoped>\n",
              "    .dataframe tbody tr th:only-of-type {\n",
              "        vertical-align: middle;\n",
              "    }\n",
              "\n",
              "    .dataframe tbody tr th {\n",
              "        vertical-align: top;\n",
              "    }\n",
              "\n",
              "    .dataframe thead th {\n",
              "        text-align: right;\n",
              "    }\n",
              "</style>\n",
              "<table border=\"1\" class=\"dataframe\">\n",
              "  <thead>\n",
              "    <tr style=\"text-align: right;\">\n",
              "      <th></th>\n",
              "      <th>tempoAcesso</th>\n",
              "    </tr>\n",
              "  </thead>\n",
              "  <tbody>\n",
              "    <tr>\n",
              "      <th>count</th>\n",
              "      <td>1000.000000</td>\n",
              "    </tr>\n",
              "    <tr>\n",
              "      <th>mean</th>\n",
              "      <td>246.371000</td>\n",
              "    </tr>\n",
              "    <tr>\n",
              "      <th>std</th>\n",
              "      <td>112.761565</td>\n",
              "    </tr>\n",
              "    <tr>\n",
              "      <th>min</th>\n",
              "      <td>1.000000</td>\n",
              "    </tr>\n",
              "    <tr>\n",
              "      <th>25%</th>\n",
              "      <td>171.000000</td>\n",
              "    </tr>\n",
              "    <tr>\n",
              "      <th>50%</th>\n",
              "      <td>241.000000</td>\n",
              "    </tr>\n",
              "    <tr>\n",
              "      <th>75%</th>\n",
              "      <td>320.000000</td>\n",
              "    </tr>\n",
              "    <tr>\n",
              "      <th>max</th>\n",
              "      <td>629.000000</td>\n",
              "    </tr>\n",
              "  </tbody>\n",
              "</table>\n",
              "</div>"
            ],
            "text/plain": [
              "       tempoAcesso\n",
              "count  1000.000000\n",
              "mean    246.371000\n",
              "std     112.761565\n",
              "min       1.000000\n",
              "25%     171.000000\n",
              "50%     241.000000\n",
              "75%     320.000000\n",
              "max     629.000000"
            ]
          },
          "execution_count": 13,
          "metadata": {},
          "output_type": "execute_result"
        }
      ],
      "source": [
        "tempo_de_acesso = atendimento_x_gini_estado[\"tempoAcesso\"]\n",
        "tempo_acesso = pd.DataFrame(tempo_de_acesso).describe()\n",
        "tempo_acesso"
      ]
    },
    {
      "cell_type": "markdown",
      "metadata": {
        "id": "IfFwo686klIz"
      },
      "source": [
        "**LETRA A) P(TEMPO ACESSO > 2 MINS)**"
      ]
    },
    {
      "cell_type": "code",
      "execution_count": 14,
      "metadata": {
        "colab": {
          "base_uri": "https://localhost:8080/"
        },
        "id": "py0W8iUukzvH",
        "outputId": "de21ecf1-6687-427d-cb1f-3c9a0ed597a6"
      },
      "outputs": [
        {
          "name": "stdout",
          "output_type": "stream",
          "text": [
            "Probabilidade do tempo ser maior que 2 minutos: 61.44%\n"
          ]
        }
      ],
      "source": [
        "probabilidade = 1 - expon.cdf(120, scale=tempo_acesso.loc[\"mean\", \"tempoAcesso\"])\n",
        "print(f\"Probabilidade do tempo ser maior que 2 minutos: {probabilidade:.2%}\")"
      ]
    },
    {
      "cell_type": "markdown",
      "metadata": {
        "id": "q7rMo3IZ35GQ"
      },
      "source": [
        "**LETRA B) P(1.5 MINS > TEMPO ACESSO > 2 MINS)**"
      ]
    },
    {
      "cell_type": "code",
      "execution_count": 15,
      "metadata": {
        "colab": {
          "base_uri": "https://localhost:8080/"
        },
        "id": "XiL8fHQJkz0D",
        "outputId": "c662a7ba-de24-4f84-e3fe-f127a42f9061"
      },
      "outputs": [
        {
          "name": "stdout",
          "output_type": "stream",
          "text": [
            "Probabilidade do tempo estar entre 1,5 e 2 minutos: 7.96%\n"
          ]
        }
      ],
      "source": [
        "probabilidade = expon.cdf(\n",
        "    120, scale=tempo_acesso.loc[\"mean\", \"tempoAcesso\"]\n",
        ") - expon.cdf(90, scale=tempo_acesso.loc[\"mean\", \"tempoAcesso\"])\n",
        "print(f\"Probabilidade do tempo estar entre 1,5 e 2 minutos: {probabilidade:.2%}\")"
      ]
    },
    {
      "cell_type": "markdown",
      "metadata": {
        "id": "7d5DXI-k35GR"
      },
      "source": [
        "**LETRA C) P(TEMPO ACESSO < 0.5 MINS)**"
      ]
    },
    {
      "cell_type": "code",
      "execution_count": 16,
      "metadata": {
        "colab": {
          "base_uri": "https://localhost:8080/"
        },
        "id": "pdIkaqQ4kz85",
        "outputId": "7cb32b7c-fd03-43e7-ce03-2ed566b5cf0e"
      },
      "outputs": [
        {
          "name": "stdout",
          "output_type": "stream",
          "text": [
            "Probabilidade do tempo ser menor que 30 segundos: 11.46%\n"
          ]
        }
      ],
      "source": [
        "probabilidade = expon.cdf(30, scale=tempo_acesso.loc[\"mean\", \"tempoAcesso\"])\n",
        "print(f\"Probabilidade do tempo ser menor que 30 segundos: {probabilidade:.2%}\")"
      ]
    },
    {
      "cell_type": "markdown",
      "metadata": {
        "id": "Wzoij_cu35GR"
      },
      "source": [
        "**LETRA D) P(GINI > 20%)**"
      ]
    },
    {
      "cell_type": "code",
      "execution_count": 17,
      "metadata": {
        "colab": {
          "base_uri": "https://localhost:8080/"
        },
        "id": "0hDH4iPnk0EP",
        "outputId": "ab5a98ac-02d0-4e9d-acaf-1fc658ff341e"
      },
      "outputs": [
        {
          "name": "stdout",
          "output_type": "stream",
          "text": [
            "Probabilidade do gini ser maior que 20%: 6.18%\n"
          ]
        }
      ],
      "source": [
        "probabilidade = 1 - norm.cdf(\n",
        "    0.2,\n",
        "    loc=atendimento_x_gini_estado[\"gini\"].mean(),\n",
        "    scale=atendimento_x_gini_estado[\"gini\"].std(),\n",
        ")\n",
        "print(f\"Probabilidade do gini ser maior que 20%: {probabilidade:.2%}\")"
      ]
    },
    {
      "cell_type": "markdown",
      "metadata": {
        "id": "s9HsoNhu35GR"
      },
      "source": [
        "**LETRA E) P(10% > GINI > 15%)**"
      ]
    },
    {
      "cell_type": "code",
      "execution_count": 18,
      "metadata": {
        "colab": {
          "base_uri": "https://localhost:8080/"
        },
        "id": "z5uBr9CA35GS",
        "outputId": "b1ef7306-36d2-465c-a24f-a7fffed17d5a"
      },
      "outputs": [
        {
          "name": "stdout",
          "output_type": "stream",
          "text": [
            "Probabilidade do gini estar entre 10 e 15%: 36.54%\n"
          ]
        }
      ],
      "source": [
        "probabilidade = norm.cdf(\n",
        "    0.15,\n",
        "    loc=atendimento_x_gini_estado[\"gini\"].mean(),\n",
        "    scale=atendimento_x_gini_estado[\"gini\"].std(),\n",
        ") - norm.cdf(\n",
        "    0.1,\n",
        "    loc=atendimento_x_gini_estado[\"gini\"].mean(),\n",
        "    scale=atendimento_x_gini_estado[\"gini\"].std(),\n",
        ")\n",
        "print(f\"Probabilidade do gini estar entre 10 e 15%: {probabilidade:.2%}\")"
      ]
    },
    {
      "cell_type": "markdown",
      "metadata": {
        "id": "SiPfVYEj35GS"
      },
      "source": [
        "**LETRA F) P(GINI < 12%)**"
      ]
    },
    {
      "cell_type": "code",
      "execution_count": 19,
      "metadata": {
        "colab": {
          "base_uri": "https://localhost:8080/"
        },
        "id": "_z9BDPk735GS",
        "outputId": "4e3c0b34-4a03-4752-8f81-5fc6cb83bcb5"
      },
      "outputs": [
        {
          "name": "stdout",
          "output_type": "stream",
          "text": [
            "Probabilidade do gini ser menor que 12%: 7.98%\n"
          ]
        }
      ],
      "source": [
        "probabilidade = norm.cdf(\n",
        "    0.12,\n",
        "    loc=atendimento_x_gini_estado[\"gini\"].mean(),\n",
        "    scale=atendimento_x_gini_estado[\"gini\"].std(),\n",
        ")\n",
        "print(f\"Probabilidade do gini ser menor que 12%: {probabilidade:.2%}\")"
      ]
    },
    {
      "cell_type": "markdown",
      "metadata": {
        "id": "mwyz8WarNYzx"
      },
      "source": [
        "## Questão 5 – Baseando-se na variável TempoAcesso, qual o tamanho de amostra para realizar um estudo\n",
        "### Com estes dados? Utilizar margem de erro de 15 segundos e nível de confiança de 95%."
      ]
    },
    {
      "cell_type": "code",
      "execution_count": 20,
      "metadata": {
        "colab": {
          "base_uri": "https://localhost:8080/"
        },
        "id": "5MpU5U2X7qJc",
        "outputId": "a7033981-bba6-4f23-8628-9d62bf0311e6"
      },
      "outputs": [
        {
          "data": {
            "text/plain": [
              "count    1000.000000\n",
              "mean      246.371000\n",
              "std       112.761565\n",
              "min         1.000000\n",
              "25%       171.000000\n",
              "50%       241.000000\n",
              "75%       320.000000\n",
              "max       629.000000\n",
              "Name: tempoAcesso, dtype: float64"
            ]
          },
          "execution_count": 20,
          "metadata": {},
          "output_type": "execute_result"
        }
      ],
      "source": [
        "atendimento_x_gini_estado[\"tempoAcesso\"].describe()"
      ]
    },
    {
      "cell_type": "code",
      "execution_count": 21,
      "metadata": {
        "id": "C4YdweTO4UNG"
      },
      "outputs": [],
      "source": [
        "def formula_amostra_continua(N, S, Z, ME):\n",
        "    n = (Z**2 * S**2 * N) / ((ME**2 * (N - 1)) + (Z**2 * S**2))\n",
        "    return int(n)"
      ]
    },
    {
      "cell_type": "code",
      "execution_count": 22,
      "metadata": {
        "id": "XgRHemFq4UUD"
      },
      "outputs": [],
      "source": [
        "N = 1000\n",
        "Z = 1.96\n",
        "S = 112.76\n",
        "ME = 15"
      ]
    },
    {
      "cell_type": "code",
      "execution_count": 23,
      "metadata": {
        "colab": {
          "base_uri": "https://localhost:8080/"
        },
        "id": "8c88PhyW4U8E",
        "outputId": "6c9c187b-4be7-4f2d-d9ef-df98f0bce59a"
      },
      "outputs": [
        {
          "data": {
            "text/plain": [
              "178"
            ]
          },
          "execution_count": 23,
          "metadata": {},
          "output_type": "execute_result"
        }
      ],
      "source": [
        "n = formula_amostra_continua(N, S, Z, ME)\n",
        "n"
      ]
    },
    {
      "cell_type": "markdown",
      "metadata": {
        "id": "cv3CIUvb0Mep"
      },
      "source": [
        "## Questão 6 - Após obter o tamanho de amostra, gerar dois novos dataframes conforme o seguinte:"
      ]
    },
    {
      "cell_type": "markdown",
      "metadata": {
        "id": "AikzBptR0MjB"
      },
      "source": [
        "**letra a) Criar um dataframe chamado df_aas usando amostra aleatória simples**"
      ]
    },
    {
      "cell_type": "code",
      "execution_count": 24,
      "metadata": {
        "id": "KVhxt8HR7091"
      },
      "outputs": [],
      "source": [
        "dados_amostra_simples = atendimento_x_gini_estado.sample(n=n, random_state=1245)"
      ]
    },
    {
      "cell_type": "code",
      "execution_count": 25,
      "metadata": {
        "id": "yZEhmOfKNY5c"
      },
      "outputs": [],
      "source": [
        "amostra_simples = atendimento_x_gini_estado.agg(\n",
        "    media_tempoAcesso=pd.NamedAgg(\"tempoAcesso\", \"mean\"),\n",
        "    dp_tempoAcesso=pd.NamedAgg(\"tempoAcesso\", \"std\"),\n",
        "    N=pd.NamedAgg(\"tempoAcesso\", \"count\"),\n",
        ")"
      ]
    },
    {
      "cell_type": "code",
      "execution_count": 26,
      "metadata": {
        "colab": {
          "base_uri": "https://localhost:8080/",
          "height": 143
        },
        "id": "adUqtwkp9SxD",
        "outputId": "4917e838-2c0f-4c58-8878-224457b126e2"
      },
      "outputs": [
        {
          "data": {
            "text/html": [
              "<div>\n",
              "<style scoped>\n",
              "    .dataframe tbody tr th:only-of-type {\n",
              "        vertical-align: middle;\n",
              "    }\n",
              "\n",
              "    .dataframe tbody tr th {\n",
              "        vertical-align: top;\n",
              "    }\n",
              "\n",
              "    .dataframe thead th {\n",
              "        text-align: right;\n",
              "    }\n",
              "</style>\n",
              "<table border=\"1\" class=\"dataframe\">\n",
              "  <thead>\n",
              "    <tr style=\"text-align: right;\">\n",
              "      <th></th>\n",
              "      <th>tempoAcesso</th>\n",
              "    </tr>\n",
              "  </thead>\n",
              "  <tbody>\n",
              "    <tr>\n",
              "      <th>media_tempoAcesso</th>\n",
              "      <td>246.371000</td>\n",
              "    </tr>\n",
              "    <tr>\n",
              "      <th>dp_tempoAcesso</th>\n",
              "      <td>112.761565</td>\n",
              "    </tr>\n",
              "    <tr>\n",
              "      <th>N</th>\n",
              "      <td>1000.000000</td>\n",
              "    </tr>\n",
              "  </tbody>\n",
              "</table>\n",
              "</div>"
            ],
            "text/plain": [
              "                   tempoAcesso\n",
              "media_tempoAcesso   246.371000\n",
              "dp_tempoAcesso      112.761565\n",
              "N                  1000.000000"
            ]
          },
          "execution_count": 26,
          "metadata": {},
          "output_type": "execute_result"
        }
      ],
      "source": [
        "amostra_simples = pd.DataFrame(amostra_simples)\n",
        "df_aas = pd.DataFrame(amostra_simples)\n",
        "df_aas"
      ]
    },
    {
      "cell_type": "markdown",
      "metadata": {
        "id": "OfqgXnm-D2CY"
      },
      "source": [
        "**b) Criar um dataframe chamado df_aae usando amostra aleatória estratificada. Utilizar como estrato a variável “avaliacao”.**\n"
      ]
    },
    {
      "cell_type": "code",
      "execution_count": 27,
      "metadata": {
        "id": "KiyiO_D7-udi"
      },
      "outputs": [],
      "source": [
        "dados_amostra_estrat = train_test_split(\n",
        "    atendimento_x_gini_estado,\n",
        "    test_size=n,\n",
        "    random_state=1245,\n",
        "    stratify=atendimento_x_gini_estado[\"avaliacao\"],\n",
        ")[1]"
      ]
    },
    {
      "cell_type": "code",
      "execution_count": 28,
      "metadata": {
        "colab": {
          "base_uri": "https://localhost:8080/",
          "height": 782
        },
        "id": "9HtM7JOx8rQx",
        "outputId": "4d1ebb34-c53c-46fe-c538-c635a4809091"
      },
      "outputs": [
        {
          "data": {
            "text/html": [
              "<div>\n",
              "<style scoped>\n",
              "    .dataframe tbody tr th:only-of-type {\n",
              "        vertical-align: middle;\n",
              "    }\n",
              "\n",
              "    .dataframe tbody tr th {\n",
              "        vertical-align: top;\n",
              "    }\n",
              "\n",
              "    .dataframe thead th {\n",
              "        text-align: right;\n",
              "    }\n",
              "</style>\n",
              "<table border=\"1\" class=\"dataframe\">\n",
              "  <thead>\n",
              "    <tr style=\"text-align: right;\">\n",
              "      <th></th>\n",
              "      <th>idEntrada</th>\n",
              "      <th>state</th>\n",
              "      <th>usuarioOnline</th>\n",
              "      <th>statusSaida</th>\n",
              "      <th>paginaSaida</th>\n",
              "      <th>avaliacao</th>\n",
              "      <th>dataHoraEntrada</th>\n",
              "      <th>dataHoraSaida</th>\n",
              "      <th>dataHoraErro</th>\n",
              "      <th>tempoAcesso</th>\n",
              "      <th>codigo</th>\n",
              "      <th>erro</th>\n",
              "      <th>gini</th>\n",
              "      <th>media_tempoAcesso</th>\n",
              "      <th>dp_tempoAcesso</th>\n",
              "      <th>N</th>\n",
              "      <th>percent</th>\n",
              "    </tr>\n",
              "  </thead>\n",
              "  <tbody>\n",
              "    <tr>\n",
              "      <th>0</th>\n",
              "      <td>74</td>\n",
              "      <td>CE</td>\n",
              "      <td>0</td>\n",
              "      <td>100%</td>\n",
              "      <td>0</td>\n",
              "      <td>n/ avaliado</td>\n",
              "      <td>18/05/2021 17:57</td>\n",
              "      <td>18/05/2021 18:00</td>\n",
              "      <td>18/05/2021 17:59</td>\n",
              "      <td>155</td>\n",
              "      <td>500</td>\n",
              "      <td>\"ERRO AO EXECUTAR SERVICO: REQUESTCREDITSERVICE\"</td>\n",
              "      <td>0.132551</td>\n",
              "      <td>237.309524</td>\n",
              "      <td>129.397193</td>\n",
              "      <td>42</td>\n",
              "      <td>0.235955</td>\n",
              "    </tr>\n",
              "    <tr>\n",
              "      <th>1</th>\n",
              "      <td>99</td>\n",
              "      <td>CE</td>\n",
              "      <td>0</td>\n",
              "      <td>60%</td>\n",
              "      <td>2</td>\n",
              "      <td>n/ avaliado</td>\n",
              "      <td>18/05/2021 17:57</td>\n",
              "      <td>18/05/2021 18:01</td>\n",
              "      <td>18/05/2021 17:59</td>\n",
              "      <td>212</td>\n",
              "      <td>550</td>\n",
              "      <td>\"NAO ENCONTROU DADOS PARA A SELECAO\"</td>\n",
              "      <td>0.132551</td>\n",
              "      <td>237.309524</td>\n",
              "      <td>129.397193</td>\n",
              "      <td>42</td>\n",
              "      <td>0.235955</td>\n",
              "    </tr>\n",
              "    <tr>\n",
              "      <th>2</th>\n",
              "      <td>155</td>\n",
              "      <td>CE</td>\n",
              "      <td>0</td>\n",
              "      <td>100%</td>\n",
              "      <td>0</td>\n",
              "      <td>n/ avaliado</td>\n",
              "      <td>18/05/2021 17:57</td>\n",
              "      <td>18/05/2021 18:01</td>\n",
              "      <td>18/05/2021 17:59</td>\n",
              "      <td>226</td>\n",
              "      <td>500</td>\n",
              "      <td>\"OPS! NÃO FOI POSSIVEL CONSULTAR O SALDO. TENT...</td>\n",
              "      <td>0.132551</td>\n",
              "      <td>237.309524</td>\n",
              "      <td>129.397193</td>\n",
              "      <td>42</td>\n",
              "      <td>0.235955</td>\n",
              "    </tr>\n",
              "    <tr>\n",
              "      <th>3</th>\n",
              "      <td>343</td>\n",
              "      <td>CE</td>\n",
              "      <td>0</td>\n",
              "      <td>60%</td>\n",
              "      <td>2</td>\n",
              "      <td>n/ avaliado</td>\n",
              "      <td>18/05/2021 17:57</td>\n",
              "      <td>18/05/2021 18:04</td>\n",
              "      <td>18/05/2021 18:04</td>\n",
              "      <td>441</td>\n",
              "      <td>500</td>\n",
              "      <td>\"CLIENTE NAO CADASTRADO\"</td>\n",
              "      <td>0.132551</td>\n",
              "      <td>237.309524</td>\n",
              "      <td>129.397193</td>\n",
              "      <td>42</td>\n",
              "      <td>0.235955</td>\n",
              "    </tr>\n",
              "    <tr>\n",
              "      <th>4</th>\n",
              "      <td>462</td>\n",
              "      <td>CE</td>\n",
              "      <td>0</td>\n",
              "      <td>60%</td>\n",
              "      <td>2</td>\n",
              "      <td>n/ avaliado</td>\n",
              "      <td>18/05/2021 17:57</td>\n",
              "      <td>18/05/2021 18:00</td>\n",
              "      <td>18/05/2021 17:59</td>\n",
              "      <td>198</td>\n",
              "      <td>550</td>\n",
              "      <td>\"NO MOMENTO ESTE SERIVCO ESTA INDISPONIVEL. PO...</td>\n",
              "      <td>0.132551</td>\n",
              "      <td>237.309524</td>\n",
              "      <td>129.397193</td>\n",
              "      <td>42</td>\n",
              "      <td>0.235955</td>\n",
              "    </tr>\n",
              "    <tr>\n",
              "      <th>...</th>\n",
              "      <td>...</td>\n",
              "      <td>...</td>\n",
              "      <td>...</td>\n",
              "      <td>...</td>\n",
              "      <td>...</td>\n",
              "      <td>...</td>\n",
              "      <td>...</td>\n",
              "      <td>...</td>\n",
              "      <td>...</td>\n",
              "      <td>...</td>\n",
              "      <td>...</td>\n",
              "      <td>...</td>\n",
              "      <td>...</td>\n",
              "      <td>...</td>\n",
              "      <td>...</td>\n",
              "      <td>...</td>\n",
              "      <td>...</td>\n",
              "    </tr>\n",
              "    <tr>\n",
              "      <th>995</th>\n",
              "      <td>494</td>\n",
              "      <td>PA</td>\n",
              "      <td>0</td>\n",
              "      <td>40%</td>\n",
              "      <td>3</td>\n",
              "      <td>positiva</td>\n",
              "      <td>18/05/2021 17:57</td>\n",
              "      <td>18/05/2021 17:59</td>\n",
              "      <td>18/05/2021 17:57</td>\n",
              "      <td>109</td>\n",
              "      <td>500</td>\n",
              "      <td>\"DESCULPE TIVEMOS UM PROBLEMA E NAO CONSEGUIMO...</td>\n",
              "      <td>0.208619</td>\n",
              "      <td>233.800000</td>\n",
              "      <td>88.355326</td>\n",
              "      <td>45</td>\n",
              "      <td>0.252809</td>\n",
              "    </tr>\n",
              "    <tr>\n",
              "      <th>996</th>\n",
              "      <td>502</td>\n",
              "      <td>PA</td>\n",
              "      <td>1</td>\n",
              "      <td>80%</td>\n",
              "      <td>1</td>\n",
              "      <td>positiva</td>\n",
              "      <td>18/05/2021 17:57</td>\n",
              "      <td>18/05/2021 17:59</td>\n",
              "      <td>18/05/2021 17:58</td>\n",
              "      <td>121</td>\n",
              "      <td>500</td>\n",
              "      <td>\"OPS! NÃO FOI POSSIVEL CONSULTAR O SALDO. TENT...</td>\n",
              "      <td>0.208619</td>\n",
              "      <td>233.800000</td>\n",
              "      <td>88.355326</td>\n",
              "      <td>45</td>\n",
              "      <td>0.252809</td>\n",
              "    </tr>\n",
              "    <tr>\n",
              "      <th>997</th>\n",
              "      <td>568</td>\n",
              "      <td>PA</td>\n",
              "      <td>0</td>\n",
              "      <td>40%</td>\n",
              "      <td>3</td>\n",
              "      <td>positiva</td>\n",
              "      <td>18/05/2021 17:57</td>\n",
              "      <td>18/05/2021 18:02</td>\n",
              "      <td>18/05/2021 18:01</td>\n",
              "      <td>310</td>\n",
              "      <td>550</td>\n",
              "      <td>\"NO MOMENTO ESTE SERIVCO ESTA INDISPONIVEL. PO...</td>\n",
              "      <td>0.208619</td>\n",
              "      <td>233.800000</td>\n",
              "      <td>88.355326</td>\n",
              "      <td>45</td>\n",
              "      <td>0.252809</td>\n",
              "    </tr>\n",
              "    <tr>\n",
              "      <th>998</th>\n",
              "      <td>731</td>\n",
              "      <td>PA</td>\n",
              "      <td>0</td>\n",
              "      <td>60%</td>\n",
              "      <td>2</td>\n",
              "      <td>positiva</td>\n",
              "      <td>18/05/2021 17:57</td>\n",
              "      <td>18/05/2021 18:05</td>\n",
              "      <td>18/05/2021 18:03</td>\n",
              "      <td>449</td>\n",
              "      <td>500</td>\n",
              "      <td>\"SENHA INCORRETA\"</td>\n",
              "      <td>0.208619</td>\n",
              "      <td>233.800000</td>\n",
              "      <td>88.355326</td>\n",
              "      <td>45</td>\n",
              "      <td>0.252809</td>\n",
              "    </tr>\n",
              "    <tr>\n",
              "      <th>999</th>\n",
              "      <td>817</td>\n",
              "      <td>PA</td>\n",
              "      <td>1</td>\n",
              "      <td>80%</td>\n",
              "      <td>1</td>\n",
              "      <td>positiva</td>\n",
              "      <td>18/05/2021 17:57</td>\n",
              "      <td>18/05/2021 18:01</td>\n",
              "      <td>18/05/2021 18:00</td>\n",
              "      <td>217</td>\n",
              "      <td>500</td>\n",
              "      <td>\"ERRO AO EXECUTAR SERVICO: REQUESTCREDITSERVICE\"</td>\n",
              "      <td>0.208619</td>\n",
              "      <td>233.800000</td>\n",
              "      <td>88.355326</td>\n",
              "      <td>45</td>\n",
              "      <td>0.252809</td>\n",
              "    </tr>\n",
              "  </tbody>\n",
              "</table>\n",
              "<p>1000 rows × 17 columns</p>\n",
              "</div>"
            ],
            "text/plain": [
              "     idEntrada state  usuarioOnline statusSaida  paginaSaida    avaliacao  \\\n",
              "0           74    CE              0        100%            0  n/ avaliado   \n",
              "1           99    CE              0         60%            2  n/ avaliado   \n",
              "2          155    CE              0        100%            0  n/ avaliado   \n",
              "3          343    CE              0         60%            2  n/ avaliado   \n",
              "4          462    CE              0         60%            2  n/ avaliado   \n",
              "..         ...   ...            ...         ...          ...          ...   \n",
              "995        494    PA              0         40%            3     positiva   \n",
              "996        502    PA              1         80%            1     positiva   \n",
              "997        568    PA              0         40%            3     positiva   \n",
              "998        731    PA              0         60%            2     positiva   \n",
              "999        817    PA              1         80%            1     positiva   \n",
              "\n",
              "      dataHoraEntrada     dataHoraSaida      dataHoraErro  tempoAcesso  \\\n",
              "0    18/05/2021 17:57  18/05/2021 18:00  18/05/2021 17:59          155   \n",
              "1    18/05/2021 17:57  18/05/2021 18:01  18/05/2021 17:59          212   \n",
              "2    18/05/2021 17:57  18/05/2021 18:01  18/05/2021 17:59          226   \n",
              "3    18/05/2021 17:57  18/05/2021 18:04  18/05/2021 18:04          441   \n",
              "4    18/05/2021 17:57  18/05/2021 18:00  18/05/2021 17:59          198   \n",
              "..                ...               ...               ...          ...   \n",
              "995  18/05/2021 17:57  18/05/2021 17:59  18/05/2021 17:57          109   \n",
              "996  18/05/2021 17:57  18/05/2021 17:59  18/05/2021 17:58          121   \n",
              "997  18/05/2021 17:57  18/05/2021 18:02  18/05/2021 18:01          310   \n",
              "998  18/05/2021 17:57  18/05/2021 18:05  18/05/2021 18:03          449   \n",
              "999  18/05/2021 17:57  18/05/2021 18:01  18/05/2021 18:00          217   \n",
              "\n",
              "     codigo                                               erro      gini  \\\n",
              "0       500   \"ERRO AO EXECUTAR SERVICO: REQUESTCREDITSERVICE\"  0.132551   \n",
              "1       550               \"NAO ENCONTROU DADOS PARA A SELECAO\"  0.132551   \n",
              "2       500  \"OPS! NÃO FOI POSSIVEL CONSULTAR O SALDO. TENT...  0.132551   \n",
              "3       500                           \"CLIENTE NAO CADASTRADO\"  0.132551   \n",
              "4       550  \"NO MOMENTO ESTE SERIVCO ESTA INDISPONIVEL. PO...  0.132551   \n",
              "..      ...                                                ...       ...   \n",
              "995     500  \"DESCULPE TIVEMOS UM PROBLEMA E NAO CONSEGUIMO...  0.208619   \n",
              "996     500  \"OPS! NÃO FOI POSSIVEL CONSULTAR O SALDO. TENT...  0.208619   \n",
              "997     550  \"NO MOMENTO ESTE SERIVCO ESTA INDISPONIVEL. PO...  0.208619   \n",
              "998     500                                  \"SENHA INCORRETA\"  0.208619   \n",
              "999     500   \"ERRO AO EXECUTAR SERVICO: REQUESTCREDITSERVICE\"  0.208619   \n",
              "\n",
              "     media_tempoAcesso  dp_tempoAcesso   N   percent  \n",
              "0           237.309524      129.397193  42  0.235955  \n",
              "1           237.309524      129.397193  42  0.235955  \n",
              "2           237.309524      129.397193  42  0.235955  \n",
              "3           237.309524      129.397193  42  0.235955  \n",
              "4           237.309524      129.397193  42  0.235955  \n",
              "..                 ...             ...  ..       ...  \n",
              "995         233.800000       88.355326  45  0.252809  \n",
              "996         233.800000       88.355326  45  0.252809  \n",
              "997         233.800000       88.355326  45  0.252809  \n",
              "998         233.800000       88.355326  45  0.252809  \n",
              "999         233.800000       88.355326  45  0.252809  \n",
              "\n",
              "[1000 rows x 17 columns]"
            ]
          },
          "execution_count": 28,
          "metadata": {},
          "output_type": "execute_result"
        }
      ],
      "source": [
        "amostra_estratificada = dados_amostra_estrat.groupby(\"avaliacao\").agg(\n",
        "    media_tempoAcesso=pd.NamedAgg(\"tempoAcesso\", \"mean\"),\n",
        "    dp_tempoAcesso=pd.NamedAgg(\"tempoAcesso\", \"std\"),\n",
        "    N=pd.NamedAgg(\"tempoAcesso\", \"count\"),\n",
        ")\n",
        "\n",
        "amostra_estratificada[\"percent\"] = amostra_estratificada[\"N\"] / sum(\n",
        "    amostra_estratificada[\"N\"]\n",
        ")\n",
        "amostra_estratificada = pd.DataFrame(amostra_estratificada)\n",
        "df_aae = pd.merge(\n",
        "    atendimento_x_gini_estado, amostra_estratificada, how=\"right\", on=\"avaliacao\"\n",
        ")\n",
        "df_aae"
      ]
    },
    {
      "cell_type": "markdown",
      "metadata": {
        "id": "mL4IG9068rU4"
      },
      "source": [
        "## Questão 7 - No dataframe df_aas realizar as seguintes análises:"
      ]
    },
    {
      "cell_type": "code",
      "execution_count": 29,
      "metadata": {
        "colab": {
          "base_uri": "https://localhost:8080/",
          "height": 143
        },
        "id": "WXIE8I1V_PW6",
        "outputId": "4259ab47-94ca-4854-eeff-7f635bc6edaf"
      },
      "outputs": [
        {
          "data": {
            "text/html": [
              "<div>\n",
              "<style scoped>\n",
              "    .dataframe tbody tr th:only-of-type {\n",
              "        vertical-align: middle;\n",
              "    }\n",
              "\n",
              "    .dataframe tbody tr th {\n",
              "        vertical-align: top;\n",
              "    }\n",
              "\n",
              "    .dataframe thead th {\n",
              "        text-align: right;\n",
              "    }\n",
              "</style>\n",
              "<table border=\"1\" class=\"dataframe\">\n",
              "  <thead>\n",
              "    <tr style=\"text-align: right;\">\n",
              "      <th></th>\n",
              "      <th>tempoAcesso</th>\n",
              "    </tr>\n",
              "  </thead>\n",
              "  <tbody>\n",
              "    <tr>\n",
              "      <th>media_tempoAcesso</th>\n",
              "      <td>246.371000</td>\n",
              "    </tr>\n",
              "    <tr>\n",
              "      <th>dp_tempoAcesso</th>\n",
              "      <td>112.761565</td>\n",
              "    </tr>\n",
              "    <tr>\n",
              "      <th>N</th>\n",
              "      <td>1000.000000</td>\n",
              "    </tr>\n",
              "  </tbody>\n",
              "</table>\n",
              "</div>"
            ],
            "text/plain": [
              "                   tempoAcesso\n",
              "media_tempoAcesso   246.371000\n",
              "dp_tempoAcesso      112.761565\n",
              "N                  1000.000000"
            ]
          },
          "execution_count": 29,
          "metadata": {},
          "output_type": "execute_result"
        }
      ],
      "source": [
        "df_aas"
      ]
    },
    {
      "cell_type": "code",
      "execution_count": 30,
      "metadata": {
        "colab": {
          "base_uri": "https://localhost:8080/",
          "height": 300
        },
        "id": "_vzNtBhU_Urg",
        "outputId": "6975bb3d-9d85-4aa9-cc8f-f5b912ca820a"
      },
      "outputs": [
        {
          "data": {
            "text/html": [
              "<div>\n",
              "<style scoped>\n",
              "    .dataframe tbody tr th:only-of-type {\n",
              "        vertical-align: middle;\n",
              "    }\n",
              "\n",
              "    .dataframe tbody tr th {\n",
              "        vertical-align: top;\n",
              "    }\n",
              "\n",
              "    .dataframe thead th {\n",
              "        text-align: right;\n",
              "    }\n",
              "</style>\n",
              "<table border=\"1\" class=\"dataframe\">\n",
              "  <thead>\n",
              "    <tr style=\"text-align: right;\">\n",
              "      <th></th>\n",
              "      <th>tempoAcesso</th>\n",
              "    </tr>\n",
              "  </thead>\n",
              "  <tbody>\n",
              "    <tr>\n",
              "      <th>count</th>\n",
              "      <td>1000.000000</td>\n",
              "    </tr>\n",
              "    <tr>\n",
              "      <th>mean</th>\n",
              "      <td>246.371000</td>\n",
              "    </tr>\n",
              "    <tr>\n",
              "      <th>std</th>\n",
              "      <td>112.761565</td>\n",
              "    </tr>\n",
              "    <tr>\n",
              "      <th>min</th>\n",
              "      <td>1.000000</td>\n",
              "    </tr>\n",
              "    <tr>\n",
              "      <th>25%</th>\n",
              "      <td>171.000000</td>\n",
              "    </tr>\n",
              "    <tr>\n",
              "      <th>50%</th>\n",
              "      <td>241.000000</td>\n",
              "    </tr>\n",
              "    <tr>\n",
              "      <th>75%</th>\n",
              "      <td>320.000000</td>\n",
              "    </tr>\n",
              "    <tr>\n",
              "      <th>max</th>\n",
              "      <td>629.000000</td>\n",
              "    </tr>\n",
              "  </tbody>\n",
              "</table>\n",
              "</div>"
            ],
            "text/plain": [
              "       tempoAcesso\n",
              "count  1000.000000\n",
              "mean    246.371000\n",
              "std     112.761565\n",
              "min       1.000000\n",
              "25%     171.000000\n",
              "50%     241.000000\n",
              "75%     320.000000\n",
              "max     629.000000"
            ]
          },
          "execution_count": 30,
          "metadata": {},
          "output_type": "execute_result"
        }
      ],
      "source": [
        "tempo_acesso"
      ]
    },
    {
      "cell_type": "code",
      "execution_count": 31,
      "metadata": {
        "colab": {
          "base_uri": "https://localhost:8080/",
          "height": 300
        },
        "id": "LVmuBt9U_4P-",
        "outputId": "478b6276-21f4-4927-bcdd-11163efa7031"
      },
      "outputs": [
        {
          "data": {
            "text/html": [
              "<div>\n",
              "<style scoped>\n",
              "    .dataframe tbody tr th:only-of-type {\n",
              "        vertical-align: middle;\n",
              "    }\n",
              "\n",
              "    .dataframe tbody tr th {\n",
              "        vertical-align: top;\n",
              "    }\n",
              "\n",
              "    .dataframe thead th {\n",
              "        text-align: right;\n",
              "    }\n",
              "</style>\n",
              "<table border=\"1\" class=\"dataframe\">\n",
              "  <thead>\n",
              "    <tr style=\"text-align: right;\">\n",
              "      <th></th>\n",
              "      <th>gini</th>\n",
              "    </tr>\n",
              "  </thead>\n",
              "  <tbody>\n",
              "    <tr>\n",
              "      <th>count</th>\n",
              "      <td>1000.000000</td>\n",
              "    </tr>\n",
              "    <tr>\n",
              "      <th>mean</th>\n",
              "      <td>0.158188</td>\n",
              "    </tr>\n",
              "    <tr>\n",
              "      <th>std</th>\n",
              "      <td>0.027156</td>\n",
              "    </tr>\n",
              "    <tr>\n",
              "      <th>min</th>\n",
              "      <td>0.127922</td>\n",
              "    </tr>\n",
              "    <tr>\n",
              "      <th>25%</th>\n",
              "      <td>0.138104</td>\n",
              "    </tr>\n",
              "    <tr>\n",
              "      <th>50%</th>\n",
              "      <td>0.149203</td>\n",
              "    </tr>\n",
              "    <tr>\n",
              "      <th>75%</th>\n",
              "      <td>0.173719</td>\n",
              "    </tr>\n",
              "    <tr>\n",
              "      <th>max</th>\n",
              "      <td>0.241690</td>\n",
              "    </tr>\n",
              "  </tbody>\n",
              "</table>\n",
              "</div>"
            ],
            "text/plain": [
              "              gini\n",
              "count  1000.000000\n",
              "mean      0.158188\n",
              "std       0.027156\n",
              "min       0.127922\n",
              "25%       0.138104\n",
              "50%       0.149203\n",
              "75%       0.173719\n",
              "max       0.241690"
            ]
          },
          "execution_count": 31,
          "metadata": {},
          "output_type": "execute_result"
        }
      ],
      "source": [
        "gini_1 = atendimento_x_gini_estado[\"gini\"]\n",
        "gini_ = pd.DataFrame(gini_1).describe()\n",
        "gini_"
      ]
    },
    {
      "cell_type": "markdown",
      "metadata": {
        "id": "o8WCckQmGBQU"
      },
      "source": [
        "**Letra a) Comparar as medidas descritivas para TempoAcesso com o dataset original. Houve diferenças significativas?**\n"
      ]
    },
    {
      "cell_type": "markdown",
      "metadata": {
        "id": "8EdzzP-8GBT2"
      },
      "source": [
        "Não houve nenhuma diferença nesses dados"
      ]
    },
    {
      "cell_type": "markdown",
      "metadata": {
        "id": "uztcoc6tGBYu"
      },
      "source": [
        "**Letra b) Comparar as medidas descritivas para Gini com o dataset original. Houve diferenças significativas?**\n"
      ]
    },
    {
      "cell_type": "markdown",
      "metadata": {
        "id": "vUnxlnQQBI3w"
      },
      "source": [
        "Também não houve alterações em relações ao original"
      ]
    },
    {
      "cell_type": "markdown",
      "metadata": {
        "id": "EZGr8PvRCOEB"
      },
      "source": [
        "**Letra c) Obter as proporções da variável “avaliacao” e compare com o dataset original.**"
      ]
    },
    {
      "cell_type": "markdown",
      "metadata": {
        "id": "KLxBxcWJCXGf"
      },
      "source": [
        "## Questão 8 - No dataframe df_aae realizar as seguintes análises:"
      ]
    },
    {
      "cell_type": "code",
      "execution_count": 32,
      "metadata": {
        "colab": {
          "base_uri": "https://localhost:8080/",
          "height": 782
        },
        "id": "9ZBf4gehDGms",
        "outputId": "9ca1d56c-f282-4a43-8bcf-f68a3688fce5"
      },
      "outputs": [
        {
          "data": {
            "text/html": [
              "<div>\n",
              "<style scoped>\n",
              "    .dataframe tbody tr th:only-of-type {\n",
              "        vertical-align: middle;\n",
              "    }\n",
              "\n",
              "    .dataframe tbody tr th {\n",
              "        vertical-align: top;\n",
              "    }\n",
              "\n",
              "    .dataframe thead th {\n",
              "        text-align: right;\n",
              "    }\n",
              "</style>\n",
              "<table border=\"1\" class=\"dataframe\">\n",
              "  <thead>\n",
              "    <tr style=\"text-align: right;\">\n",
              "      <th></th>\n",
              "      <th>idEntrada</th>\n",
              "      <th>state</th>\n",
              "      <th>usuarioOnline</th>\n",
              "      <th>statusSaida</th>\n",
              "      <th>paginaSaida</th>\n",
              "      <th>avaliacao</th>\n",
              "      <th>dataHoraEntrada</th>\n",
              "      <th>dataHoraSaida</th>\n",
              "      <th>dataHoraErro</th>\n",
              "      <th>tempoAcesso</th>\n",
              "      <th>codigo</th>\n",
              "      <th>erro</th>\n",
              "      <th>gini</th>\n",
              "      <th>media_tempoAcesso</th>\n",
              "      <th>dp_tempoAcesso</th>\n",
              "      <th>N</th>\n",
              "      <th>percent</th>\n",
              "    </tr>\n",
              "  </thead>\n",
              "  <tbody>\n",
              "    <tr>\n",
              "      <th>0</th>\n",
              "      <td>74</td>\n",
              "      <td>CE</td>\n",
              "      <td>0</td>\n",
              "      <td>100%</td>\n",
              "      <td>0</td>\n",
              "      <td>n/ avaliado</td>\n",
              "      <td>18/05/2021 17:57</td>\n",
              "      <td>18/05/2021 18:00</td>\n",
              "      <td>18/05/2021 17:59</td>\n",
              "      <td>155</td>\n",
              "      <td>500</td>\n",
              "      <td>\"ERRO AO EXECUTAR SERVICO: REQUESTCREDITSERVICE\"</td>\n",
              "      <td>0.132551</td>\n",
              "      <td>237.309524</td>\n",
              "      <td>129.397193</td>\n",
              "      <td>42</td>\n",
              "      <td>0.235955</td>\n",
              "    </tr>\n",
              "    <tr>\n",
              "      <th>1</th>\n",
              "      <td>99</td>\n",
              "      <td>CE</td>\n",
              "      <td>0</td>\n",
              "      <td>60%</td>\n",
              "      <td>2</td>\n",
              "      <td>n/ avaliado</td>\n",
              "      <td>18/05/2021 17:57</td>\n",
              "      <td>18/05/2021 18:01</td>\n",
              "      <td>18/05/2021 17:59</td>\n",
              "      <td>212</td>\n",
              "      <td>550</td>\n",
              "      <td>\"NAO ENCONTROU DADOS PARA A SELECAO\"</td>\n",
              "      <td>0.132551</td>\n",
              "      <td>237.309524</td>\n",
              "      <td>129.397193</td>\n",
              "      <td>42</td>\n",
              "      <td>0.235955</td>\n",
              "    </tr>\n",
              "    <tr>\n",
              "      <th>2</th>\n",
              "      <td>155</td>\n",
              "      <td>CE</td>\n",
              "      <td>0</td>\n",
              "      <td>100%</td>\n",
              "      <td>0</td>\n",
              "      <td>n/ avaliado</td>\n",
              "      <td>18/05/2021 17:57</td>\n",
              "      <td>18/05/2021 18:01</td>\n",
              "      <td>18/05/2021 17:59</td>\n",
              "      <td>226</td>\n",
              "      <td>500</td>\n",
              "      <td>\"OPS! NÃO FOI POSSIVEL CONSULTAR O SALDO. TENT...</td>\n",
              "      <td>0.132551</td>\n",
              "      <td>237.309524</td>\n",
              "      <td>129.397193</td>\n",
              "      <td>42</td>\n",
              "      <td>0.235955</td>\n",
              "    </tr>\n",
              "    <tr>\n",
              "      <th>3</th>\n",
              "      <td>343</td>\n",
              "      <td>CE</td>\n",
              "      <td>0</td>\n",
              "      <td>60%</td>\n",
              "      <td>2</td>\n",
              "      <td>n/ avaliado</td>\n",
              "      <td>18/05/2021 17:57</td>\n",
              "      <td>18/05/2021 18:04</td>\n",
              "      <td>18/05/2021 18:04</td>\n",
              "      <td>441</td>\n",
              "      <td>500</td>\n",
              "      <td>\"CLIENTE NAO CADASTRADO\"</td>\n",
              "      <td>0.132551</td>\n",
              "      <td>237.309524</td>\n",
              "      <td>129.397193</td>\n",
              "      <td>42</td>\n",
              "      <td>0.235955</td>\n",
              "    </tr>\n",
              "    <tr>\n",
              "      <th>4</th>\n",
              "      <td>462</td>\n",
              "      <td>CE</td>\n",
              "      <td>0</td>\n",
              "      <td>60%</td>\n",
              "      <td>2</td>\n",
              "      <td>n/ avaliado</td>\n",
              "      <td>18/05/2021 17:57</td>\n",
              "      <td>18/05/2021 18:00</td>\n",
              "      <td>18/05/2021 17:59</td>\n",
              "      <td>198</td>\n",
              "      <td>550</td>\n",
              "      <td>\"NO MOMENTO ESTE SERIVCO ESTA INDISPONIVEL. PO...</td>\n",
              "      <td>0.132551</td>\n",
              "      <td>237.309524</td>\n",
              "      <td>129.397193</td>\n",
              "      <td>42</td>\n",
              "      <td>0.235955</td>\n",
              "    </tr>\n",
              "    <tr>\n",
              "      <th>...</th>\n",
              "      <td>...</td>\n",
              "      <td>...</td>\n",
              "      <td>...</td>\n",
              "      <td>...</td>\n",
              "      <td>...</td>\n",
              "      <td>...</td>\n",
              "      <td>...</td>\n",
              "      <td>...</td>\n",
              "      <td>...</td>\n",
              "      <td>...</td>\n",
              "      <td>...</td>\n",
              "      <td>...</td>\n",
              "      <td>...</td>\n",
              "      <td>...</td>\n",
              "      <td>...</td>\n",
              "      <td>...</td>\n",
              "      <td>...</td>\n",
              "    </tr>\n",
              "    <tr>\n",
              "      <th>995</th>\n",
              "      <td>494</td>\n",
              "      <td>PA</td>\n",
              "      <td>0</td>\n",
              "      <td>40%</td>\n",
              "      <td>3</td>\n",
              "      <td>positiva</td>\n",
              "      <td>18/05/2021 17:57</td>\n",
              "      <td>18/05/2021 17:59</td>\n",
              "      <td>18/05/2021 17:57</td>\n",
              "      <td>109</td>\n",
              "      <td>500</td>\n",
              "      <td>\"DESCULPE TIVEMOS UM PROBLEMA E NAO CONSEGUIMO...</td>\n",
              "      <td>0.208619</td>\n",
              "      <td>233.800000</td>\n",
              "      <td>88.355326</td>\n",
              "      <td>45</td>\n",
              "      <td>0.252809</td>\n",
              "    </tr>\n",
              "    <tr>\n",
              "      <th>996</th>\n",
              "      <td>502</td>\n",
              "      <td>PA</td>\n",
              "      <td>1</td>\n",
              "      <td>80%</td>\n",
              "      <td>1</td>\n",
              "      <td>positiva</td>\n",
              "      <td>18/05/2021 17:57</td>\n",
              "      <td>18/05/2021 17:59</td>\n",
              "      <td>18/05/2021 17:58</td>\n",
              "      <td>121</td>\n",
              "      <td>500</td>\n",
              "      <td>\"OPS! NÃO FOI POSSIVEL CONSULTAR O SALDO. TENT...</td>\n",
              "      <td>0.208619</td>\n",
              "      <td>233.800000</td>\n",
              "      <td>88.355326</td>\n",
              "      <td>45</td>\n",
              "      <td>0.252809</td>\n",
              "    </tr>\n",
              "    <tr>\n",
              "      <th>997</th>\n",
              "      <td>568</td>\n",
              "      <td>PA</td>\n",
              "      <td>0</td>\n",
              "      <td>40%</td>\n",
              "      <td>3</td>\n",
              "      <td>positiva</td>\n",
              "      <td>18/05/2021 17:57</td>\n",
              "      <td>18/05/2021 18:02</td>\n",
              "      <td>18/05/2021 18:01</td>\n",
              "      <td>310</td>\n",
              "      <td>550</td>\n",
              "      <td>\"NO MOMENTO ESTE SERIVCO ESTA INDISPONIVEL. PO...</td>\n",
              "      <td>0.208619</td>\n",
              "      <td>233.800000</td>\n",
              "      <td>88.355326</td>\n",
              "      <td>45</td>\n",
              "      <td>0.252809</td>\n",
              "    </tr>\n",
              "    <tr>\n",
              "      <th>998</th>\n",
              "      <td>731</td>\n",
              "      <td>PA</td>\n",
              "      <td>0</td>\n",
              "      <td>60%</td>\n",
              "      <td>2</td>\n",
              "      <td>positiva</td>\n",
              "      <td>18/05/2021 17:57</td>\n",
              "      <td>18/05/2021 18:05</td>\n",
              "      <td>18/05/2021 18:03</td>\n",
              "      <td>449</td>\n",
              "      <td>500</td>\n",
              "      <td>\"SENHA INCORRETA\"</td>\n",
              "      <td>0.208619</td>\n",
              "      <td>233.800000</td>\n",
              "      <td>88.355326</td>\n",
              "      <td>45</td>\n",
              "      <td>0.252809</td>\n",
              "    </tr>\n",
              "    <tr>\n",
              "      <th>999</th>\n",
              "      <td>817</td>\n",
              "      <td>PA</td>\n",
              "      <td>1</td>\n",
              "      <td>80%</td>\n",
              "      <td>1</td>\n",
              "      <td>positiva</td>\n",
              "      <td>18/05/2021 17:57</td>\n",
              "      <td>18/05/2021 18:01</td>\n",
              "      <td>18/05/2021 18:00</td>\n",
              "      <td>217</td>\n",
              "      <td>500</td>\n",
              "      <td>\"ERRO AO EXECUTAR SERVICO: REQUESTCREDITSERVICE\"</td>\n",
              "      <td>0.208619</td>\n",
              "      <td>233.800000</td>\n",
              "      <td>88.355326</td>\n",
              "      <td>45</td>\n",
              "      <td>0.252809</td>\n",
              "    </tr>\n",
              "  </tbody>\n",
              "</table>\n",
              "<p>1000 rows × 17 columns</p>\n",
              "</div>"
            ],
            "text/plain": [
              "     idEntrada state  usuarioOnline statusSaida  paginaSaida    avaliacao  \\\n",
              "0           74    CE              0        100%            0  n/ avaliado   \n",
              "1           99    CE              0         60%            2  n/ avaliado   \n",
              "2          155    CE              0        100%            0  n/ avaliado   \n",
              "3          343    CE              0         60%            2  n/ avaliado   \n",
              "4          462    CE              0         60%            2  n/ avaliado   \n",
              "..         ...   ...            ...         ...          ...          ...   \n",
              "995        494    PA              0         40%            3     positiva   \n",
              "996        502    PA              1         80%            1     positiva   \n",
              "997        568    PA              0         40%            3     positiva   \n",
              "998        731    PA              0         60%            2     positiva   \n",
              "999        817    PA              1         80%            1     positiva   \n",
              "\n",
              "      dataHoraEntrada     dataHoraSaida      dataHoraErro  tempoAcesso  \\\n",
              "0    18/05/2021 17:57  18/05/2021 18:00  18/05/2021 17:59          155   \n",
              "1    18/05/2021 17:57  18/05/2021 18:01  18/05/2021 17:59          212   \n",
              "2    18/05/2021 17:57  18/05/2021 18:01  18/05/2021 17:59          226   \n",
              "3    18/05/2021 17:57  18/05/2021 18:04  18/05/2021 18:04          441   \n",
              "4    18/05/2021 17:57  18/05/2021 18:00  18/05/2021 17:59          198   \n",
              "..                ...               ...               ...          ...   \n",
              "995  18/05/2021 17:57  18/05/2021 17:59  18/05/2021 17:57          109   \n",
              "996  18/05/2021 17:57  18/05/2021 17:59  18/05/2021 17:58          121   \n",
              "997  18/05/2021 17:57  18/05/2021 18:02  18/05/2021 18:01          310   \n",
              "998  18/05/2021 17:57  18/05/2021 18:05  18/05/2021 18:03          449   \n",
              "999  18/05/2021 17:57  18/05/2021 18:01  18/05/2021 18:00          217   \n",
              "\n",
              "     codigo                                               erro      gini  \\\n",
              "0       500   \"ERRO AO EXECUTAR SERVICO: REQUESTCREDITSERVICE\"  0.132551   \n",
              "1       550               \"NAO ENCONTROU DADOS PARA A SELECAO\"  0.132551   \n",
              "2       500  \"OPS! NÃO FOI POSSIVEL CONSULTAR O SALDO. TENT...  0.132551   \n",
              "3       500                           \"CLIENTE NAO CADASTRADO\"  0.132551   \n",
              "4       550  \"NO MOMENTO ESTE SERIVCO ESTA INDISPONIVEL. PO...  0.132551   \n",
              "..      ...                                                ...       ...   \n",
              "995     500  \"DESCULPE TIVEMOS UM PROBLEMA E NAO CONSEGUIMO...  0.208619   \n",
              "996     500  \"OPS! NÃO FOI POSSIVEL CONSULTAR O SALDO. TENT...  0.208619   \n",
              "997     550  \"NO MOMENTO ESTE SERIVCO ESTA INDISPONIVEL. PO...  0.208619   \n",
              "998     500                                  \"SENHA INCORRETA\"  0.208619   \n",
              "999     500   \"ERRO AO EXECUTAR SERVICO: REQUESTCREDITSERVICE\"  0.208619   \n",
              "\n",
              "     media_tempoAcesso  dp_tempoAcesso   N   percent  \n",
              "0           237.309524      129.397193  42  0.235955  \n",
              "1           237.309524      129.397193  42  0.235955  \n",
              "2           237.309524      129.397193  42  0.235955  \n",
              "3           237.309524      129.397193  42  0.235955  \n",
              "4           237.309524      129.397193  42  0.235955  \n",
              "..                 ...             ...  ..       ...  \n",
              "995         233.800000       88.355326  45  0.252809  \n",
              "996         233.800000       88.355326  45  0.252809  \n",
              "997         233.800000       88.355326  45  0.252809  \n",
              "998         233.800000       88.355326  45  0.252809  \n",
              "999         233.800000       88.355326  45  0.252809  \n",
              "\n",
              "[1000 rows x 17 columns]"
            ]
          },
          "execution_count": 32,
          "metadata": {},
          "output_type": "execute_result"
        }
      ],
      "source": [
        "df_aae"
      ]
    },
    {
      "cell_type": "code",
      "execution_count": 33,
      "metadata": {
        "colab": {
          "base_uri": "https://localhost:8080/",
          "height": 175
        },
        "id": "4meiXKAwImSv",
        "outputId": "49c7f8ef-8db7-421a-e963-04ff8db02451"
      },
      "outputs": [
        {
          "data": {
            "text/html": [
              "<div>\n",
              "<style scoped>\n",
              "    .dataframe tbody tr th:only-of-type {\n",
              "        vertical-align: middle;\n",
              "    }\n",
              "\n",
              "    .dataframe tbody tr th {\n",
              "        vertical-align: top;\n",
              "    }\n",
              "\n",
              "    .dataframe thead th {\n",
              "        text-align: right;\n",
              "    }\n",
              "</style>\n",
              "<table border=\"1\" class=\"dataframe\">\n",
              "  <thead>\n",
              "    <tr style=\"text-align: right;\">\n",
              "      <th></th>\n",
              "      <th>media_tempoAcesso</th>\n",
              "      <th>dp_tempoAcesso</th>\n",
              "      <th>N</th>\n",
              "      <th>percent</th>\n",
              "    </tr>\n",
              "    <tr>\n",
              "      <th>avaliacao</th>\n",
              "      <th></th>\n",
              "      <th></th>\n",
              "      <th></th>\n",
              "      <th></th>\n",
              "    </tr>\n",
              "  </thead>\n",
              "  <tbody>\n",
              "    <tr>\n",
              "      <th>n/ avaliado</th>\n",
              "      <td>237.309524</td>\n",
              "      <td>129.397193</td>\n",
              "      <td>42</td>\n",
              "      <td>0.235955</td>\n",
              "    </tr>\n",
              "    <tr>\n",
              "      <th>negativa</th>\n",
              "      <td>255.483516</td>\n",
              "      <td>125.577277</td>\n",
              "      <td>91</td>\n",
              "      <td>0.511236</td>\n",
              "    </tr>\n",
              "    <tr>\n",
              "      <th>positiva</th>\n",
              "      <td>233.800000</td>\n",
              "      <td>88.355326</td>\n",
              "      <td>45</td>\n",
              "      <td>0.252809</td>\n",
              "    </tr>\n",
              "  </tbody>\n",
              "</table>\n",
              "</div>"
            ],
            "text/plain": [
              "             media_tempoAcesso  dp_tempoAcesso   N   percent\n",
              "avaliacao                                                   \n",
              "n/ avaliado         237.309524      129.397193  42  0.235955\n",
              "negativa            255.483516      125.577277  91  0.511236\n",
              "positiva            233.800000       88.355326  45  0.252809"
            ]
          },
          "execution_count": 33,
          "metadata": {},
          "output_type": "execute_result"
        }
      ],
      "source": [
        "amostra_estratificada"
      ]
    },
    {
      "cell_type": "code",
      "execution_count": 34,
      "metadata": {
        "colab": {
          "base_uri": "https://localhost:8080/",
          "height": 300
        },
        "id": "jCmJEguXDGvq",
        "outputId": "d6d53b38-a0dd-467b-eebf-a8d2e3cc2ad2"
      },
      "outputs": [
        {
          "data": {
            "text/html": [
              "<div>\n",
              "<style scoped>\n",
              "    .dataframe tbody tr th:only-of-type {\n",
              "        vertical-align: middle;\n",
              "    }\n",
              "\n",
              "    .dataframe tbody tr th {\n",
              "        vertical-align: top;\n",
              "    }\n",
              "\n",
              "    .dataframe thead th {\n",
              "        text-align: right;\n",
              "    }\n",
              "</style>\n",
              "<table border=\"1\" class=\"dataframe\">\n",
              "  <thead>\n",
              "    <tr style=\"text-align: right;\">\n",
              "      <th></th>\n",
              "      <th>tempoAcesso</th>\n",
              "    </tr>\n",
              "  </thead>\n",
              "  <tbody>\n",
              "    <tr>\n",
              "      <th>count</th>\n",
              "      <td>1000.000000</td>\n",
              "    </tr>\n",
              "    <tr>\n",
              "      <th>mean</th>\n",
              "      <td>246.371000</td>\n",
              "    </tr>\n",
              "    <tr>\n",
              "      <th>std</th>\n",
              "      <td>112.761565</td>\n",
              "    </tr>\n",
              "    <tr>\n",
              "      <th>min</th>\n",
              "      <td>1.000000</td>\n",
              "    </tr>\n",
              "    <tr>\n",
              "      <th>25%</th>\n",
              "      <td>171.000000</td>\n",
              "    </tr>\n",
              "    <tr>\n",
              "      <th>50%</th>\n",
              "      <td>241.000000</td>\n",
              "    </tr>\n",
              "    <tr>\n",
              "      <th>75%</th>\n",
              "      <td>320.000000</td>\n",
              "    </tr>\n",
              "    <tr>\n",
              "      <th>max</th>\n",
              "      <td>629.000000</td>\n",
              "    </tr>\n",
              "  </tbody>\n",
              "</table>\n",
              "</div>"
            ],
            "text/plain": [
              "       tempoAcesso\n",
              "count  1000.000000\n",
              "mean    246.371000\n",
              "std     112.761565\n",
              "min       1.000000\n",
              "25%     171.000000\n",
              "50%     241.000000\n",
              "75%     320.000000\n",
              "max     629.000000"
            ]
          },
          "execution_count": 34,
          "metadata": {},
          "output_type": "execute_result"
        }
      ],
      "source": [
        "tempo_acesso"
      ]
    },
    {
      "cell_type": "code",
      "execution_count": 35,
      "metadata": {
        "colab": {
          "base_uri": "https://localhost:8080/",
          "height": 300
        },
        "id": "29X1FC6CDHOb",
        "outputId": "c6e7f505-1681-464d-eeab-ac7209652d62"
      },
      "outputs": [
        {
          "data": {
            "text/html": [
              "<div>\n",
              "<style scoped>\n",
              "    .dataframe tbody tr th:only-of-type {\n",
              "        vertical-align: middle;\n",
              "    }\n",
              "\n",
              "    .dataframe tbody tr th {\n",
              "        vertical-align: top;\n",
              "    }\n",
              "\n",
              "    .dataframe thead th {\n",
              "        text-align: right;\n",
              "    }\n",
              "</style>\n",
              "<table border=\"1\" class=\"dataframe\">\n",
              "  <thead>\n",
              "    <tr style=\"text-align: right;\">\n",
              "      <th></th>\n",
              "      <th>gini</th>\n",
              "    </tr>\n",
              "  </thead>\n",
              "  <tbody>\n",
              "    <tr>\n",
              "      <th>count</th>\n",
              "      <td>1000.000000</td>\n",
              "    </tr>\n",
              "    <tr>\n",
              "      <th>mean</th>\n",
              "      <td>0.158188</td>\n",
              "    </tr>\n",
              "    <tr>\n",
              "      <th>std</th>\n",
              "      <td>0.027156</td>\n",
              "    </tr>\n",
              "    <tr>\n",
              "      <th>min</th>\n",
              "      <td>0.127922</td>\n",
              "    </tr>\n",
              "    <tr>\n",
              "      <th>25%</th>\n",
              "      <td>0.138104</td>\n",
              "    </tr>\n",
              "    <tr>\n",
              "      <th>50%</th>\n",
              "      <td>0.149203</td>\n",
              "    </tr>\n",
              "    <tr>\n",
              "      <th>75%</th>\n",
              "      <td>0.173719</td>\n",
              "    </tr>\n",
              "    <tr>\n",
              "      <th>max</th>\n",
              "      <td>0.241690</td>\n",
              "    </tr>\n",
              "  </tbody>\n",
              "</table>\n",
              "</div>"
            ],
            "text/plain": [
              "              gini\n",
              "count  1000.000000\n",
              "mean      0.158188\n",
              "std       0.027156\n",
              "min       0.127922\n",
              "25%       0.138104\n",
              "50%       0.149203\n",
              "75%       0.173719\n",
              "max       0.241690"
            ]
          },
          "execution_count": 35,
          "metadata": {},
          "output_type": "execute_result"
        }
      ],
      "source": [
        "gini_"
      ]
    },
    {
      "cell_type": "markdown",
      "metadata": {
        "id": "sXYCDtlODCJu"
      },
      "source": [
        "**letra a) Comparar as medidas descritivas para TempoAcesso com o dataset original. Houve diferenças significativas?**"
      ]
    },
    {
      "cell_type": "markdown",
      "metadata": {
        "id": "jaDqg5slDCM7"
      },
      "source": [
        "O desvio no n/avaliado e no negativo foi bem maior que do que o dataset original, enquanto as avaliações positivas foram inferiores em relação ao original\n",
        "\n",
        "Enquanto a media geral o n/avaliado e o positivo foram inferiores, não significamente, porém inferiores, já a negativa foi maior porém novamente não muito diferente do dataset original"
      ]
    },
    {
      "cell_type": "markdown",
      "metadata": {
        "id": "jb-A8vcYDCpO"
      },
      "source": [
        "**letra b) Comparar as medidas descritivas para Gini com o dataset original. Houve diferenças significativas?**"
      ]
    },
    {
      "cell_type": "markdown",
      "metadata": {
        "id": "tC1pxf44DCsK"
      },
      "source": [
        "Não houve nenhuma diferença comparado ao original\n"
      ]
    },
    {
      "cell_type": "markdown",
      "metadata": {},
      "source": [
        "**letra c) Obter as proporções da variável “avaliacao” e compare com o dataset original.**"
      ]
    },
    {
      "cell_type": "code",
      "execution_count": 36,
      "metadata": {},
      "outputs": [
        {
          "data": {
            "text/html": [
              "<div>\n",
              "<style scoped>\n",
              "    .dataframe tbody tr th:only-of-type {\n",
              "        vertical-align: middle;\n",
              "    }\n",
              "\n",
              "    .dataframe tbody tr th {\n",
              "        vertical-align: top;\n",
              "    }\n",
              "\n",
              "    .dataframe thead th {\n",
              "        text-align: right;\n",
              "    }\n",
              "</style>\n",
              "<table border=\"1\" class=\"dataframe\">\n",
              "  <thead>\n",
              "    <tr style=\"text-align: right;\">\n",
              "      <th></th>\n",
              "      <th>avaliacao</th>\n",
              "    </tr>\n",
              "  </thead>\n",
              "  <tbody>\n",
              "    <tr>\n",
              "      <th>0</th>\n",
              "      <td>0.511236</td>\n",
              "    </tr>\n",
              "    <tr>\n",
              "      <th>1</th>\n",
              "      <td>0.252809</td>\n",
              "    </tr>\n",
              "    <tr>\n",
              "      <th>2</th>\n",
              "      <td>0.235955</td>\n",
              "    </tr>\n",
              "  </tbody>\n",
              "</table>\n",
              "</div>"
            ],
            "text/plain": [
              "   avaliacao\n",
              "0   0.511236\n",
              "1   0.252809\n",
              "2   0.235955"
            ]
          },
          "execution_count": 36,
          "metadata": {},
          "output_type": "execute_result"
        }
      ],
      "source": [
        "proporcao_original = atendimento_x_gini_estado[\"avaliacao\"].value_counts(normalize=True)\n",
        "proporcao_original = pd.DataFrame(proporcao_original)\n",
        "\n",
        "\n",
        "proporcao_amostra_simples = dados_amostra_simples[\"avaliacao\"].value_counts(\n",
        "    normalize=True\n",
        ")\n",
        "proporcao_amostra_simples = pd.DataFrame(proporcao_amostra_simples)\n",
        "\n",
        "\n",
        "proporcao_amostra_estratificada = dados_amostra_estrat[\"avaliacao\"].value_counts(\n",
        "    normalize=True\n",
        ")\n",
        "proporcao_amostra_estratificada = pd.DataFrame(proporcao_amostra_estratificada)\n",
        "\n",
        "\n",
        "proporcao_original = pd.merge(\n",
        "    proporcao_original, proporcao_amostra_simples, how=\"right\", on=\"avaliacao\"\n",
        ")\n",
        "proporcao_original = pd.merge(\n",
        "    proporcao_original, proporcao_amostra_estratificada, how=\"right\", on=\"avaliacao\"\n",
        ")\n",
        "proporcao_original"
      ]
    },
    {
      "cell_type": "markdown",
      "metadata": {},
      "source": [
        "**letra d) Obter as medidas descritivas para TempoAcesso para cada perfil de “avaliacao” e\n",
        "compare com o dataset original.**"
      ]
    },
    {
      "cell_type": "code",
      "execution_count": 37,
      "metadata": {},
      "outputs": [
        {
          "data": {
            "text/html": [
              "<div>\n",
              "<style scoped>\n",
              "    .dataframe tbody tr th:only-of-type {\n",
              "        vertical-align: middle;\n",
              "    }\n",
              "\n",
              "    .dataframe tbody tr th {\n",
              "        vertical-align: top;\n",
              "    }\n",
              "\n",
              "    .dataframe thead th {\n",
              "        text-align: right;\n",
              "    }\n",
              "</style>\n",
              "<table border=\"1\" class=\"dataframe\">\n",
              "  <thead>\n",
              "    <tr style=\"text-align: right;\">\n",
              "      <th></th>\n",
              "      <th>mediaTempoAcesso</th>\n",
              "      <th>stdTempoAcesso</th>\n",
              "      <th>N</th>\n",
              "    </tr>\n",
              "    <tr>\n",
              "      <th>avaliacao</th>\n",
              "      <th></th>\n",
              "      <th></th>\n",
              "      <th></th>\n",
              "    </tr>\n",
              "  </thead>\n",
              "  <tbody>\n",
              "    <tr>\n",
              "      <th>n/ avaliado</th>\n",
              "      <td>238.472803</td>\n",
              "      <td>115.949525</td>\n",
              "      <td>239</td>\n",
              "    </tr>\n",
              "    <tr>\n",
              "      <th>negativa</th>\n",
              "      <td>246.870588</td>\n",
              "      <td>113.674072</td>\n",
              "      <td>510</td>\n",
              "    </tr>\n",
              "    <tr>\n",
              "      <th>positiva</th>\n",
              "      <td>252.876494</td>\n",
              "      <td>107.700718</td>\n",
              "      <td>251</td>\n",
              "    </tr>\n",
              "  </tbody>\n",
              "</table>\n",
              "</div>"
            ],
            "text/plain": [
              "             mediaTempoAcesso  stdTempoAcesso    N\n",
              "avaliacao                                         \n",
              "n/ avaliado        238.472803      115.949525  239\n",
              "negativa           246.870588      113.674072  510\n",
              "positiva           252.876494      107.700718  251"
            ]
          },
          "execution_count": 37,
          "metadata": {},
          "output_type": "execute_result"
        }
      ],
      "source": [
        "#  Obter as medidas descritivas para TempoAcesso para cada perfil de “avaliacao” e compare com o dataset original\n",
        "\n",
        "atendimento_x_gini_estado.groupby(\"avaliacao\").agg(\n",
        "    mediaTempoAcesso=pd.NamedAgg(\"tempoAcesso\", \"mean\"),\n",
        "    stdTempoAcesso=pd.NamedAgg(\"tempoAcesso\", \"std\"),\n",
        "    N=pd.NamedAgg(\"tempoAcesso\", \"count\"),\n",
        ")"
      ]
    },
    {
      "cell_type": "markdown",
      "metadata": {},
      "source": [
        "**letra e) Obter as medidas descritivas para GINI para cada perfil de “avaliacao” e compare com\n",
        "o dataset original.**"
      ]
    },
    {
      "cell_type": "code",
      "execution_count": 38,
      "metadata": {},
      "outputs": [
        {
          "data": {
            "text/html": [
              "<div>\n",
              "<style scoped>\n",
              "    .dataframe tbody tr th:only-of-type {\n",
              "        vertical-align: middle;\n",
              "    }\n",
              "\n",
              "    .dataframe tbody tr th {\n",
              "        vertical-align: top;\n",
              "    }\n",
              "\n",
              "    .dataframe thead th {\n",
              "        text-align: right;\n",
              "    }\n",
              "</style>\n",
              "<table border=\"1\" class=\"dataframe\">\n",
              "  <thead>\n",
              "    <tr style=\"text-align: right;\">\n",
              "      <th></th>\n",
              "      <th>mediaGini</th>\n",
              "      <th>stdGini</th>\n",
              "      <th>N</th>\n",
              "    </tr>\n",
              "    <tr>\n",
              "      <th>avaliacao</th>\n",
              "      <th></th>\n",
              "      <th></th>\n",
              "      <th></th>\n",
              "    </tr>\n",
              "  </thead>\n",
              "  <tbody>\n",
              "    <tr>\n",
              "      <th>n/ avaliado</th>\n",
              "      <td>0.156475</td>\n",
              "      <td>0.024968</td>\n",
              "      <td>239</td>\n",
              "    </tr>\n",
              "    <tr>\n",
              "      <th>negativa</th>\n",
              "      <td>0.158849</td>\n",
              "      <td>0.027977</td>\n",
              "      <td>510</td>\n",
              "    </tr>\n",
              "    <tr>\n",
              "      <th>positiva</th>\n",
              "      <td>0.158473</td>\n",
              "      <td>0.027496</td>\n",
              "      <td>251</td>\n",
              "    </tr>\n",
              "  </tbody>\n",
              "</table>\n",
              "</div>"
            ],
            "text/plain": [
              "             mediaGini   stdGini    N\n",
              "avaliacao                            \n",
              "n/ avaliado   0.156475  0.024968  239\n",
              "negativa      0.158849  0.027977  510\n",
              "positiva      0.158473  0.027496  251"
            ]
          },
          "execution_count": 38,
          "metadata": {},
          "output_type": "execute_result"
        }
      ],
      "source": [
        "atendimento_x_gini_estado.groupby(\"avaliacao\").agg(\n",
        "    mediaGini=pd.NamedAgg(\"gini\", \"mean\"),\n",
        "    stdGini=pd.NamedAgg(\"gini\", \"std\"),\n",
        "    N=pd.NamedAgg(\"gini\", \"count\"),\n",
        ")"
      ]
    }
  ],
  "metadata": {
    "colab": {
      "collapsed_sections": [],
      "provenance": []
    },
    "kernelspec": {
      "display_name": "Python 3.10.6 64-bit",
      "language": "python",
      "name": "python3"
    },
    "language_info": {
      "codemirror_mode": {
        "name": "ipython",
        "version": 3
      },
      "file_extension": ".py",
      "mimetype": "text/x-python",
      "name": "python",
      "nbconvert_exporter": "python",
      "pygments_lexer": "ipython3",
      "version": "3.9.13"
    },
    "vscode": {
      "interpreter": {
        "hash": "4969e0abbe28ddf3d158229b7275f3b2892003586087673d7a4034d2fe371621"
      }
    }
  },
  "nbformat": 4,
  "nbformat_minor": 0
}
