{
  "cells": [
    {
      "cell_type": "markdown",
      "metadata": {
        "id": "dFpcHXLO-8bY"
      },
      "source": [
        "# Resolução checkpoint 3 - sem. 2"
      ]
    },
    {
      "cell_type": "markdown",
      "metadata": {
        "id": "9SvCkmlL_cWZ"
      },
      "source": [
        "## Módulos"
      ]
    },
    {
      "cell_type": "code",
      "execution_count": 1,
      "metadata": {
        "id": "IfuldRwj_cau"
      },
      "outputs": [],
      "source": [
        "# gerais\n",
        "import numpy as np\n",
        "import pandas as pd\n",
        "import matplotlib.pyplot as plt\n",
        "import seaborn as sns"
      ]
    },
    {
      "cell_type": "code",
      "execution_count": 2,
      "metadata": {
        "id": "z66g5m2VVT4V"
      },
      "outputs": [],
      "source": [
        "# teste de hipóteses\n",
        "from scipy import stats as st"
      ]
    },
    {
      "cell_type": "markdown",
      "metadata": {
        "id": "8v39WqIg_cey"
      },
      "source": [
        "## Dados"
      ]
    },
    {
      "cell_type": "code",
      "execution_count": 3,
      "metadata": {
        "id": "t5w-s4ELHtdI"
      },
      "outputs": [],
      "source": [
        "dados_atendimentos = pd.read_csv('dados_atendimentos.csv')"
      ]
    },
    {
      "cell_type": "code",
      "execution_count": 4,
      "metadata": {
        "colab": {
          "base_uri": "https://localhost:8080/",
          "height": 206
        },
        "id": "gjbPmnGFTBeO",
        "outputId": "cae75dfc-6a99-4113-d8a4-00d4bb3006d5"
      },
      "outputs": [
        {
          "data": {
            "text/html": [
              "<div>\n",
              "<style scoped>\n",
              "    .dataframe tbody tr th:only-of-type {\n",
              "        vertical-align: middle;\n",
              "    }\n",
              "\n",
              "    .dataframe tbody tr th {\n",
              "        vertical-align: top;\n",
              "    }\n",
              "\n",
              "    .dataframe thead th {\n",
              "        text-align: right;\n",
              "    }\n",
              "</style>\n",
              "<table border=\"1\" class=\"dataframe\">\n",
              "  <thead>\n",
              "    <tr style=\"text-align: right;\">\n",
              "      <th></th>\n",
              "      <th>idEntrada</th>\n",
              "      <th>state</th>\n",
              "      <th>usuarioOnline</th>\n",
              "      <th>statusSaida</th>\n",
              "      <th>paginaSaida</th>\n",
              "      <th>avaliacao</th>\n",
              "      <th>dataHoraEntrada</th>\n",
              "      <th>dataHoraSaida</th>\n",
              "      <th>dataHoraErro</th>\n",
              "      <th>tempoAcesso</th>\n",
              "      <th>codigo</th>\n",
              "      <th>erro</th>\n",
              "    </tr>\n",
              "  </thead>\n",
              "  <tbody>\n",
              "    <tr>\n",
              "      <th>0</th>\n",
              "      <td>1</td>\n",
              "      <td>CE</td>\n",
              "      <td>1</td>\n",
              "      <td>80%</td>\n",
              "      <td>1</td>\n",
              "      <td>positiva</td>\n",
              "      <td>18/05/2021 17:57</td>\n",
              "      <td>18/05/2021 18:00</td>\n",
              "      <td>18/05/2021 17:59</td>\n",
              "      <td>173</td>\n",
              "      <td>550</td>\n",
              "      <td>\"NO MOMENTO ESTE SERIVCO ESTA INDISPONIVEL. PO...</td>\n",
              "    </tr>\n",
              "    <tr>\n",
              "      <th>1</th>\n",
              "      <td>2</td>\n",
              "      <td>PE</td>\n",
              "      <td>0</td>\n",
              "      <td>40%</td>\n",
              "      <td>3</td>\n",
              "      <td>negativa</td>\n",
              "      <td>18/05/2021 17:57</td>\n",
              "      <td>18/05/2021 18:01</td>\n",
              "      <td>18/05/2021 18:00</td>\n",
              "      <td>212</td>\n",
              "      <td>550</td>\n",
              "      <td>\"ERRO NA VALIDACAO DE DADOS COMPLEMENTARES\"</td>\n",
              "    </tr>\n",
              "    <tr>\n",
              "      <th>2</th>\n",
              "      <td>3</td>\n",
              "      <td>CE</td>\n",
              "      <td>0</td>\n",
              "      <td>60%</td>\n",
              "      <td>2</td>\n",
              "      <td>negativa</td>\n",
              "      <td>18/05/2021 17:57</td>\n",
              "      <td>18/05/2021 18:04</td>\n",
              "      <td>18/05/2021 18:03</td>\n",
              "      <td>427</td>\n",
              "      <td>500</td>\n",
              "      <td>\"INTERNAL SERVER ERROR\"</td>\n",
              "    </tr>\n",
              "    <tr>\n",
              "      <th>3</th>\n",
              "      <td>4</td>\n",
              "      <td>PR</td>\n",
              "      <td>0</td>\n",
              "      <td>20%</td>\n",
              "      <td>4</td>\n",
              "      <td>negativa</td>\n",
              "      <td>18/05/2021 17:57</td>\n",
              "      <td>18/05/2021 18:01</td>\n",
              "      <td>18/05/2021 18:00</td>\n",
              "      <td>248</td>\n",
              "      <td>550</td>\n",
              "      <td>\"CPF -CNPJ CLIENTE NAO CADASTRADO\"</td>\n",
              "    </tr>\n",
              "    <tr>\n",
              "      <th>4</th>\n",
              "      <td>5</td>\n",
              "      <td>TO</td>\n",
              "      <td>0</td>\n",
              "      <td>20%</td>\n",
              "      <td>4</td>\n",
              "      <td>positiva</td>\n",
              "      <td>18/05/2021 17:57</td>\n",
              "      <td>18/05/2021 18:01</td>\n",
              "      <td>18/05/2021 18:02</td>\n",
              "      <td>256</td>\n",
              "      <td>500</td>\n",
              "      <td>\"OPS! NÃO FOI POSSIVEL CONSULTAR O SALDO. TENT...</td>\n",
              "    </tr>\n",
              "  </tbody>\n",
              "</table>\n",
              "</div>"
            ],
            "text/plain": [
              "   idEntrada state  usuarioOnline statusSaida  paginaSaida avaliacao  \\\n",
              "0          1    CE              1         80%            1  positiva   \n",
              "1          2    PE              0         40%            3  negativa   \n",
              "2          3    CE              0         60%            2  negativa   \n",
              "3          4    PR              0         20%            4  negativa   \n",
              "4          5    TO              0         20%            4  positiva   \n",
              "\n",
              "    dataHoraEntrada     dataHoraSaida      dataHoraErro  tempoAcesso  codigo  \\\n",
              "0  18/05/2021 17:57  18/05/2021 18:00  18/05/2021 17:59          173     550   \n",
              "1  18/05/2021 17:57  18/05/2021 18:01  18/05/2021 18:00          212     550   \n",
              "2  18/05/2021 17:57  18/05/2021 18:04  18/05/2021 18:03          427     500   \n",
              "3  18/05/2021 17:57  18/05/2021 18:01  18/05/2021 18:00          248     550   \n",
              "4  18/05/2021 17:57  18/05/2021 18:01  18/05/2021 18:02          256     500   \n",
              "\n",
              "                                                erro  \n",
              "0  \"NO MOMENTO ESTE SERIVCO ESTA INDISPONIVEL. PO...  \n",
              "1        \"ERRO NA VALIDACAO DE DADOS COMPLEMENTARES\"  \n",
              "2                            \"INTERNAL SERVER ERROR\"  \n",
              "3                 \"CPF -CNPJ CLIENTE NAO CADASTRADO\"  \n",
              "4  \"OPS! NÃO FOI POSSIVEL CONSULTAR O SALDO. TENT...  "
            ]
          },
          "execution_count": 4,
          "metadata": {},
          "output_type": "execute_result"
        }
      ],
      "source": [
        "dados_atendimentos.head()"
      ]
    },
    {
      "cell_type": "code",
      "execution_count": 5,
      "metadata": {
        "id": "GU4jAoOV_cir"
      },
      "outputs": [],
      "source": [
        "dados_renda = pd.read_csv('dados_renda_municipios_2010.csv')"
      ]
    },
    {
      "cell_type": "code",
      "execution_count": 6,
      "metadata": {
        "colab": {
          "base_uri": "https://localhost:8080/",
          "height": 206
        },
        "id": "0Nx9SXn6TFoU",
        "outputId": "70f60e7b-b224-47b2-af1a-e2a20f79c4dc"
      },
      "outputs": [
        {
          "data": {
            "text/html": [
              "<div>\n",
              "<style scoped>\n",
              "    .dataframe tbody tr th:only-of-type {\n",
              "        vertical-align: middle;\n",
              "    }\n",
              "\n",
              "    .dataframe tbody tr th {\n",
              "        vertical-align: top;\n",
              "    }\n",
              "\n",
              "    .dataframe thead th {\n",
              "        text-align: right;\n",
              "    }\n",
              "</style>\n",
              "<table border=\"1\" class=\"dataframe\">\n",
              "  <thead>\n",
              "    <tr style=\"text-align: right;\">\n",
              "      <th></th>\n",
              "      <th>state</th>\n",
              "      <th>city</th>\n",
              "      <th>RDPC</th>\n",
              "    </tr>\n",
              "  </thead>\n",
              "  <tbody>\n",
              "    <tr>\n",
              "      <th>0</th>\n",
              "      <td>GO</td>\n",
              "      <td>Abadia de Goiás/GO</td>\n",
              "      <td>574.96</td>\n",
              "    </tr>\n",
              "    <tr>\n",
              "      <th>1</th>\n",
              "      <td>MG</td>\n",
              "      <td>Abadia dos Dourados/MG</td>\n",
              "      <td>596.18</td>\n",
              "    </tr>\n",
              "    <tr>\n",
              "      <th>2</th>\n",
              "      <td>GO</td>\n",
              "      <td>Abadiânia/GO</td>\n",
              "      <td>519.87</td>\n",
              "    </tr>\n",
              "    <tr>\n",
              "      <th>3</th>\n",
              "      <td>PA</td>\n",
              "      <td>Abaetetuba/PA</td>\n",
              "      <td>293.01</td>\n",
              "    </tr>\n",
              "    <tr>\n",
              "      <th>4</th>\n",
              "      <td>MG</td>\n",
              "      <td>Abaeté/MG</td>\n",
              "      <td>707.24</td>\n",
              "    </tr>\n",
              "  </tbody>\n",
              "</table>\n",
              "</div>"
            ],
            "text/plain": [
              "  state                    city    RDPC\n",
              "0    GO      Abadia de Goiás/GO  574.96\n",
              "1    MG  Abadia dos Dourados/MG  596.18\n",
              "2    GO            Abadiânia/GO  519.87\n",
              "3    PA           Abaetetuba/PA  293.01\n",
              "4    MG               Abaeté/MG  707.24"
            ]
          },
          "execution_count": 6,
          "metadata": {},
          "output_type": "execute_result"
        }
      ],
      "source": [
        "dados_renda.head()"
      ]
    },
    {
      "cell_type": "markdown",
      "metadata": {
        "id": "AAV_gqbBBODN"
      },
      "source": [
        "## Funções"
      ]
    },
    {
      "cell_type": "markdown",
      "metadata": {
        "id": "BD80nsWOCqEa"
      },
      "source": [
        "- Índice de Gini\n",
        "\n",
        "Utilizar esta função para calcular o índice de gini para cada estado."
      ]
    },
    {
      "cell_type": "code",
      "execution_count": 7,
      "metadata": {
        "id": "9cb0dKO0BOGe"
      },
      "outputs": [],
      "source": [
        "def gini(array: np.ndarray or pd.core.series.Series) -> float:\n",
        "    \"\"\"\n",
        "    Calculates the Gini coefficient of a 1D array.\n",
        "\n",
        "    Args:\n",
        "        array (array-like): A 1D array of values.\n",
        "\n",
        "    Returns:\n",
        "        float: The Gini coefficient of the array.\n",
        "\n",
        "    \"\"\"\n",
        "    # Convert a pandas series to a numpy array\n",
        "    if type(array) == pd.core.series.Series:\n",
        "        array = array.to_numpy()\n",
        "\n",
        "    # Flatten the array if it is not already 1D\n",
        "    array = array.flatten()\n",
        "\n",
        "    # Convert the array to float64 if it is not already\n",
        "    if array.dtype != np.float64:\n",
        "        array = np.ascontiguousarray(array, dtype=np.float64)\n",
        "\n",
        "    # Shift the values in the array so that the minimum value is 0\n",
        "    if np.amin(array) < 0:\n",
        "        array -= np.amin(array)\n",
        "\n",
        "    array += 0.0000001\n",
        "    array = np.sort(array)\n",
        "    index = np.arange(1, array.shape[0] + 1)\n",
        "    n = array.shape[0]\n",
        "    return (np.sum((2 * index - n - 1) * array)) / (n * np.sum(array))"
      ]
    },
    {
      "cell_type": "markdown",
      "metadata": {
        "id": "0f_I0Zaw_cml"
      },
      "source": [
        "## Questões"
      ]
    },
    {
      "cell_type": "markdown",
      "metadata": {
        "id": "CL5Q4YnEN4e0"
      },
      "source": [
        "#### 1 - Na tabela do censo de 2010, obter o índice de Gini por UF (state) (criar um dataframe como df_gini_estado) e realizar o join das tabelas de atendimento e df_gini_estado."
      ]
    },
    {
      "cell_type": "code",
      "execution_count": 8,
      "metadata": {
        "colab": {
          "base_uri": "https://localhost:8080/",
          "height": 206
        },
        "id": "dO_se5_RCUv7",
        "outputId": "ac4bb30b-7d89-4481-ccf3-10815d405ec6"
      },
      "outputs": [
        {
          "data": {
            "text/html": [
              "<div>\n",
              "<style scoped>\n",
              "    .dataframe tbody tr th:only-of-type {\n",
              "        vertical-align: middle;\n",
              "    }\n",
              "\n",
              "    .dataframe tbody tr th {\n",
              "        vertical-align: top;\n",
              "    }\n",
              "\n",
              "    .dataframe thead th {\n",
              "        text-align: right;\n",
              "    }\n",
              "</style>\n",
              "<table border=\"1\" class=\"dataframe\">\n",
              "  <thead>\n",
              "    <tr style=\"text-align: right;\">\n",
              "      <th></th>\n",
              "      <th>state</th>\n",
              "      <th>GINI</th>\n",
              "    </tr>\n",
              "  </thead>\n",
              "  <tbody>\n",
              "    <tr>\n",
              "      <th>6</th>\n",
              "      <td>DF</td>\n",
              "      <td>0.000000</td>\n",
              "    </tr>\n",
              "    <tr>\n",
              "      <th>20</th>\n",
              "      <td>RO</td>\n",
              "      <td>0.127922</td>\n",
              "    </tr>\n",
              "    <tr>\n",
              "      <th>17</th>\n",
              "      <td>PR</td>\n",
              "      <td>0.131235</td>\n",
              "    </tr>\n",
              "    <tr>\n",
              "      <th>5</th>\n",
              "      <td>CE</td>\n",
              "      <td>0.132551</td>\n",
              "    </tr>\n",
              "    <tr>\n",
              "      <th>14</th>\n",
              "      <td>PB</td>\n",
              "      <td>0.134084</td>\n",
              "    </tr>\n",
              "  </tbody>\n",
              "</table>\n",
              "</div>"
            ],
            "text/plain": [
              "   state      GINI\n",
              "6     DF  0.000000\n",
              "20    RO  0.127922\n",
              "17    PR  0.131235\n",
              "5     CE  0.132551\n",
              "14    PB  0.134084"
            ]
          },
          "execution_count": 8,
          "metadata": {},
          "output_type": "execute_result"
        }
      ],
      "source": [
        "df_gini_estado = dados_renda.groupby('state')['RDPC'] \\\n",
        "                            .apply(lambda x: gini(x.values)) \\\n",
        "                            .to_frame('GINI') \\\n",
        "                            .reset_index() \\\n",
        "                            .sort_values('GINI')\n",
        "\n",
        "df_gini_estado.head()"
      ]
    },
    {
      "cell_type": "markdown",
      "metadata": {
        "id": "J5YEdNYYN4e3"
      },
      "source": [
        "#### 2 – Realizar o teste t para os itens abaixo:"
      ]
    },
    {
      "cell_type": "markdown",
      "metadata": {
        "id": "hwcvZwsxN4e4"
      },
      "source": [
        "##### a) Avaliação (Positiva e Negativa) e Tempo de Acesso."
      ]
    },
    {
      "cell_type": "code",
      "execution_count": 9,
      "metadata": {
        "id": "CVVOXw8pN4e4"
      },
      "outputs": [],
      "source": [
        "avaliacoes_positivas = dados_atendimentos[dados_atendimentos['avaliacao'] == 'positiva']\n",
        "avaliacoes_negativas = dados_atendimentos[dados_atendimentos['avaliacao'] == 'negativa']\n",
        "avaliacoes_positivas_tempo_acesso = avaliacoes_positivas['tempoAcesso']\n",
        "avaliacoes_negativas_tempo_acesso = avaliacoes_negativas['tempoAcesso']"
      ]
    },
    {
      "cell_type": "code",
      "execution_count": 26,
      "metadata": {
        "colab": {
          "base_uri": "https://localhost:8080/"
        },
        "id": "GsKhwJL1N4e5",
        "outputId": "5e870211-34b2-4987-d869-5bae05ce1718"
      },
      "outputs": [
        {
          "data": {
            "text/plain": [
              "(0.6970955841932512, 0.48595643103026165)"
            ]
          },
          "execution_count": 26,
          "metadata": {},
          "output_type": "execute_result"
        }
      ],
      "source": [
        "estatistica_t, valor_p = st.ttest_ind(avaliacoes_positivas_tempo_acesso, avaliacoes_negativas_tempo_acesso, alternative='two-sided')\n",
        "estatistica_t, valor_p"
      ]
    },
    {
      "cell_type": "markdown",
      "metadata": {
        "id": "Xy8Li9dUN4e_"
      },
      "source": [
        "##### b) Avaliação (Positiva e Negativa) e GINI."
      ]
    },
    {
      "cell_type": "code",
      "execution_count": 27,
      "metadata": {
        "colab": {
          "base_uri": "https://localhost:8080/"
        },
        "id": "9--Ovv64N4fA",
        "outputId": "7ac15519-22e7-4a57-fbf2-62ae0f9732f0"
      },
      "outputs": [
        {
          "data": {
            "text/plain": [
              "(-0.17533257796805335, 0.8608650776872567)"
            ]
          },
          "execution_count": 27,
          "metadata": {},
          "output_type": "execute_result"
        }
      ],
      "source": [
        "avaliacoes_positivas_gini = avaliacoes_positivas.merge(df_gini_estado, right_on='state', left_on = 'state')\n",
        "avaliacoes_positivas_gini = avaliacoes_positivas_gini['GINI']\n",
        "avaliacoes_negativas_gini = avaliacoes_negativas.merge(df_gini_estado, right_on='state', left_on = 'state')\n",
        "avaliacoes_negativas_gini = avaliacoes_negativas_gini['GINI']\n",
        "\n",
        "estatistica_t2, valor_p2 = st.ttest_ind(avaliacoes_positivas_gini, avaliacoes_negativas_gini, alternative='two-sided')\n",
        "estatistica_t2, valor_p2"
      ]
    },
    {
      "cell_type": "markdown",
      "metadata": {
        "id": "gDGIjfA4N4fB"
      },
      "source": [
        "#### 3 – Realizar o teste F para os itens abaixo:"
      ]
    },
    {
      "cell_type": "code",
      "execution_count": 28,
      "metadata": {
        "id": "3XLvOKP-N4fC"
      },
      "outputs": [],
      "source": [
        "def f_p_value(f_valor, df_n, df_d, test_type):\n",
        "  \n",
        "  '''test_type: greater, less, two.sided'''\n",
        "  \n",
        "  if test_type == 'greater':\n",
        "    return 1 - st.f.cdf(f_valor, df_n, df_d)\n",
        "  elif test_type == 'less':\n",
        "    return st.f.cdf(f_valor, df_n, df_d)\n",
        "  elif test_type == 'two.sided':\n",
        "    p1 = st.f.cdf(f_valor, df_n, df_d)\n",
        "    p2 = 1 - st.f.cdf(f_valor, df_n, df_d)\n",
        "    return np.min([p1, p2])*2\n",
        "  else:\n",
        "    raise TypeError(\"'test_type' only accept options: 'greater', 'less' or 'two.sided'\")"
      ]
    },
    {
      "cell_type": "markdown",
      "metadata": {
        "id": "PJcw0fIDN4fC"
      },
      "source": [
        "##### a) Avaliação e Tempo de Acesso."
      ]
    },
    {
      "cell_type": "code",
      "execution_count": 29,
      "metadata": {
        "colab": {
          "base_uri": "https://localhost:8080/"
        },
        "id": "wMB2t8f1N4fC",
        "outputId": "71bdc3af-c62e-4597-a9d4-31bc6d842a1d"
      },
      "outputs": [
        {
          "data": {
            "text/plain": [
              "(0.8976651487841281, 0.3325025990054121)"
            ]
          },
          "execution_count": 29,
          "metadata": {},
          "output_type": "execute_result"
        }
      ],
      "source": [
        "f_valor = np.var(avaliacoes_positivas_tempo_acesso, ddof=1) / np.var(avaliacoes_negativas_tempo_acesso, ddof=1)\n",
        "\n",
        "p = f_p_value(f_valor, len(avaliacoes_positivas_tempo_acesso)-1, len(avaliacoes_negativas_tempo_acesso)-1, 'two.sided')\n",
        "f_valor, p"
      ]
    },
    {
      "cell_type": "markdown",
      "metadata": {
        "id": "h31SMdhnN4fE"
      },
      "source": [
        "##### b) Avaliação e GINI."
      ]
    },
    {
      "cell_type": "code",
      "execution_count": 15,
      "metadata": {
        "colab": {
          "base_uri": "https://localhost:8080/"
        },
        "id": "oNBLfR_mN4fF",
        "outputId": "2cf808ea-e620-4931-ffe6-bd9e93e2799d"
      },
      "outputs": [
        {
          "data": {
            "text/plain": [
              "(0.9659067966010344, 0.7608905704855919)"
            ]
          },
          "execution_count": 15,
          "metadata": {},
          "output_type": "execute_result"
        }
      ],
      "source": [
        "f_valor2 = np.var(avaliacoes_positivas_gini, ddof=1) / np.var(avaliacoes_negativas_gini, ddof=1)\n",
        "\n",
        "p2 = f_p_value(f_valor2, len(avaliacoes_positivas_gini)-1, len(avaliacoes_negativas_gini)-1, 'two.sided')\n",
        "f_valor2, p2"
      ]
    },
    {
      "cell_type": "markdown",
      "metadata": {
        "id": "KZx63lOyN4fF"
      },
      "source": [
        "#### 4 – Realizar o teste de Qui-Quadrado para:"
      ]
    },
    {
      "cell_type": "markdown",
      "metadata": {
        "id": "k_3wKykhN4fG"
      },
      "source": [
        "##### a) Avaliação e código de erro (utilizando somente positivos e negativos)"
      ]
    },
    {
      "cell_type": "code",
      "execution_count": 32,
      "metadata": {
        "colab": {
          "base_uri": "https://localhost:8080/"
        },
        "id": "YC4txAiON4fG",
        "outputId": "c6985a1d-44c7-49c8-8f77-67239a041ef7"
      },
      "outputs": [
        {
          "data": {
            "text/plain": [
              "(0.8212877792378449, 0.36480391833678083)"
            ]
          },
          "execution_count": 32,
          "metadata": {},
          "output_type": "execute_result"
        }
      ],
      "source": [
        "avaliacoes_positivas_codigo = avaliacoes_positivas['codigo']\n",
        "avaliacoes_negativas_codigo = avaliacoes_negativas['codigo']\n",
        "avaliacoes_codigo = pd.concat([avaliacoes_positivas_codigo, avaliacoes_negativas_codigo], axis=0)\n",
        "*st.chisquare(avaliacoes_codigo.value_counts()),"
      ]
    },
    {
      "cell_type": "markdown",
      "metadata": {
        "id": "-GAf9rFQN4fH"
      },
      "source": [
        "##### b) Avaliação e código de erro (utilizando positivos, negativos e não avaliado)"
      ]
    },
    {
      "cell_type": "code",
      "execution_count": 33,
      "metadata": {
        "colab": {
          "base_uri": "https://localhost:8080/"
        },
        "id": "wryAaIB7N4fH",
        "outputId": "80a7102e-2c76-4a87-f916-40589ecc7253"
      },
      "outputs": [
        {
          "data": {
            "text/plain": [
              "(4.356, 0.03687880184110112)"
            ]
          },
          "execution_count": 33,
          "metadata": {},
          "output_type": "execute_result"
        }
      ],
      "source": [
        "avaliacoes_codigo_todas = dados_atendimentos['codigo']\n",
        "avaliacoes_codigo_todas = avaliacoes_codigo_todas.value_counts()\n",
        "*st.chisquare(avaliacoes_codigo_todas),"
      ]
    },
    {
      "attachments": {},
      "cell_type": "markdown",
      "metadata": {
        "id": "95vQNhvtN4fI"
      },
      "source": [
        "#### 5 – Obter a correlação entre Gini e Tempo de acesso. A correlação é fraca, moderada ou forte?\n",
        "\n",
        "Correlação fraca."
      ]
    },
    {
      "cell_type": "code",
      "execution_count": 21,
      "metadata": {
        "colab": {
          "base_uri": "https://localhost:8080/",
          "height": 112
        },
        "id": "trm36AqFN4fI",
        "outputId": "12f90f45-3a38-426b-ec27-4320cf1182b3"
      },
      "outputs": [
        {
          "data": {
            "text/html": [
              "<div>\n",
              "<style scoped>\n",
              "    .dataframe tbody tr th:only-of-type {\n",
              "        vertical-align: middle;\n",
              "    }\n",
              "\n",
              "    .dataframe tbody tr th {\n",
              "        vertical-align: top;\n",
              "    }\n",
              "\n",
              "    .dataframe thead th {\n",
              "        text-align: right;\n",
              "    }\n",
              "</style>\n",
              "<table border=\"1\" class=\"dataframe\">\n",
              "  <thead>\n",
              "    <tr style=\"text-align: right;\">\n",
              "      <th></th>\n",
              "      <th>GINI</th>\n",
              "      <th>tempoAcesso</th>\n",
              "    </tr>\n",
              "  </thead>\n",
              "  <tbody>\n",
              "    <tr>\n",
              "      <th>GINI</th>\n",
              "      <td>1.000000</td>\n",
              "      <td>0.089508</td>\n",
              "    </tr>\n",
              "    <tr>\n",
              "      <th>tempoAcesso</th>\n",
              "      <td>0.089508</td>\n",
              "      <td>1.000000</td>\n",
              "    </tr>\n",
              "  </tbody>\n",
              "</table>\n",
              "</div>"
            ],
            "text/plain": [
              "                 GINI  tempoAcesso\n",
              "GINI         1.000000     0.089508\n",
              "tempoAcesso  0.089508     1.000000"
            ]
          },
          "execution_count": 21,
          "metadata": {},
          "output_type": "execute_result"
        }
      ],
      "source": [
        "avaliacoes_positivas_gini_tempo = avaliacoes_positivas.merge(df_gini_estado, right_on='state', left_on = 'state')\n",
        "avaliacoes_positivas_gini_tempo = avaliacoes_positivas_gini_tempo[['GINI', 'tempoAcesso']]\n",
        "avaliacoes_positivas_gini_tempo = avaliacoes_positivas_gini_tempo.dropna()\n",
        "correlacao = avaliacoes_positivas_gini_tempo.corr()\n",
        "correlacao"
      ]
    },
    {
      "cell_type": "code",
      "execution_count": 22,
      "metadata": {
        "colab": {
          "base_uri": "https://localhost:8080/",
          "height": 390
        },
        "id": "4OXK64zSN4fJ",
        "outputId": "45fb559b-4b6c-491c-c036-483eeb075fa8"
      },
      "outputs": [
        {
          "data": {
            "image/png": "[encoded data removed]",
            "text/plain": [
              "<Figure size 1000x600 with 2 Axes>"
            ]
          },
          "metadata": {},
          "output_type": "display_data"
        }
      ],
      "source": [
        "fig, ax = plt.subplots(figsize=(10, 6))\n",
        "sns.heatmap(correlacao, annot=True, ax=ax)\n",
        "ax.set_title('Correlação entre Gini e tempo de acesso')\n",
        "plt.show()"
      ]
    }
  ],
  "metadata": {
    "colab": {
      "collapsed_sections": [],
      "provenance": []
    },
    "kernelspec": {
      "display_name": "Python 3.11.0 64-bit",
      "language": "python",
      "name": "python3"
    },
    "language_info": {
      "codemirror_mode": {
        "name": "ipython",
        "version": 3
      },
      "file_extension": ".py",
      "mimetype": "text/x-python",
      "name": "python",
      "nbconvert_exporter": "python",
      "pygments_lexer": "ipython3",
      "version": "3.9.13"
    },
    "vscode": {
      "interpreter": {
        "hash": "a9553c80bcd3f8fa11a1c5eec4cf8a298e5ce25984af22f066b018300704e140"
      }
    }
  },
  "nbformat": 4,
  "nbformat_minor": 0
}
