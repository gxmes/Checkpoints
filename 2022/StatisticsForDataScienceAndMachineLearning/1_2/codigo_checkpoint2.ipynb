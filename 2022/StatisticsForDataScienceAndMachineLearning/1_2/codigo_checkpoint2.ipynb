{
 "cells": [
  {
   "cell_type": "markdown",
   "metadata": {
    "id": "MVYnsCKTRFt7"
   },
   "source": [
    "# Checkpoint 1"
   ]
  },
  {
   "cell_type": "markdown",
   "metadata": {
    "id": "VB6rsGNoRIEs"
   },
   "source": [
    "## Carregar módulos"
   ]
  },
  {
   "cell_type": "code",
   "execution_count": 57,
   "metadata": {
    "executionInfo": {
     "elapsed": 2329,
     "status": "ok",
     "timestamp": 1619608698819,
     "user": {
      "displayName": "Neto Alcides",
      "photoUrl": "https://lh3.googleusercontent.com/a-/AOh14Gh8VabomHhTSghAjZkIwbJOQxu7jJks-O6DCCPedw=s64",
      "userId": "13364792603978952311"
     },
     "user_tz": 180
    },
    "id": "IRai7_OaRIJQ"
   },
   "outputs": [],
   "source": [
    "import numpy as np\n",
    "import pandas as pd\n",
    "import matplotlib.pyplot as plt\n",
    "%matplotlib inline\n",
    "import seaborn as sns\n",
    "from datetime import timedelta\n",
    "\n",
    "\n",
    "sns.set(style=\"whitegrid\")"
   ]
  },
  {
   "cell_type": "markdown",
   "metadata": {
    "id": "KOHsl-KNRINm"
   },
   "source": [
    "## Carregar dados"
   ]
  },
  {
   "cell_type": "code",
   "execution_count": 58,
   "metadata": {
    "executionInfo": {
     "elapsed": 2325,
     "status": "ok",
     "timestamp": 1619608698820,
     "user": {
      "displayName": "Neto Alcides",
      "photoUrl": "https://lh3.googleusercontent.com/a-/AOh14Gh8VabomHhTSghAjZkIwbJOQxu7jJks-O6DCCPedw=s64",
      "userId": "13364792603978952311"
     },
     "user_tz": 180
    },
    "id": "bKE4njwDRIRm"
   },
   "outputs": [],
   "source": [
    "path = \"https://raw.githubusercontent.com/CSSEGISandData/COVID-19/master/csse_covid_19_data/csse_covid_19_time_series/time_series_covid19_confirmed_global.csv\"\n",
    "path_dead = \"https://raw.githubusercontent.com/CSSEGISandData/COVID-19/master/csse_covid_19_data/csse_covid_19_time_series/time_series_covid19_deaths_global.csv\""
   ]
  },
  {
   "cell_type": "code",
   "execution_count": 59,
   "metadata": {
    "executionInfo": {
     "elapsed": 2324,
     "status": "ok",
     "timestamp": 1619608698821,
     "user": {
      "displayName": "Neto Alcides",
      "photoUrl": "https://lh3.googleusercontent.com/a-/AOh14Gh8VabomHhTSghAjZkIwbJOQxu7jJks-O6DCCPedw=s64",
      "userId": "13364792603978952311"
     },
     "user_tz": 180
    },
    "id": "Pb1mQyrlRIVv"
   },
   "outputs": [],
   "source": [
    "dados_paises_covid = pd.read_csv(path)\n",
    "dados_paises_covid_dead = pd.read_csv(path_dead)"
   ]
  },
  {
   "cell_type": "code",
   "execution_count": 60,
   "metadata": {
    "colab": {
     "base_uri": "https://localhost:8080/",
     "height": 456
    },
    "executionInfo": {
     "elapsed": 2243,
     "status": "ok",
     "timestamp": 1619608698822,
     "user": {
      "displayName": "Neto Alcides",
      "photoUrl": "https://lh3.googleusercontent.com/a-/AOh14Gh8VabomHhTSghAjZkIwbJOQxu7jJks-O6DCCPedw=s64",
      "userId": "13364792603978952311"
     },
     "user_tz": 180
    },
    "id": "bxzV_0QVFi29",
    "outputId": "8b2c87a3-2018-470d-dbef-811cd0d2b156"
   },
   "outputs": [
    {
     "data": {
      "text/html": [
       "<div>\n",
       "<style scoped>\n",
       "    .dataframe tbody tr th:only-of-type {\n",
       "        vertical-align: middle;\n",
       "    }\n",
       "\n",
       "    .dataframe tbody tr th {\n",
       "        vertical-align: top;\n",
       "    }\n",
       "\n",
       "    .dataframe thead th {\n",
       "        text-align: right;\n",
       "    }\n",
       "</style>\n",
       "<table border=\"1\" class=\"dataframe\">\n",
       "  <thead>\n",
       "    <tr style=\"text-align: right;\">\n",
       "      <th></th>\n",
       "      <th>Province/State</th>\n",
       "      <th>Country/Region</th>\n",
       "      <th>Lat</th>\n",
       "      <th>Long</th>\n",
       "      <th>1/22/20</th>\n",
       "      <th>1/23/20</th>\n",
       "      <th>1/24/20</th>\n",
       "      <th>1/25/20</th>\n",
       "      <th>1/26/20</th>\n",
       "      <th>1/27/20</th>\n",
       "      <th>...</th>\n",
       "      <th>2/28/23</th>\n",
       "      <th>3/1/23</th>\n",
       "      <th>3/2/23</th>\n",
       "      <th>3/3/23</th>\n",
       "      <th>3/4/23</th>\n",
       "      <th>3/5/23</th>\n",
       "      <th>3/6/23</th>\n",
       "      <th>3/7/23</th>\n",
       "      <th>3/8/23</th>\n",
       "      <th>3/9/23</th>\n",
       "    </tr>\n",
       "  </thead>\n",
       "  <tbody>\n",
       "    <tr>\n",
       "      <th>0</th>\n",
       "      <td>NaN</td>\n",
       "      <td>Afghanistan</td>\n",
       "      <td>33.939110</td>\n",
       "      <td>67.709953</td>\n",
       "      <td>0</td>\n",
       "      <td>0</td>\n",
       "      <td>0</td>\n",
       "      <td>0</td>\n",
       "      <td>0</td>\n",
       "      <td>0</td>\n",
       "      <td>...</td>\n",
       "      <td>209322</td>\n",
       "      <td>209340</td>\n",
       "      <td>209358</td>\n",
       "      <td>209362</td>\n",
       "      <td>209369</td>\n",
       "      <td>209390</td>\n",
       "      <td>209406</td>\n",
       "      <td>209436</td>\n",
       "      <td>209451</td>\n",
       "      <td>209451</td>\n",
       "    </tr>\n",
       "    <tr>\n",
       "      <th>1</th>\n",
       "      <td>NaN</td>\n",
       "      <td>Albania</td>\n",
       "      <td>41.153300</td>\n",
       "      <td>20.168300</td>\n",
       "      <td>0</td>\n",
       "      <td>0</td>\n",
       "      <td>0</td>\n",
       "      <td>0</td>\n",
       "      <td>0</td>\n",
       "      <td>0</td>\n",
       "      <td>...</td>\n",
       "      <td>334391</td>\n",
       "      <td>334408</td>\n",
       "      <td>334408</td>\n",
       "      <td>334427</td>\n",
       "      <td>334427</td>\n",
       "      <td>334427</td>\n",
       "      <td>334427</td>\n",
       "      <td>334427</td>\n",
       "      <td>334443</td>\n",
       "      <td>334457</td>\n",
       "    </tr>\n",
       "    <tr>\n",
       "      <th>2</th>\n",
       "      <td>NaN</td>\n",
       "      <td>Algeria</td>\n",
       "      <td>28.033900</td>\n",
       "      <td>1.659600</td>\n",
       "      <td>0</td>\n",
       "      <td>0</td>\n",
       "      <td>0</td>\n",
       "      <td>0</td>\n",
       "      <td>0</td>\n",
       "      <td>0</td>\n",
       "      <td>...</td>\n",
       "      <td>271441</td>\n",
       "      <td>271448</td>\n",
       "      <td>271463</td>\n",
       "      <td>271469</td>\n",
       "      <td>271469</td>\n",
       "      <td>271477</td>\n",
       "      <td>271477</td>\n",
       "      <td>271490</td>\n",
       "      <td>271494</td>\n",
       "      <td>271496</td>\n",
       "    </tr>\n",
       "    <tr>\n",
       "      <th>3</th>\n",
       "      <td>NaN</td>\n",
       "      <td>Andorra</td>\n",
       "      <td>42.506300</td>\n",
       "      <td>1.521800</td>\n",
       "      <td>0</td>\n",
       "      <td>0</td>\n",
       "      <td>0</td>\n",
       "      <td>0</td>\n",
       "      <td>0</td>\n",
       "      <td>0</td>\n",
       "      <td>...</td>\n",
       "      <td>47866</td>\n",
       "      <td>47875</td>\n",
       "      <td>47875</td>\n",
       "      <td>47875</td>\n",
       "      <td>47875</td>\n",
       "      <td>47875</td>\n",
       "      <td>47875</td>\n",
       "      <td>47875</td>\n",
       "      <td>47890</td>\n",
       "      <td>47890</td>\n",
       "    </tr>\n",
       "    <tr>\n",
       "      <th>4</th>\n",
       "      <td>NaN</td>\n",
       "      <td>Angola</td>\n",
       "      <td>-11.202700</td>\n",
       "      <td>17.873900</td>\n",
       "      <td>0</td>\n",
       "      <td>0</td>\n",
       "      <td>0</td>\n",
       "      <td>0</td>\n",
       "      <td>0</td>\n",
       "      <td>0</td>\n",
       "      <td>...</td>\n",
       "      <td>105255</td>\n",
       "      <td>105277</td>\n",
       "      <td>105277</td>\n",
       "      <td>105277</td>\n",
       "      <td>105277</td>\n",
       "      <td>105277</td>\n",
       "      <td>105277</td>\n",
       "      <td>105277</td>\n",
       "      <td>105288</td>\n",
       "      <td>105288</td>\n",
       "    </tr>\n",
       "    <tr>\n",
       "      <th>...</th>\n",
       "      <td>...</td>\n",
       "      <td>...</td>\n",
       "      <td>...</td>\n",
       "      <td>...</td>\n",
       "      <td>...</td>\n",
       "      <td>...</td>\n",
       "      <td>...</td>\n",
       "      <td>...</td>\n",
       "      <td>...</td>\n",
       "      <td>...</td>\n",
       "      <td>...</td>\n",
       "      <td>...</td>\n",
       "      <td>...</td>\n",
       "      <td>...</td>\n",
       "      <td>...</td>\n",
       "      <td>...</td>\n",
       "      <td>...</td>\n",
       "      <td>...</td>\n",
       "      <td>...</td>\n",
       "      <td>...</td>\n",
       "      <td>...</td>\n",
       "    </tr>\n",
       "    <tr>\n",
       "      <th>284</th>\n",
       "      <td>NaN</td>\n",
       "      <td>West Bank and Gaza</td>\n",
       "      <td>31.952200</td>\n",
       "      <td>35.233200</td>\n",
       "      <td>0</td>\n",
       "      <td>0</td>\n",
       "      <td>0</td>\n",
       "      <td>0</td>\n",
       "      <td>0</td>\n",
       "      <td>0</td>\n",
       "      <td>...</td>\n",
       "      <td>703228</td>\n",
       "      <td>703228</td>\n",
       "      <td>703228</td>\n",
       "      <td>703228</td>\n",
       "      <td>703228</td>\n",
       "      <td>703228</td>\n",
       "      <td>703228</td>\n",
       "      <td>703228</td>\n",
       "      <td>703228</td>\n",
       "      <td>703228</td>\n",
       "    </tr>\n",
       "    <tr>\n",
       "      <th>285</th>\n",
       "      <td>NaN</td>\n",
       "      <td>Winter Olympics 2022</td>\n",
       "      <td>39.904200</td>\n",
       "      <td>116.407400</td>\n",
       "      <td>0</td>\n",
       "      <td>0</td>\n",
       "      <td>0</td>\n",
       "      <td>0</td>\n",
       "      <td>0</td>\n",
       "      <td>0</td>\n",
       "      <td>...</td>\n",
       "      <td>535</td>\n",
       "      <td>535</td>\n",
       "      <td>535</td>\n",
       "      <td>535</td>\n",
       "      <td>535</td>\n",
       "      <td>535</td>\n",
       "      <td>535</td>\n",
       "      <td>535</td>\n",
       "      <td>535</td>\n",
       "      <td>535</td>\n",
       "    </tr>\n",
       "    <tr>\n",
       "      <th>286</th>\n",
       "      <td>NaN</td>\n",
       "      <td>Yemen</td>\n",
       "      <td>15.552727</td>\n",
       "      <td>48.516388</td>\n",
       "      <td>0</td>\n",
       "      <td>0</td>\n",
       "      <td>0</td>\n",
       "      <td>0</td>\n",
       "      <td>0</td>\n",
       "      <td>0</td>\n",
       "      <td>...</td>\n",
       "      <td>11945</td>\n",
       "      <td>11945</td>\n",
       "      <td>11945</td>\n",
       "      <td>11945</td>\n",
       "      <td>11945</td>\n",
       "      <td>11945</td>\n",
       "      <td>11945</td>\n",
       "      <td>11945</td>\n",
       "      <td>11945</td>\n",
       "      <td>11945</td>\n",
       "    </tr>\n",
       "    <tr>\n",
       "      <th>287</th>\n",
       "      <td>NaN</td>\n",
       "      <td>Zambia</td>\n",
       "      <td>-13.133897</td>\n",
       "      <td>27.849332</td>\n",
       "      <td>0</td>\n",
       "      <td>0</td>\n",
       "      <td>0</td>\n",
       "      <td>0</td>\n",
       "      <td>0</td>\n",
       "      <td>0</td>\n",
       "      <td>...</td>\n",
       "      <td>343012</td>\n",
       "      <td>343012</td>\n",
       "      <td>343079</td>\n",
       "      <td>343079</td>\n",
       "      <td>343079</td>\n",
       "      <td>343135</td>\n",
       "      <td>343135</td>\n",
       "      <td>343135</td>\n",
       "      <td>343135</td>\n",
       "      <td>343135</td>\n",
       "    </tr>\n",
       "    <tr>\n",
       "      <th>288</th>\n",
       "      <td>NaN</td>\n",
       "      <td>Zimbabwe</td>\n",
       "      <td>-19.015438</td>\n",
       "      <td>29.154857</td>\n",
       "      <td>0</td>\n",
       "      <td>0</td>\n",
       "      <td>0</td>\n",
       "      <td>0</td>\n",
       "      <td>0</td>\n",
       "      <td>0</td>\n",
       "      <td>...</td>\n",
       "      <td>263921</td>\n",
       "      <td>264127</td>\n",
       "      <td>264127</td>\n",
       "      <td>264127</td>\n",
       "      <td>264127</td>\n",
       "      <td>264127</td>\n",
       "      <td>264127</td>\n",
       "      <td>264127</td>\n",
       "      <td>264276</td>\n",
       "      <td>264276</td>\n",
       "    </tr>\n",
       "  </tbody>\n",
       "</table>\n",
       "<p>289 rows × 1147 columns</p>\n",
       "</div>"
      ],
      "text/plain": [
       "    Province/State        Country/Region        Lat        Long  1/22/20  \\\n",
       "0              NaN           Afghanistan  33.939110   67.709953        0   \n",
       "1              NaN               Albania  41.153300   20.168300        0   \n",
       "2              NaN               Algeria  28.033900    1.659600        0   \n",
       "3              NaN               Andorra  42.506300    1.521800        0   \n",
       "4              NaN                Angola -11.202700   17.873900        0   \n",
       "..             ...                   ...        ...         ...      ...   \n",
       "284            NaN    West Bank and Gaza  31.952200   35.233200        0   \n",
       "285            NaN  Winter Olympics 2022  39.904200  116.407400        0   \n",
       "286            NaN                 Yemen  15.552727   48.516388        0   \n",
       "287            NaN                Zambia -13.133897   27.849332        0   \n",
       "288            NaN              Zimbabwe -19.015438   29.154857        0   \n",
       "\n",
       "     1/23/20  1/24/20  1/25/20  1/26/20  1/27/20  ...  2/28/23  3/1/23  \\\n",
       "0          0        0        0        0        0  ...   209322  209340   \n",
       "1          0        0        0        0        0  ...   334391  334408   \n",
       "2          0        0        0        0        0  ...   271441  271448   \n",
       "3          0        0        0        0        0  ...    47866   47875   \n",
       "4          0        0        0        0        0  ...   105255  105277   \n",
       "..       ...      ...      ...      ...      ...  ...      ...     ...   \n",
       "284        0        0        0        0        0  ...   703228  703228   \n",
       "285        0        0        0        0        0  ...      535     535   \n",
       "286        0        0        0        0        0  ...    11945   11945   \n",
       "287        0        0        0        0        0  ...   343012  343012   \n",
       "288        0        0        0        0        0  ...   263921  264127   \n",
       "\n",
       "     3/2/23  3/3/23  3/4/23  3/5/23  3/6/23  3/7/23  3/8/23  3/9/23  \n",
       "0    209358  209362  209369  209390  209406  209436  209451  209451  \n",
       "1    334408  334427  334427  334427  334427  334427  334443  334457  \n",
       "2    271463  271469  271469  271477  271477  271490  271494  271496  \n",
       "3     47875   47875   47875   47875   47875   47875   47890   47890  \n",
       "4    105277  105277  105277  105277  105277  105277  105288  105288  \n",
       "..      ...     ...     ...     ...     ...     ...     ...     ...  \n",
       "284  703228  703228  703228  703228  703228  703228  703228  703228  \n",
       "285     535     535     535     535     535     535     535     535  \n",
       "286   11945   11945   11945   11945   11945   11945   11945   11945  \n",
       "287  343079  343079  343079  343135  343135  343135  343135  343135  \n",
       "288  264127  264127  264127  264127  264127  264127  264276  264276  \n",
       "\n",
       "[289 rows x 1147 columns]"
      ]
     },
     "execution_count": 60,
     "metadata": {},
     "output_type": "execute_result"
    }
   ],
   "source": [
    "dados_paises_covid"
   ]
  },
  {
   "attachments": {},
   "cell_type": "markdown",
   "metadata": {
    "id": "0K9ECqiJRIZz"
   },
   "source": [
    "## Ajustes"
   ]
  },
  {
   "cell_type": "markdown",
   "metadata": {
    "id": "l-WQgrhUV8tq"
   },
   "source": [
    "- Nomes das colunas"
   ]
  },
  {
   "cell_type": "code",
   "execution_count": 61,
   "metadata": {
    "executionInfo": {
     "elapsed": 2241,
     "status": "ok",
     "timestamp": 1619608698823,
     "user": {
      "displayName": "Neto Alcides",
      "photoUrl": "https://lh3.googleusercontent.com/a-/AOh14Gh8VabomHhTSghAjZkIwbJOQxu7jJks-O6DCCPedw=s64",
      "userId": "13364792603978952311"
     },
     "user_tz": 180
    },
    "id": "SaCpjFuARIeA"
   },
   "outputs": [],
   "source": [
    "dados_paises_covid.rename(\n",
    "    columns={\"Province/State\": \"province\", \"Country/Region\": \"country\"}, inplace=True\n",
    ")"
   ]
  },
  {
   "cell_type": "code",
   "execution_count": 62,
   "metadata": {
    "executionInfo": {
     "elapsed": 2237,
     "status": "ok",
     "timestamp": 1619608698823,
     "user": {
      "displayName": "Neto Alcides",
      "photoUrl": "https://lh3.googleusercontent.com/a-/AOh14Gh8VabomHhTSghAjZkIwbJOQxu7jJks-O6DCCPedw=s64",
      "userId": "13364792603978952311"
     },
     "user_tz": 180
    },
    "id": "dL98RCsDS9Nf"
   },
   "outputs": [],
   "source": [
    "dados_paises_covid_dead.rename(\n",
    "    columns={\"Province/State\": \"province\", \"Country/Region\": \"country\"}, inplace=True\n",
    ")"
   ]
  },
  {
   "cell_type": "code",
   "execution_count": 63,
   "metadata": {
    "colab": {
     "base_uri": "https://localhost:8080/"
    },
    "executionInfo": {
     "elapsed": 2225,
     "status": "ok",
     "timestamp": 1619608698824,
     "user": {
      "displayName": "Neto Alcides",
      "photoUrl": "https://lh3.googleusercontent.com/a-/AOh14Gh8VabomHhTSghAjZkIwbJOQxu7jJks-O6DCCPedw=s64",
      "userId": "13364792603978952311"
     },
     "user_tz": 180
    },
    "id": "C6QWe5tqS9Q_",
    "outputId": "c6a3a51d-714a-4441-f0fd-47b2d6d01651"
   },
   "outputs": [
    {
     "data": {
      "text/plain": [
       "Index(['province', 'country', 'Lat', 'Long', '1/22/20', '1/23/20', '1/24/20',\n",
       "       '1/25/20', '1/26/20', '1/27/20',\n",
       "       ...\n",
       "       '2/28/23', '3/1/23', '3/2/23', '3/3/23', '3/4/23', '3/5/23', '3/6/23',\n",
       "       '3/7/23', '3/8/23', '3/9/23'],\n",
       "      dtype='object', length=1147)"
      ]
     },
     "execution_count": 63,
     "metadata": {},
     "output_type": "execute_result"
    }
   ],
   "source": [
    "dados_paises_covid_dead.columns"
   ]
  },
  {
   "cell_type": "markdown",
   "metadata": {
    "id": "bIMzVm_0WBZH"
   },
   "source": [
    "- Reajustar dados"
   ]
  },
  {
   "cell_type": "code",
   "execution_count": 64,
   "metadata": {
    "executionInfo": {
     "elapsed": 2224,
     "status": "ok",
     "timestamp": 1619608698825,
     "user": {
      "displayName": "Neto Alcides",
      "photoUrl": "https://lh3.googleusercontent.com/a-/AOh14Gh8VabomHhTSghAjZkIwbJOQxu7jJks-O6DCCPedw=s64",
      "userId": "13364792603978952311"
     },
     "user_tz": 180
    },
    "id": "WknmgipES9V0"
   },
   "outputs": [],
   "source": [
    "dados_paises_covid = dados_paises_covid.melt(\n",
    "    id_vars=[\"province\", \"country\", \"Lat\", \"Long\"],\n",
    "    var_name=\"date\",\n",
    "    value_name=\"infected\",\n",
    ")"
   ]
  },
  {
   "cell_type": "code",
   "execution_count": 65,
   "metadata": {
    "executionInfo": {
     "elapsed": 2220,
     "status": "ok",
     "timestamp": 1619608698826,
     "user": {
      "displayName": "Neto Alcides",
      "photoUrl": "https://lh3.googleusercontent.com/a-/AOh14Gh8VabomHhTSghAjZkIwbJOQxu7jJks-O6DCCPedw=s64",
      "userId": "13364792603978952311"
     },
     "user_tz": 180
    },
    "id": "Hc-sV4zWS9aH"
   },
   "outputs": [],
   "source": [
    "dados_paises_covid_dead = dados_paises_covid_dead.melt(\n",
    "    id_vars=[\"province\", \"country\", \"Lat\", \"Long\"], var_name=\"date\", value_name=\"dead\"\n",
    ")"
   ]
  },
  {
   "cell_type": "code",
   "execution_count": 66,
   "metadata": {
    "colab": {
     "base_uri": "https://localhost:8080/",
     "height": 204
    },
    "executionInfo": {
     "elapsed": 2862,
     "status": "ok",
     "timestamp": 1619608699482,
     "user": {
      "displayName": "Neto Alcides",
      "photoUrl": "https://lh3.googleusercontent.com/a-/AOh14Gh8VabomHhTSghAjZkIwbJOQxu7jJks-O6DCCPedw=s64",
      "userId": "13364792603978952311"
     },
     "user_tz": 180
    },
    "id": "QX2EUqp0S9eT",
    "outputId": "f3a66b23-edae-4150-c667-5ab8ad5fc0ff"
   },
   "outputs": [
    {
     "data": {
      "text/html": [
       "<div>\n",
       "<style scoped>\n",
       "    .dataframe tbody tr th:only-of-type {\n",
       "        vertical-align: middle;\n",
       "    }\n",
       "\n",
       "    .dataframe tbody tr th {\n",
       "        vertical-align: top;\n",
       "    }\n",
       "\n",
       "    .dataframe thead th {\n",
       "        text-align: right;\n",
       "    }\n",
       "</style>\n",
       "<table border=\"1\" class=\"dataframe\">\n",
       "  <thead>\n",
       "    <tr style=\"text-align: right;\">\n",
       "      <th></th>\n",
       "      <th>province</th>\n",
       "      <th>country</th>\n",
       "      <th>Lat</th>\n",
       "      <th>Long</th>\n",
       "      <th>date</th>\n",
       "      <th>dead</th>\n",
       "    </tr>\n",
       "  </thead>\n",
       "  <tbody>\n",
       "    <tr>\n",
       "      <th>330322</th>\n",
       "      <td>NaN</td>\n",
       "      <td>West Bank and Gaza</td>\n",
       "      <td>31.952200</td>\n",
       "      <td>35.233200</td>\n",
       "      <td>3/9/23</td>\n",
       "      <td>5708</td>\n",
       "    </tr>\n",
       "    <tr>\n",
       "      <th>330323</th>\n",
       "      <td>NaN</td>\n",
       "      <td>Winter Olympics 2022</td>\n",
       "      <td>39.904200</td>\n",
       "      <td>116.407400</td>\n",
       "      <td>3/9/23</td>\n",
       "      <td>0</td>\n",
       "    </tr>\n",
       "    <tr>\n",
       "      <th>330324</th>\n",
       "      <td>NaN</td>\n",
       "      <td>Yemen</td>\n",
       "      <td>15.552727</td>\n",
       "      <td>48.516388</td>\n",
       "      <td>3/9/23</td>\n",
       "      <td>2159</td>\n",
       "    </tr>\n",
       "    <tr>\n",
       "      <th>330325</th>\n",
       "      <td>NaN</td>\n",
       "      <td>Zambia</td>\n",
       "      <td>-13.133897</td>\n",
       "      <td>27.849332</td>\n",
       "      <td>3/9/23</td>\n",
       "      <td>4057</td>\n",
       "    </tr>\n",
       "    <tr>\n",
       "      <th>330326</th>\n",
       "      <td>NaN</td>\n",
       "      <td>Zimbabwe</td>\n",
       "      <td>-19.015438</td>\n",
       "      <td>29.154857</td>\n",
       "      <td>3/9/23</td>\n",
       "      <td>5671</td>\n",
       "    </tr>\n",
       "  </tbody>\n",
       "</table>\n",
       "</div>"
      ],
      "text/plain": [
       "       province               country        Lat        Long    date  dead\n",
       "330322      NaN    West Bank and Gaza  31.952200   35.233200  3/9/23  5708\n",
       "330323      NaN  Winter Olympics 2022  39.904200  116.407400  3/9/23     0\n",
       "330324      NaN                 Yemen  15.552727   48.516388  3/9/23  2159\n",
       "330325      NaN                Zambia -13.133897   27.849332  3/9/23  4057\n",
       "330326      NaN              Zimbabwe -19.015438   29.154857  3/9/23  5671"
      ]
     },
     "execution_count": 66,
     "metadata": {},
     "output_type": "execute_result"
    }
   ],
   "source": [
    "dados_paises_covid_dead.tail()"
   ]
  },
  {
   "cell_type": "code",
   "execution_count": 67,
   "metadata": {
    "colab": {
     "base_uri": "https://localhost:8080/"
    },
    "executionInfo": {
     "elapsed": 2849,
     "status": "ok",
     "timestamp": 1619608699483,
     "user": {
      "displayName": "Neto Alcides",
      "photoUrl": "https://lh3.googleusercontent.com/a-/AOh14Gh8VabomHhTSghAjZkIwbJOQxu7jJks-O6DCCPedw=s64",
      "userId": "13364792603978952311"
     },
     "user_tz": 180
    },
    "id": "QmpQK2_mWJi3",
    "outputId": "09b37a63-78b5-4960-ed39-15c81a6661db"
   },
   "outputs": [
    {
     "data": {
      "text/plain": [
       "province     object\n",
       "country      object\n",
       "Lat         float64\n",
       "Long        float64\n",
       "date         object\n",
       "dead          int64\n",
       "dtype: object"
      ]
     },
     "execution_count": 67,
     "metadata": {},
     "output_type": "execute_result"
    }
   ],
   "source": [
    "dados_paises_covid_dead.dtypes"
   ]
  },
  {
   "cell_type": "markdown",
   "metadata": {
    "id": "AFvH-XFGS9ip"
   },
   "source": [
    "- Ajustar datas"
   ]
  },
  {
   "cell_type": "code",
   "execution_count": 68,
   "metadata": {
    "executionInfo": {
     "elapsed": 2809,
     "status": "ok",
     "timestamp": 1619608699484,
     "user": {
      "displayName": "Neto Alcides",
      "photoUrl": "https://lh3.googleusercontent.com/a-/AOh14Gh8VabomHhTSghAjZkIwbJOQxu7jJks-O6DCCPedw=s64",
      "userId": "13364792603978952311"
     },
     "user_tz": 180
    },
    "id": "2qHen0szS9nZ"
   },
   "outputs": [],
   "source": [
    "dados_paises_covid[\"date\"] = pd.to_datetime(\n",
    "    dados_paises_covid[\"date\"], infer_datetime_format=\"True\"\n",
    ")"
   ]
  },
  {
   "cell_type": "code",
   "execution_count": 69,
   "metadata": {
    "executionInfo": {
     "elapsed": 2328,
     "status": "ok",
     "timestamp": 1619608699485,
     "user": {
      "displayName": "Neto Alcides",
      "photoUrl": "https://lh3.googleusercontent.com/a-/AOh14Gh8VabomHhTSghAjZkIwbJOQxu7jJks-O6DCCPedw=s64",
      "userId": "13364792603978952311"
     },
     "user_tz": 180
    },
    "id": "5hVb7IVeXIDn"
   },
   "outputs": [],
   "source": [
    "dados_paises_covid_dead[\"date\"] = pd.to_datetime(\n",
    "    dados_paises_covid_dead[\"date\"], infer_datetime_format=\"True\"\n",
    ")"
   ]
  },
  {
   "cell_type": "code",
   "execution_count": 70,
   "metadata": {
    "colab": {
     "base_uri": "https://localhost:8080/",
     "height": 204
    },
    "executionInfo": {
     "elapsed": 1543,
     "status": "ok",
     "timestamp": 1619608699486,
     "user": {
      "displayName": "Neto Alcides",
      "photoUrl": "https://lh3.googleusercontent.com/a-/AOh14Gh8VabomHhTSghAjZkIwbJOQxu7jJks-O6DCCPedw=s64",
      "userId": "13364792603978952311"
     },
     "user_tz": 180
    },
    "id": "f78IaxkGXmbg",
    "outputId": "3369c7db-e878-4469-f959-d031abff46d9"
   },
   "outputs": [
    {
     "data": {
      "text/html": [
       "<div>\n",
       "<style scoped>\n",
       "    .dataframe tbody tr th:only-of-type {\n",
       "        vertical-align: middle;\n",
       "    }\n",
       "\n",
       "    .dataframe tbody tr th {\n",
       "        vertical-align: top;\n",
       "    }\n",
       "\n",
       "    .dataframe thead th {\n",
       "        text-align: right;\n",
       "    }\n",
       "</style>\n",
       "<table border=\"1\" class=\"dataframe\">\n",
       "  <thead>\n",
       "    <tr style=\"text-align: right;\">\n",
       "      <th></th>\n",
       "      <th>province</th>\n",
       "      <th>country</th>\n",
       "      <th>Lat</th>\n",
       "      <th>Long</th>\n",
       "      <th>date</th>\n",
       "      <th>infected</th>\n",
       "    </tr>\n",
       "  </thead>\n",
       "  <tbody>\n",
       "    <tr>\n",
       "      <th>330322</th>\n",
       "      <td>NaN</td>\n",
       "      <td>West Bank and Gaza</td>\n",
       "      <td>31.952200</td>\n",
       "      <td>35.233200</td>\n",
       "      <td>2023-03-09</td>\n",
       "      <td>703228</td>\n",
       "    </tr>\n",
       "    <tr>\n",
       "      <th>330323</th>\n",
       "      <td>NaN</td>\n",
       "      <td>Winter Olympics 2022</td>\n",
       "      <td>39.904200</td>\n",
       "      <td>116.407400</td>\n",
       "      <td>2023-03-09</td>\n",
       "      <td>535</td>\n",
       "    </tr>\n",
       "    <tr>\n",
       "      <th>330324</th>\n",
       "      <td>NaN</td>\n",
       "      <td>Yemen</td>\n",
       "      <td>15.552727</td>\n",
       "      <td>48.516388</td>\n",
       "      <td>2023-03-09</td>\n",
       "      <td>11945</td>\n",
       "    </tr>\n",
       "    <tr>\n",
       "      <th>330325</th>\n",
       "      <td>NaN</td>\n",
       "      <td>Zambia</td>\n",
       "      <td>-13.133897</td>\n",
       "      <td>27.849332</td>\n",
       "      <td>2023-03-09</td>\n",
       "      <td>343135</td>\n",
       "    </tr>\n",
       "    <tr>\n",
       "      <th>330326</th>\n",
       "      <td>NaN</td>\n",
       "      <td>Zimbabwe</td>\n",
       "      <td>-19.015438</td>\n",
       "      <td>29.154857</td>\n",
       "      <td>2023-03-09</td>\n",
       "      <td>264276</td>\n",
       "    </tr>\n",
       "  </tbody>\n",
       "</table>\n",
       "</div>"
      ],
      "text/plain": [
       "       province               country        Lat        Long       date  \\\n",
       "330322      NaN    West Bank and Gaza  31.952200   35.233200 2023-03-09   \n",
       "330323      NaN  Winter Olympics 2022  39.904200  116.407400 2023-03-09   \n",
       "330324      NaN                 Yemen  15.552727   48.516388 2023-03-09   \n",
       "330325      NaN                Zambia -13.133897   27.849332 2023-03-09   \n",
       "330326      NaN              Zimbabwe -19.015438   29.154857 2023-03-09   \n",
       "\n",
       "        infected  \n",
       "330322    703228  \n",
       "330323       535  \n",
       "330324     11945  \n",
       "330325    343135  \n",
       "330326    264276  "
      ]
     },
     "execution_count": 70,
     "metadata": {},
     "output_type": "execute_result"
    }
   ],
   "source": [
    "dados_paises_covid.tail()"
   ]
  },
  {
   "cell_type": "code",
   "execution_count": 71,
   "metadata": {
    "colab": {
     "base_uri": "https://localhost:8080/",
     "height": 204
    },
    "executionInfo": {
     "elapsed": 1561,
     "status": "ok",
     "timestamp": 1619608700194,
     "user": {
      "displayName": "Neto Alcides",
      "photoUrl": "https://lh3.googleusercontent.com/a-/AOh14Gh8VabomHhTSghAjZkIwbJOQxu7jJks-O6DCCPedw=s64",
      "userId": "13364792603978952311"
     },
     "user_tz": 180
    },
    "id": "uvAjTBCJS9sA",
    "outputId": "bf6897d8-ed28-4a84-d759-97cc892e270a"
   },
   "outputs": [
    {
     "data": {
      "text/html": [
       "<div>\n",
       "<style scoped>\n",
       "    .dataframe tbody tr th:only-of-type {\n",
       "        vertical-align: middle;\n",
       "    }\n",
       "\n",
       "    .dataframe tbody tr th {\n",
       "        vertical-align: top;\n",
       "    }\n",
       "\n",
       "    .dataframe thead th {\n",
       "        text-align: right;\n",
       "    }\n",
       "</style>\n",
       "<table border=\"1\" class=\"dataframe\">\n",
       "  <thead>\n",
       "    <tr style=\"text-align: right;\">\n",
       "      <th></th>\n",
       "      <th>province</th>\n",
       "      <th>country</th>\n",
       "      <th>Lat</th>\n",
       "      <th>Long</th>\n",
       "      <th>date</th>\n",
       "      <th>dead</th>\n",
       "    </tr>\n",
       "  </thead>\n",
       "  <tbody>\n",
       "    <tr>\n",
       "      <th>330322</th>\n",
       "      <td>NaN</td>\n",
       "      <td>West Bank and Gaza</td>\n",
       "      <td>31.952200</td>\n",
       "      <td>35.233200</td>\n",
       "      <td>2023-03-09</td>\n",
       "      <td>5708</td>\n",
       "    </tr>\n",
       "    <tr>\n",
       "      <th>330323</th>\n",
       "      <td>NaN</td>\n",
       "      <td>Winter Olympics 2022</td>\n",
       "      <td>39.904200</td>\n",
       "      <td>116.407400</td>\n",
       "      <td>2023-03-09</td>\n",
       "      <td>0</td>\n",
       "    </tr>\n",
       "    <tr>\n",
       "      <th>330324</th>\n",
       "      <td>NaN</td>\n",
       "      <td>Yemen</td>\n",
       "      <td>15.552727</td>\n",
       "      <td>48.516388</td>\n",
       "      <td>2023-03-09</td>\n",
       "      <td>2159</td>\n",
       "    </tr>\n",
       "    <tr>\n",
       "      <th>330325</th>\n",
       "      <td>NaN</td>\n",
       "      <td>Zambia</td>\n",
       "      <td>-13.133897</td>\n",
       "      <td>27.849332</td>\n",
       "      <td>2023-03-09</td>\n",
       "      <td>4057</td>\n",
       "    </tr>\n",
       "    <tr>\n",
       "      <th>330326</th>\n",
       "      <td>NaN</td>\n",
       "      <td>Zimbabwe</td>\n",
       "      <td>-19.015438</td>\n",
       "      <td>29.154857</td>\n",
       "      <td>2023-03-09</td>\n",
       "      <td>5671</td>\n",
       "    </tr>\n",
       "  </tbody>\n",
       "</table>\n",
       "</div>"
      ],
      "text/plain": [
       "       province               country        Lat        Long       date  dead\n",
       "330322      NaN    West Bank and Gaza  31.952200   35.233200 2023-03-09  5708\n",
       "330323      NaN  Winter Olympics 2022  39.904200  116.407400 2023-03-09     0\n",
       "330324      NaN                 Yemen  15.552727   48.516388 2023-03-09  2159\n",
       "330325      NaN                Zambia -13.133897   27.849332 2023-03-09  4057\n",
       "330326      NaN              Zimbabwe -19.015438   29.154857 2023-03-09  5671"
      ]
     },
     "execution_count": 71,
     "metadata": {},
     "output_type": "execute_result"
    }
   ],
   "source": [
    "dados_paises_covid_dead.tail()"
   ]
  },
  {
   "cell_type": "code",
   "execution_count": 72,
   "metadata": {
    "colab": {
     "base_uri": "https://localhost:8080/"
    },
    "executionInfo": {
     "elapsed": 1442,
     "status": "ok",
     "timestamp": 1619608700754,
     "user": {
      "displayName": "Neto Alcides",
      "photoUrl": "https://lh3.googleusercontent.com/a-/AOh14Gh8VabomHhTSghAjZkIwbJOQxu7jJks-O6DCCPedw=s64",
      "userId": "13364792603978952311"
     },
     "user_tz": 180
    },
    "id": "F-7i7eqQehUo",
    "outputId": "ae986b5c-cb44-4ceb-cec8-732de1f11ebe"
   },
   "outputs": [
    {
     "data": {
      "text/plain": [
       "province            object\n",
       "country             object\n",
       "Lat                float64\n",
       "Long               float64\n",
       "date        datetime64[ns]\n",
       "dead                 int64\n",
       "dtype: object"
      ]
     },
     "execution_count": 72,
     "metadata": {},
     "output_type": "execute_result"
    }
   ],
   "source": [
    "dados_paises_covid_dead.dtypes"
   ]
  },
  {
   "cell_type": "markdown",
   "metadata": {
    "id": "D16RNZgTS9wJ"
   },
   "source": [
    "- Combinar os datasets"
   ]
  },
  {
   "cell_type": "code",
   "execution_count": 73,
   "metadata": {
    "colab": {
     "base_uri": "https://localhost:8080/"
    },
    "executionInfo": {
     "elapsed": 1000,
     "status": "ok",
     "timestamp": 1619608701566,
     "user": {
      "displayName": "Neto Alcides",
      "photoUrl": "https://lh3.googleusercontent.com/a-/AOh14Gh8VabomHhTSghAjZkIwbJOQxu7jJks-O6DCCPedw=s64",
      "userId": "13364792603978952311"
     },
     "user_tz": 180
    },
    "id": "f4zOkqqRXRd3",
    "outputId": "df10881b-abe7-4150-a3cd-46d93b7594d6"
   },
   "outputs": [
    {
     "data": {
      "text/plain": [
       "(330327, 6)"
      ]
     },
     "execution_count": 73,
     "metadata": {},
     "output_type": "execute_result"
    }
   ],
   "source": [
    "dados_paises_covid.shape"
   ]
  },
  {
   "cell_type": "code",
   "execution_count": 74,
   "metadata": {
    "colab": {
     "base_uri": "https://localhost:8080/"
    },
    "executionInfo": {
     "elapsed": 1348,
     "status": "ok",
     "timestamp": 1619608702374,
     "user": {
      "displayName": "Neto Alcides",
      "photoUrl": "https://lh3.googleusercontent.com/a-/AOh14Gh8VabomHhTSghAjZkIwbJOQxu7jJks-O6DCCPedw=s64",
      "userId": "13364792603978952311"
     },
     "user_tz": 180
    },
    "id": "X8OoawEVXRi7",
    "outputId": "4cc1f937-8e37-48f7-cafb-a196f0f70e19"
   },
   "outputs": [
    {
     "data": {
      "text/plain": [
       "(330327, 6)"
      ]
     },
     "execution_count": 74,
     "metadata": {},
     "output_type": "execute_result"
    }
   ],
   "source": [
    "dados_paises_covid_dead.shape"
   ]
  },
  {
   "cell_type": "code",
   "execution_count": 75,
   "metadata": {
    "executionInfo": {
     "elapsed": 2242,
     "status": "ok",
     "timestamp": 1619608703771,
     "user": {
      "displayName": "Neto Alcides",
      "photoUrl": "https://lh3.googleusercontent.com/a-/AOh14Gh8VabomHhTSghAjZkIwbJOQxu7jJks-O6DCCPedw=s64",
      "userId": "13364792603978952311"
     },
     "user_tz": 180
    },
    "id": "vMV2x0qJXRnA"
   },
   "outputs": [],
   "source": [
    "dados_covid = pd.merge(\n",
    "    dados_paises_covid,\n",
    "    dados_paises_covid_dead,\n",
    "    on=[\"province\", \"country\", \"Lat\", \"Long\", \"date\"],\n",
    "    how=\"inner\",\n",
    ")"
   ]
  },
  {
   "cell_type": "code",
   "execution_count": 76,
   "metadata": {
    "colab": {
     "base_uri": "https://localhost:8080/",
     "height": 204
    },
    "executionInfo": {
     "elapsed": 1799,
     "status": "ok",
     "timestamp": 1619608703772,
     "user": {
      "displayName": "Neto Alcides",
      "photoUrl": "https://lh3.googleusercontent.com/a-/AOh14Gh8VabomHhTSghAjZkIwbJOQxu7jJks-O6DCCPedw=s64",
      "userId": "13364792603978952311"
     },
     "user_tz": 180
    },
    "id": "q3De0qHYXRrY",
    "outputId": "c52dc897-792d-4e35-d07f-def3119ebbaa"
   },
   "outputs": [
    {
     "data": {
      "text/html": [
       "<div>\n",
       "<style scoped>\n",
       "    .dataframe tbody tr th:only-of-type {\n",
       "        vertical-align: middle;\n",
       "    }\n",
       "\n",
       "    .dataframe tbody tr th {\n",
       "        vertical-align: top;\n",
       "    }\n",
       "\n",
       "    .dataframe thead th {\n",
       "        text-align: right;\n",
       "    }\n",
       "</style>\n",
       "<table border=\"1\" class=\"dataframe\">\n",
       "  <thead>\n",
       "    <tr style=\"text-align: right;\">\n",
       "      <th></th>\n",
       "      <th>province</th>\n",
       "      <th>country</th>\n",
       "      <th>Lat</th>\n",
       "      <th>Long</th>\n",
       "      <th>date</th>\n",
       "      <th>infected</th>\n",
       "      <th>dead</th>\n",
       "    </tr>\n",
       "  </thead>\n",
       "  <tbody>\n",
       "    <tr>\n",
       "      <th>330322</th>\n",
       "      <td>NaN</td>\n",
       "      <td>West Bank and Gaza</td>\n",
       "      <td>31.952200</td>\n",
       "      <td>35.233200</td>\n",
       "      <td>2023-03-09</td>\n",
       "      <td>703228</td>\n",
       "      <td>5708</td>\n",
       "    </tr>\n",
       "    <tr>\n",
       "      <th>330323</th>\n",
       "      <td>NaN</td>\n",
       "      <td>Winter Olympics 2022</td>\n",
       "      <td>39.904200</td>\n",
       "      <td>116.407400</td>\n",
       "      <td>2023-03-09</td>\n",
       "      <td>535</td>\n",
       "      <td>0</td>\n",
       "    </tr>\n",
       "    <tr>\n",
       "      <th>330324</th>\n",
       "      <td>NaN</td>\n",
       "      <td>Yemen</td>\n",
       "      <td>15.552727</td>\n",
       "      <td>48.516388</td>\n",
       "      <td>2023-03-09</td>\n",
       "      <td>11945</td>\n",
       "      <td>2159</td>\n",
       "    </tr>\n",
       "    <tr>\n",
       "      <th>330325</th>\n",
       "      <td>NaN</td>\n",
       "      <td>Zambia</td>\n",
       "      <td>-13.133897</td>\n",
       "      <td>27.849332</td>\n",
       "      <td>2023-03-09</td>\n",
       "      <td>343135</td>\n",
       "      <td>4057</td>\n",
       "    </tr>\n",
       "    <tr>\n",
       "      <th>330326</th>\n",
       "      <td>NaN</td>\n",
       "      <td>Zimbabwe</td>\n",
       "      <td>-19.015438</td>\n",
       "      <td>29.154857</td>\n",
       "      <td>2023-03-09</td>\n",
       "      <td>264276</td>\n",
       "      <td>5671</td>\n",
       "    </tr>\n",
       "  </tbody>\n",
       "</table>\n",
       "</div>"
      ],
      "text/plain": [
       "       province               country        Lat        Long       date  \\\n",
       "330322      NaN    West Bank and Gaza  31.952200   35.233200 2023-03-09   \n",
       "330323      NaN  Winter Olympics 2022  39.904200  116.407400 2023-03-09   \n",
       "330324      NaN                 Yemen  15.552727   48.516388 2023-03-09   \n",
       "330325      NaN                Zambia -13.133897   27.849332 2023-03-09   \n",
       "330326      NaN              Zimbabwe -19.015438   29.154857 2023-03-09   \n",
       "\n",
       "        infected  dead  \n",
       "330322    703228  5708  \n",
       "330323       535     0  \n",
       "330324     11945  2159  \n",
       "330325    343135  4057  \n",
       "330326    264276  5671  "
      ]
     },
     "execution_count": 76,
     "metadata": {},
     "output_type": "execute_result"
    }
   ],
   "source": [
    "dados_covid.tail()"
   ]
  },
  {
   "cell_type": "code",
   "execution_count": 77,
   "metadata": {
    "colab": {
     "base_uri": "https://localhost:8080/"
    },
    "executionInfo": {
     "elapsed": 1350,
     "status": "ok",
     "timestamp": 1619608703773,
     "user": {
      "displayName": "Neto Alcides",
      "photoUrl": "https://lh3.googleusercontent.com/a-/AOh14Gh8VabomHhTSghAjZkIwbJOQxu7jJks-O6DCCPedw=s64",
      "userId": "13364792603978952311"
     },
     "user_tz": 180
    },
    "id": "ixhzuKJPIDzV",
    "outputId": "e5668acb-5584-4cbd-d72a-2543f9158200"
   },
   "outputs": [
    {
     "data": {
      "text/plain": [
       "(330327, 7)"
      ]
     },
     "execution_count": 77,
     "metadata": {},
     "output_type": "execute_result"
    }
   ],
   "source": [
    "dados_covid.shape"
   ]
  },
  {
   "cell_type": "markdown",
   "metadata": {
    "id": "FYba1y-bXRvH"
   },
   "source": [
    "## Aqui começa o trabalho"
   ]
  },
  {
   "cell_type": "markdown",
   "metadata": {
    "id": "eIMJfzTYv7Eu"
   },
   "source": [
    "## *Exemplo probabilidades (memórias de cálculo)"
   ]
  },
  {
   "cell_type": "markdown",
   "metadata": {
    "id": "yIFT4xrxHQNL"
   },
   "source": [
    "- Prob(infectados covid)"
   ]
  },
  {
   "cell_type": "markdown",
   "metadata": {
    "id": "UBV4ERSaHTlt"
   },
   "source": [
    "total infectados = soma do total de infectados dos 4 países"
   ]
  },
  {
   "cell_type": "markdown",
   "metadata": {
    "id": "SHANPKTqHTpz"
   },
   "source": [
    "total_populacao = soma do total de população dos 4 países"
   ]
  },
  {
   "cell_type": "markdown",
   "metadata": {
    "id": "7aAHolsKv7LM"
   },
   "source": [
    "P(infectados) = total infectados / total_populacao"
   ]
  },
  {
   "cell_type": "markdown",
   "metadata": {
    "id": "mqZPds-jFGo7"
   },
   "source": [
    "- P(infectado covid e ser Brasileiro)"
   ]
  },
  {
   "cell_type": "markdown",
   "metadata": {
    "id": "5HowoJaFFGtD"
   },
   "source": [
    "infectado_e_brasil = total de infectados do Brasil"
   ]
  },
  {
   "cell_type": "markdown",
   "metadata": {
    "id": "vZq64ny1QCA8"
   },
   "source": [
    "P(infectado covid e ser Brasileiro) = infectado_e_brasil / total_populacao"
   ]
  },
  {
   "cell_type": "markdown",
   "metadata": {
    "id": "23XNl8CIQCFQ"
   },
   "source": [
    "- P(Infectado covid | ser Brasileiro)"
   ]
  },
  {
   "cell_type": "markdown",
   "metadata": {
    "id": "toVzRtQXQCJK"
   },
   "source": [
    "total_brasil_populacao = populacao do Brasil"
   ]
  },
  {
   "cell_type": "markdown",
   "metadata": {
    "id": "9ZoEyZC-QCM4"
   },
   "source": [
    "P(Infectado covid | ser Brasileiro) = (infectado_e_brasil / total_populacao) / (total_brasil_populacao / total_populacao)"
   ]
  },
  {
   "cell_type": "markdown",
   "metadata": {
    "id": "xuVnhnEfVf6f"
   },
   "source": [
    "ou"
   ]
  },
  {
   "cell_type": "markdown",
   "metadata": {
    "id": "3pGCJu9XQCQp"
   },
   "source": [
    "P(Infectado covid | ser Brasileiro) = infectado_e_brasil / total_brasil_populacao"
   ]
  },
  {
   "cell_type": "markdown",
   "metadata": {},
   "source": [
    "# 1 \n",
    "– Filtrar a data mais recente (realizar o processo para buscar a última data de forma automatizada) e os países Brasil, Itália, E.U.A e Canadá."
   ]
  },
  {
   "cell_type": "code",
   "execution_count": 78,
   "metadata": {
    "id": "K-0bsN_pv7RF"
   },
   "outputs": [
    {
     "data": {
      "text/html": [
       "<div>\n",
       "<style scoped>\n",
       "    .dataframe tbody tr th:only-of-type {\n",
       "        vertical-align: middle;\n",
       "    }\n",
       "\n",
       "    .dataframe tbody tr th {\n",
       "        vertical-align: top;\n",
       "    }\n",
       "\n",
       "    .dataframe thead th {\n",
       "        text-align: right;\n",
       "    }\n",
       "</style>\n",
       "<table border=\"1\" class=\"dataframe\">\n",
       "  <thead>\n",
       "    <tr style=\"text-align: right;\">\n",
       "      <th></th>\n",
       "      <th>province</th>\n",
       "      <th>country</th>\n",
       "      <th>Lat</th>\n",
       "      <th>Long</th>\n",
       "      <th>date</th>\n",
       "      <th>infected</th>\n",
       "      <th>dead</th>\n",
       "    </tr>\n",
       "  </thead>\n",
       "  <tbody>\n",
       "    <tr>\n",
       "      <th>330069</th>\n",
       "      <td>NaN</td>\n",
       "      <td>Brazil</td>\n",
       "      <td>-14.2350</td>\n",
       "      <td>-51.9253</td>\n",
       "      <td>2023-03-09</td>\n",
       "      <td>37076053</td>\n",
       "      <td>699276</td>\n",
       "    </tr>\n",
       "    <tr>\n",
       "      <th>330078</th>\n",
       "      <td>Alberta</td>\n",
       "      <td>Canada</td>\n",
       "      <td>53.9333</td>\n",
       "      <td>-116.5765</td>\n",
       "      <td>2023-03-09</td>\n",
       "      <td>629269</td>\n",
       "      <td>5622</td>\n",
       "    </tr>\n",
       "    <tr>\n",
       "      <th>330079</th>\n",
       "      <td>British Columbia</td>\n",
       "      <td>Canada</td>\n",
       "      <td>53.7267</td>\n",
       "      <td>-127.6476</td>\n",
       "      <td>2023-03-09</td>\n",
       "      <td>396817</td>\n",
       "      <td>5249</td>\n",
       "    </tr>\n",
       "    <tr>\n",
       "      <th>330080</th>\n",
       "      <td>Diamond Princess</td>\n",
       "      <td>Canada</td>\n",
       "      <td>0.0000</td>\n",
       "      <td>0.0000</td>\n",
       "      <td>2023-03-09</td>\n",
       "      <td>0</td>\n",
       "      <td>1</td>\n",
       "    </tr>\n",
       "    <tr>\n",
       "      <th>330081</th>\n",
       "      <td>Grand Princess</td>\n",
       "      <td>Canada</td>\n",
       "      <td>0.0000</td>\n",
       "      <td>0.0000</td>\n",
       "      <td>2023-03-09</td>\n",
       "      <td>13</td>\n",
       "      <td>0</td>\n",
       "    </tr>\n",
       "    <tr>\n",
       "      <th>330082</th>\n",
       "      <td>Manitoba</td>\n",
       "      <td>Canada</td>\n",
       "      <td>53.7609</td>\n",
       "      <td>-98.8139</td>\n",
       "      <td>2023-03-09</td>\n",
       "      <td>154712</td>\n",
       "      <td>2464</td>\n",
       "    </tr>\n",
       "    <tr>\n",
       "      <th>330083</th>\n",
       "      <td>New Brunswick</td>\n",
       "      <td>Canada</td>\n",
       "      <td>46.5653</td>\n",
       "      <td>-66.4619</td>\n",
       "      <td>2023-03-09</td>\n",
       "      <td>88866</td>\n",
       "      <td>834</td>\n",
       "    </tr>\n",
       "    <tr>\n",
       "      <th>330084</th>\n",
       "      <td>Newfoundland and Labrador</td>\n",
       "      <td>Canada</td>\n",
       "      <td>53.1355</td>\n",
       "      <td>-57.6604</td>\n",
       "      <td>2023-03-09</td>\n",
       "      <td>54757</td>\n",
       "      <td>318</td>\n",
       "    </tr>\n",
       "    <tr>\n",
       "      <th>330085</th>\n",
       "      <td>Northwest Territories</td>\n",
       "      <td>Canada</td>\n",
       "      <td>64.8255</td>\n",
       "      <td>-124.8457</td>\n",
       "      <td>2023-03-09</td>\n",
       "      <td>11511</td>\n",
       "      <td>22</td>\n",
       "    </tr>\n",
       "    <tr>\n",
       "      <th>330086</th>\n",
       "      <td>Nova Scotia</td>\n",
       "      <td>Canada</td>\n",
       "      <td>44.6820</td>\n",
       "      <td>-63.7443</td>\n",
       "      <td>2023-03-09</td>\n",
       "      <td>140793</td>\n",
       "      <td>794</td>\n",
       "    </tr>\n",
       "  </tbody>\n",
       "</table>\n",
       "</div>"
      ],
      "text/plain": [
       "                         province country      Lat      Long       date  \\\n",
       "330069                        NaN  Brazil -14.2350  -51.9253 2023-03-09   \n",
       "330078                    Alberta  Canada  53.9333 -116.5765 2023-03-09   \n",
       "330079           British Columbia  Canada  53.7267 -127.6476 2023-03-09   \n",
       "330080           Diamond Princess  Canada   0.0000    0.0000 2023-03-09   \n",
       "330081             Grand Princess  Canada   0.0000    0.0000 2023-03-09   \n",
       "330082                   Manitoba  Canada  53.7609  -98.8139 2023-03-09   \n",
       "330083              New Brunswick  Canada  46.5653  -66.4619 2023-03-09   \n",
       "330084  Newfoundland and Labrador  Canada  53.1355  -57.6604 2023-03-09   \n",
       "330085      Northwest Territories  Canada  64.8255 -124.8457 2023-03-09   \n",
       "330086                Nova Scotia  Canada  44.6820  -63.7443 2023-03-09   \n",
       "\n",
       "        infected    dead  \n",
       "330069  37076053  699276  \n",
       "330078    629269    5622  \n",
       "330079    396817    5249  \n",
       "330080         0       1  \n",
       "330081        13       0  \n",
       "330082    154712    2464  \n",
       "330083     88866     834  \n",
       "330084     54757     318  \n",
       "330085     11511      22  \n",
       "330086    140793     794  "
      ]
     },
     "execution_count": 78,
     "metadata": {},
     "output_type": "execute_result"
    }
   ],
   "source": [
    "paises = [\"Brazil\", \"Canada\", \"Italy\", \"US\"]\n",
    "\n",
    "recente = np.max(dados_covid[\"date\"])\n",
    "\n",
    "dados_covid[\n",
    "    (dados_covid[\"country\"].isin(paises)) & (dados_covid[\"date\"] == recente)\n",
    "].head(10)"
   ]
  },
  {
   "cell_type": "code",
   "execution_count": 79,
   "metadata": {},
   "outputs": [],
   "source": [
    "_dados_colapsados = (\n",
    "    dados_covid.groupby([\"country\", \"date\"])\n",
    "    .agg(infected=pd.NamedAgg(\"infected\", \"sum\"), dead=pd.NamedAgg(\"dead\", \"sum\"))\n",
    "    .reset_index()\n",
    ")\n",
    "\n",
    "# Colapsando provinciais..."
   ]
  },
  {
   "cell_type": "code",
   "execution_count": 80,
   "metadata": {},
   "outputs": [
    {
     "data": {
      "text/html": [
       "<div>\n",
       "<style scoped>\n",
       "    .dataframe tbody tr th:only-of-type {\n",
       "        vertical-align: middle;\n",
       "    }\n",
       "\n",
       "    .dataframe tbody tr th {\n",
       "        vertical-align: top;\n",
       "    }\n",
       "\n",
       "    .dataframe thead th {\n",
       "        text-align: right;\n",
       "    }\n",
       "</style>\n",
       "<table border=\"1\" class=\"dataframe\">\n",
       "  <thead>\n",
       "    <tr style=\"text-align: right;\">\n",
       "      <th></th>\n",
       "      <th>country</th>\n",
       "      <th>date</th>\n",
       "      <th>infected</th>\n",
       "      <th>dead</th>\n",
       "    </tr>\n",
       "  </thead>\n",
       "  <tbody>\n",
       "    <tr>\n",
       "      <th>28574</th>\n",
       "      <td>Brazil</td>\n",
       "      <td>2023-03-09</td>\n",
       "      <td>37076053</td>\n",
       "      <td>699276</td>\n",
       "    </tr>\n",
       "    <tr>\n",
       "      <th>38861</th>\n",
       "      <td>Canada</td>\n",
       "      <td>2023-03-09</td>\n",
       "      <td>4617095</td>\n",
       "      <td>51720</td>\n",
       "    </tr>\n",
       "    <tr>\n",
       "      <th>99440</th>\n",
       "      <td>Italy</td>\n",
       "      <td>2023-03-09</td>\n",
       "      <td>25603510</td>\n",
       "      <td>188322</td>\n",
       "    </tr>\n",
       "    <tr>\n",
       "      <th>213740</th>\n",
       "      <td>US</td>\n",
       "      <td>2023-03-09</td>\n",
       "      <td>103802702</td>\n",
       "      <td>1123836</td>\n",
       "    </tr>\n",
       "  </tbody>\n",
       "</table>\n",
       "</div>"
      ],
      "text/plain": [
       "       country       date   infected     dead\n",
       "28574   Brazil 2023-03-09   37076053   699276\n",
       "38861   Canada 2023-03-09    4617095    51720\n",
       "99440    Italy 2023-03-09   25603510   188322\n",
       "213740      US 2023-03-09  103802702  1123836"
      ]
     },
     "execution_count": 80,
     "metadata": {},
     "output_type": "execute_result"
    }
   ],
   "source": [
    "df_paises = _dados_colapsados[_dados_colapsados[\"country\"].isin(paises)]\n",
    "df_paises[df_paises[\"date\"] == recente]"
   ]
  },
  {
   "cell_type": "markdown",
   "metadata": {},
   "source": [
    "# 2\n",
    "– Pesquisar populações de Brasil, Itália, E.U.A. e Canadá. Depois, adicionar estas populações \n",
    "como uma coluna no dataset."
   ]
  },
  {
   "cell_type": "markdown",
   "metadata": {},
   "source": [
    "dados_covid['Brasil']"
   ]
  },
  {
   "cell_type": "code",
   "execution_count": 81,
   "metadata": {},
   "outputs": [
    {
     "name": "stderr",
     "output_type": "stream",
     "text": [
      "C:\\Users\\gxmes\\AppData\\Local\\Temp\\ipykernel_19964\\1001441053.py:18: SettingWithCopyWarning: \n",
      "A value is trying to be set on a copy of a slice from a DataFrame.\n",
      "Try using .loc[row_indexer,col_indexer] = value instead\n",
      "\n",
      "See the caveats in the documentation: https://pandas.pydata.org/pandas-docs/stable/user_guide/indexing.html#returning-a-view-versus-a-copy\n",
      "  df_paises[\"pop\"] = df_paises[\"country\"].apply(filtrar)\n"
     ]
    },
    {
     "data": {
      "text/html": [
       "<div>\n",
       "<style scoped>\n",
       "    .dataframe tbody tr th:only-of-type {\n",
       "        vertical-align: middle;\n",
       "    }\n",
       "\n",
       "    .dataframe tbody tr th {\n",
       "        vertical-align: top;\n",
       "    }\n",
       "\n",
       "    .dataframe thead th {\n",
       "        text-align: right;\n",
       "    }\n",
       "</style>\n",
       "<table border=\"1\" class=\"dataframe\">\n",
       "  <thead>\n",
       "    <tr style=\"text-align: right;\">\n",
       "      <th></th>\n",
       "      <th>country</th>\n",
       "      <th>date</th>\n",
       "      <th>infected</th>\n",
       "      <th>dead</th>\n",
       "      <th>pop</th>\n",
       "    </tr>\n",
       "  </thead>\n",
       "  <tbody>\n",
       "    <tr>\n",
       "      <th>28574</th>\n",
       "      <td>Brazil</td>\n",
       "      <td>2023-03-09</td>\n",
       "      <td>37076053</td>\n",
       "      <td>699276</td>\n",
       "      <td>212600000</td>\n",
       "    </tr>\n",
       "    <tr>\n",
       "      <th>38861</th>\n",
       "      <td>Canada</td>\n",
       "      <td>2023-03-09</td>\n",
       "      <td>4617095</td>\n",
       "      <td>51720</td>\n",
       "      <td>38010000</td>\n",
       "    </tr>\n",
       "    <tr>\n",
       "      <th>99440</th>\n",
       "      <td>Italy</td>\n",
       "      <td>2023-03-09</td>\n",
       "      <td>25603510</td>\n",
       "      <td>188322</td>\n",
       "      <td>59550000</td>\n",
       "    </tr>\n",
       "    <tr>\n",
       "      <th>213740</th>\n",
       "      <td>US</td>\n",
       "      <td>2023-03-09</td>\n",
       "      <td>103802702</td>\n",
       "      <td>1123836</td>\n",
       "      <td>329500000</td>\n",
       "    </tr>\n",
       "  </tbody>\n",
       "</table>\n",
       "</div>"
      ],
      "text/plain": [
       "       country       date   infected     dead        pop\n",
       "28574   Brazil 2023-03-09   37076053   699276  212600000\n",
       "38861   Canada 2023-03-09    4617095    51720   38010000\n",
       "99440    Italy 2023-03-09   25603510   188322   59550000\n",
       "213740      US 2023-03-09  103802702  1123836  329500000"
      ]
     },
     "execution_count": 81,
     "metadata": {},
     "output_type": "execute_result"
    }
   ],
   "source": [
    "brasil_pop = int(212.6e6)\n",
    "canada_pop = int(38.01e6)\n",
    "italy_pop = int(59.55e6)\n",
    "us_pop = int(329.5e6)\n",
    "\n",
    "\n",
    "def filtrar(pais):\n",
    "    if pais == \"Brazil\":\n",
    "        return brasil_pop\n",
    "    if pais == \"Canada\":\n",
    "        return canada_pop\n",
    "    if pais == \"Italy\":\n",
    "        return italy_pop\n",
    "    if pais == \"US\":\n",
    "        return us_pop\n",
    "\n",
    "\n",
    "df_paises[\"pop\"] = df_paises[\"country\"].apply(filtrar)\n",
    "df_paises[df_paises[\"date\"] == recente]  # Países filtrados + População"
   ]
  },
  {
   "cell_type": "markdown",
   "metadata": {},
   "source": [
    "# 3\n",
    "– Considerando somente os dados dos países apresentados, encontre as seguintes \n",
    "probabilidades, baseando-se na coluna de infectados:"
   ]
  },
  {
   "cell_type": "code",
   "execution_count": 82,
   "metadata": {},
   "outputs": [],
   "source": [
    "df = df_paises  # Simplificando chamada\n",
    "ano_passado = recente - timedelta(days=365)"
   ]
  },
  {
   "cell_type": "markdown",
   "metadata": {},
   "source": [
    "### -- Preparando dados --"
   ]
  },
  {
   "cell_type": "code",
   "execution_count": 83,
   "metadata": {},
   "outputs": [
    {
     "data": {
      "text/plain": [
       "171099360"
      ]
     },
     "execution_count": 83,
     "metadata": {},
     "output_type": "execute_result"
    }
   ],
   "source": [
    "total_infectados = sum(df[df[\"date\"] == recente][\"infected\"])\n",
    "total_infectados"
   ]
  },
  {
   "cell_type": "code",
   "execution_count": 84,
   "metadata": {},
   "outputs": [
    {
     "data": {
      "text/plain": [
       "639660000"
      ]
     },
     "execution_count": 84,
     "metadata": {},
     "output_type": "execute_result"
    }
   ],
   "source": [
    "total_populacao = sum([brasil_pop, canada_pop, italy_pop, us_pop])\n",
    "total_populacao"
   ]
  },
  {
   "cell_type": "code",
   "execution_count": 85,
   "metadata": {},
   "outputs": [
    {
     "data": {
      "text/plain": [
       "2063154"
      ]
     },
     "execution_count": 85,
     "metadata": {},
     "output_type": "execute_result"
    }
   ],
   "source": [
    "total_mortes = sum(df[df[\"date\"] == recente][\"dead\"])\n",
    "total_mortes"
   ]
  },
  {
   "cell_type": "code",
   "execution_count": 86,
   "metadata": {},
   "outputs": [],
   "source": [
    "def dados(pais, tipo, tempo):\n",
    "    tmp = df[df[\"date\"] == tempo]\n",
    "    return sum(tmp[tmp[\"country\"] == pais][tipo])\n",
    "\n",
    "\n",
    "def porcentagem(valor):\n",
    "    return f\"{round(valor * 100, 2)}%\""
   ]
  },
  {
   "cell_type": "markdown",
   "metadata": {},
   "source": [
    "### a) P(infectado covid):"
   ]
  },
  {
   "cell_type": "code",
   "execution_count": 87,
   "metadata": {},
   "outputs": [
    {
     "name": "stdout",
     "output_type": "stream",
     "text": [
      "Probabilidade de infecção: 26.75%\n"
     ]
    }
   ],
   "source": [
    "infectado_covid = total_infectados / total_populacao\n",
    "\n",
    "print(f\"Probabilidade de infecção: \" + porcentagem(infectado_covid))"
   ]
  },
  {
   "cell_type": "markdown",
   "metadata": {},
   "source": [
    "## b) P(infectado covid e ser Brasileiro)\n"
   ]
  },
  {
   "cell_type": "code",
   "execution_count": 88,
   "metadata": {},
   "outputs": [
    {
     "name": "stdout",
     "output_type": "stream",
     "text": [
      "Probabilidade de estar infectado e ser brasileiro: 5.8%\n"
     ]
    }
   ],
   "source": [
    "infectado_e_br = dados(\"Brazil\", \"infected\", recente) / total_populacao\n",
    "\n",
    "print(\n",
    "    f\"Probabilidade de estar infectado e ser brasileiro: \" + porcentagem(infectado_e_br)\n",
    ")"
   ]
  },
  {
   "cell_type": "markdown",
   "metadata": {},
   "source": [
    "## c) P(infectado covid | ser Brasileiro)"
   ]
  },
  {
   "cell_type": "code",
   "execution_count": 89,
   "metadata": {},
   "outputs": [
    {
     "name": "stdout",
     "output_type": "stream",
     "text": [
      "Probabilidade de estar infectado ou ser brasileiro: 17.44%\n"
     ]
    }
   ],
   "source": [
    "infectado_ou_br = (dados(\"Brazil\", \"infected\", recente) / total_populacao) / (\n",
    "    dados(\"Brazil\", \"pop\", recente) / total_populacao\n",
    ")\n",
    "\n",
    "print(\n",
    "    f\"Probabilidade de estar infectado ou ser brasileiro: \"\n",
    "    + porcentagem(infectado_ou_br)\n",
    ")"
   ]
  },
  {
   "cell_type": "markdown",
   "metadata": {},
   "source": [
    "## d) Compare estes resultados com o mesmo período do ano passado."
   ]
  },
  {
   "cell_type": "code",
   "execution_count": 90,
   "metadata": {},
   "outputs": [
    {
     "name": "stdout",
     "output_type": "stream",
     "text": [
      "Total de infectados: Atual: 171099360, ano passado: 125249943, dif: 136.61%\n",
      "Infectados e brasileiros: Atual: 5.8%, ano passado: 23.31%, dif: 24.86%\n",
      "Infectado ou brasileiro: Atual: 17.44%, ano passado: 13.73%, dif: 126.98%\n"
     ]
    }
   ],
   "source": [
    "def comparador(presente, passado, total=False):\n",
    "    dif = porcentagem(presente / passado)\n",
    "    if not total:\n",
    "        presente = porcentagem(presente)\n",
    "        passado = porcentagem(passado)\n",
    "    _pattern = f\"\"\"Atual: {presente}, ano passado: {passado}, dif: {dif}\"\"\"\n",
    "    return _pattern\n",
    "\n",
    "\n",
    "total_infectados_passado = sum(df[df[\"date\"] == ano_passado][\"infected\"])\n",
    "infectado_e_br_passado = (\n",
    "    dados(\"Brazil\", \"infected\", ano_passado) / total_infectados_passado\n",
    ")\n",
    "infectado_ou_br_passado = (\n",
    "    dados(\"Brazil\", \"infected\", ano_passado) / total_populacao\n",
    ") / (dados(\"Brazil\", \"pop\", ano_passado) / total_populacao)\n",
    "\n",
    "print(\n",
    "    \"Total de infectados: \"\n",
    "    + comparador(total_infectados, total_infectados_passado, total=True)\n",
    ")\n",
    "print(\"Infectados e brasileiros: \" + comparador(infectado_e_br, infectado_e_br_passado))\n",
    "print(\n",
    "    \"Infectado ou brasileiro: \" + comparador(infectado_ou_br, infectado_ou_br_passado)\n",
    ")"
   ]
  },
  {
   "cell_type": "markdown",
   "metadata": {},
   "source": [
    "## e) P(infectado covid e ser USA)"
   ]
  },
  {
   "cell_type": "code",
   "execution_count": 91,
   "metadata": {},
   "outputs": [
    {
     "name": "stdout",
     "output_type": "stream",
     "text": [
      "Probabilidade de estar infectado e ser estadunidense: 16.23%\n"
     ]
    }
   ],
   "source": [
    "infectado_e_us = dados(\"US\", \"infected\", recente) / total_populacao\n",
    "\n",
    "print(\n",
    "    f\"Probabilidade de estar infectado e ser estadunidense: \"\n",
    "    + porcentagem(infectado_e_us)\n",
    ")"
   ]
  },
  {
   "cell_type": "markdown",
   "metadata": {},
   "source": [
    "## f) P(infectado covid | ser USA)"
   ]
  },
  {
   "cell_type": "code",
   "execution_count": 92,
   "metadata": {},
   "outputs": [
    {
     "name": "stdout",
     "output_type": "stream",
     "text": [
      "Probabilidade de estar infectado ou ser estadunidense: 31.5%\n"
     ]
    }
   ],
   "source": [
    "infectado_ou_us = (dados(\"US\", \"infected\", recente) / total_populacao) / (\n",
    "    dados(\"US\", \"pop\", recente) / total_populacao\n",
    ")\n",
    "\n",
    "print(\n",
    "    f\"Probabilidade de estar infectado ou ser estadunidense: \"\n",
    "    + porcentagem(infectado_ou_us)\n",
    ")"
   ]
  },
  {
   "cell_type": "markdown",
   "metadata": {},
   "source": [
    "## g) Compare estes resultados com o mesmo período do ano passado."
   ]
  },
  {
   "cell_type": "code",
   "execution_count": 93,
   "metadata": {},
   "outputs": [
    {
     "name": "stdout",
     "output_type": "stream",
     "text": [
      "Infectados e estadunidense: Atual: 16.23%, ano passado: 63.5%, dif: 25.55%\n",
      "Infectado ou estadunidense: Atual: 31.5%, ano passado: 24.14%, dif: 130.51%\n"
     ]
    }
   ],
   "source": [
    "infectado_e_us_passado = dados(\"US\", \"infected\", ano_passado) / total_infectados_passado\n",
    "infectado_ou_us_passado = (dados(\"US\", \"infected\", ano_passado) / total_populacao) / (\n",
    "    dados(\"US\", \"pop\", ano_passado) / total_populacao\n",
    ")\n",
    "\n",
    "print(\n",
    "    \"Infectados e estadunidense: \" + comparador(infectado_e_us, infectado_e_us_passado)\n",
    ")\n",
    "print(\n",
    "    \"Infectado ou estadunidense: \"\n",
    "    + comparador(infectado_ou_us, infectado_ou_us_passado)\n",
    ")"
   ]
  },
  {
   "cell_type": "markdown",
   "metadata": {},
   "source": [
    "## h) P(infectado covid e ser Italiano)\n"
   ]
  },
  {
   "cell_type": "code",
   "execution_count": 94,
   "metadata": {},
   "outputs": [
    {
     "name": "stdout",
     "output_type": "stream",
     "text": [
      "Probabilidade de estar infectado e ser italiano: 4.0%\n"
     ]
    }
   ],
   "source": [
    "infectado_e_it = dados(\"Italy\", \"infected\", recente) / total_populacao\n",
    "\n",
    "print(\n",
    "    f\"Probabilidade de estar infectado e ser italiano: \" + porcentagem(infectado_e_it)\n",
    ")"
   ]
  },
  {
   "cell_type": "markdown",
   "metadata": {},
   "source": [
    "## i) P(infectado covid | ser Italiano)\n"
   ]
  },
  {
   "cell_type": "code",
   "execution_count": 95,
   "metadata": {},
   "outputs": [
    {
     "name": "stdout",
     "output_type": "stream",
     "text": [
      "Probabilidade de estar infectado ou ser italiano: 42.99%\n"
     ]
    }
   ],
   "source": [
    "infectado_ou_it = (dados(\"Italy\", \"infected\", recente) / total_populacao) / (\n",
    "    dados(\"Italy\", \"pop\", recente) / total_populacao\n",
    ")\n",
    "\n",
    "print(\n",
    "    f\"Probabilidade de estar infectado ou ser italiano: \" + porcentagem(infectado_ou_it)\n",
    ")"
   ]
  },
  {
   "cell_type": "markdown",
   "metadata": {},
   "source": [
    "## j) Compare estes resultados com o mesmo período do ano passado.\n"
   ]
  },
  {
   "cell_type": "code",
   "execution_count": 96,
   "metadata": {},
   "outputs": [
    {
     "name": "stdout",
     "output_type": "stream",
     "text": [
      "Infectados e italianos: Atual: 4.0%, ano passado: 10.51%, dif: 38.1%\n",
      "Infectado ou italianos: Atual: 42.99%, ano passado: 22.1%, dif: 194.57%\n"
     ]
    }
   ],
   "source": [
    "infectado_e_it_passado = (\n",
    "    dados(\"Italy\", \"infected\", ano_passado) / total_infectados_passado\n",
    ")\n",
    "infectado_ou_it_passado = (\n",
    "    dados(\"Italy\", \"infected\", ano_passado) / total_populacao\n",
    ") / (dados(\"Italy\", \"pop\", ano_passado) / total_populacao)\n",
    "\n",
    "print(\"Infectados e italianos: \" + comparador(infectado_e_it, infectado_e_it_passado))\n",
    "print(\"Infectado ou italianos: \" + comparador(infectado_ou_it, infectado_ou_it_passado))"
   ]
  },
  {
   "cell_type": "markdown",
   "metadata": {},
   "source": [
    "## 4"
   ]
  },
  {
   "cell_type": "markdown",
   "metadata": {},
   "source": [
    "-Encontre as seguintes probabilidades, baseando-se na colunade mortos"
   ]
  },
  {
   "cell_type": "markdown",
   "metadata": {},
   "source": [
    "## a) P(morte covid):"
   ]
  },
  {
   "cell_type": "code",
   "execution_count": 97,
   "metadata": {},
   "outputs": [
    {
     "name": "stdout",
     "output_type": "stream",
     "text": [
      "Probabilidade de morte: 0.32%\n"
     ]
    }
   ],
   "source": [
    "morte_covid = total_mortes / total_populacao\n",
    "\n",
    "print(f\"Probabilidade de morte: \" + porcentagem(morte_covid))"
   ]
  },
  {
   "cell_type": "markdown",
   "metadata": {},
   "source": [
    "## b) P(morte e ser Brasileiro)\n"
   ]
  },
  {
   "cell_type": "code",
   "execution_count": 98,
   "metadata": {},
   "outputs": [
    {
     "name": "stdout",
     "output_type": "stream",
     "text": [
      "Probabilidade de estar morto e ser brasileiro: 0.11%\n"
     ]
    }
   ],
   "source": [
    "morte_e_br = dados(\"Brazil\", \"dead\", recente) / total_populacao\n",
    "\n",
    "print(f\"Probabilidade de estar morto e ser brasileiro: \" + porcentagem(morte_e_br))"
   ]
  },
  {
   "cell_type": "markdown",
   "metadata": {},
   "source": [
    "## c) P(morte covid | ser Brasileiro)"
   ]
  },
  {
   "cell_type": "code",
   "execution_count": 99,
   "metadata": {},
   "outputs": [
    {
     "name": "stdout",
     "output_type": "stream",
     "text": [
      "Probabilidade de estar morto ou ser brasileiro: 0.33%\n"
     ]
    }
   ],
   "source": [
    "morte_ou_br = (dados(\"Brazil\", \"dead\", recente) / total_populacao) / (\n",
    "    dados(\"Brazil\", \"pop\", recente) / total_populacao\n",
    ")\n",
    "\n",
    "print(f\"Probabilidade de estar morto ou ser brasileiro: \" + porcentagem(morte_ou_br))"
   ]
  },
  {
   "cell_type": "markdown",
   "metadata": {},
   "source": [
    "## D) Compare estes resultados com o mesmo período do ano passado."
   ]
  },
  {
   "cell_type": "code",
   "execution_count": 100,
   "metadata": {},
   "outputs": [
    {
     "name": "stdout",
     "output_type": "stream",
     "text": [
      "Total de mortos: Atual: 2063154, ano passado: 1810557, dif: 113.95%\n",
      "Mortos e brasileiros: Atual: 0.11%, ano passado: 36.11%, dif: 0.3%\n",
      "Mortos ou brasileiro: Atual: 0.33%, ano passado: 0.31%, dif: 106.96%\n"
     ]
    }
   ],
   "source": [
    "total_mortes_passado = sum(df[df[\"date\"] == ano_passado][\"dead\"])\n",
    "morte_e_br_passado = dados(\"Brazil\", \"dead\", ano_passado) / total_mortes_passado\n",
    "morte_ou_br_passado = (dados(\"Brazil\", \"dead\", ano_passado) / total_populacao) / (\n",
    "    dados(\"Brazil\", \"pop\", ano_passado) / total_populacao\n",
    ")\n",
    "\n",
    "print(\"Total de mortos: \" + comparador(total_mortes, total_mortes_passado, total=True))\n",
    "print(\"Mortos e brasileiros: \" + comparador(morte_e_br, morte_e_br_passado))\n",
    "print(\"Mortos ou brasileiro: \" + comparador(morte_ou_br, morte_ou_br_passado))"
   ]
  },
  {
   "cell_type": "markdown",
   "metadata": {},
   "source": [
    "## e) P(morte covid e ser USA)"
   ]
  },
  {
   "cell_type": "code",
   "execution_count": 101,
   "metadata": {},
   "outputs": [
    {
     "name": "stdout",
     "output_type": "stream",
     "text": [
      "Probabilidade de estar morto e ser estadunidense: 0.18%\n"
     ]
    }
   ],
   "source": [
    "morte_e_us = dados(\"US\", \"dead\", recente) / total_populacao\n",
    "\n",
    "print(f\"Probabilidade de estar morto e ser estadunidense: \" + porcentagem(morte_e_us))"
   ]
  },
  {
   "cell_type": "markdown",
   "metadata": {},
   "source": [
    "## f)  P(morte covid | ser USA)\n"
   ]
  },
  {
   "cell_type": "code",
   "execution_count": 102,
   "metadata": {},
   "outputs": [
    {
     "name": "stdout",
     "output_type": "stream",
     "text": [
      "Probabilidade de estar morto ou ser estadunidense: 0.34%\n"
     ]
    }
   ],
   "source": [
    "morte_ou_us = (dados(\"US\", \"dead\", recente) / total_populacao) / (\n",
    "    dados(\"US\", \"pop\", recente) / total_populacao\n",
    ")\n",
    "\n",
    "print(f\"Probabilidade de estar morto ou ser estadunidense: \" + porcentagem(morte_ou_us))"
   ]
  },
  {
   "cell_type": "markdown",
   "metadata": {},
   "source": [
    "## g) Compare estes resultados com o mesmo período do ano passado."
   ]
  },
  {
   "cell_type": "code",
   "execution_count": 103,
   "metadata": {},
   "outputs": [
    {
     "name": "stdout",
     "output_type": "stream",
     "text": [
      "Mortos e estadunidenses: Atual: 0.18%, ano passado: 53.2%, dif: 0.33%\n",
      "Mortos ou estadunidenses: Atual: 0.34%, ano passado: 0.29%, dif: 116.67%\n"
     ]
    }
   ],
   "source": [
    "morte_e_us_passado = dados(\"US\", \"dead\", ano_passado) / total_mortes_passado\n",
    "morte_ou_us_passado = (dados(\"US\", \"dead\", ano_passado) / total_populacao) / (\n",
    "    dados(\"US\", \"pop\", ano_passado) / total_populacao\n",
    ")\n",
    "\n",
    "print(\"Mortos e estadunidenses: \" + comparador(morte_e_us, morte_e_us_passado))\n",
    "print(\"Mortos ou estadunidenses: \" + comparador(morte_ou_us, morte_ou_us_passado))"
   ]
  },
  {
   "cell_type": "markdown",
   "metadata": {},
   "source": [
    "## h) P(morte covid e ser Italiano)"
   ]
  },
  {
   "cell_type": "code",
   "execution_count": 104,
   "metadata": {},
   "outputs": [
    {
     "name": "stdout",
     "output_type": "stream",
     "text": [
      "Probabilidade de estar morto e ser italiano: 0.03%\n"
     ]
    }
   ],
   "source": [
    "morte_e_it = dados(\"Italy\", \"dead\", recente) / total_populacao\n",
    "\n",
    "print(f\"Probabilidade de estar morto e ser italiano: \" + porcentagem(morte_e_it))"
   ]
  },
  {
   "cell_type": "markdown",
   "metadata": {},
   "source": [
    "## i) P(morte covid | ser Italiano)"
   ]
  },
  {
   "cell_type": "code",
   "execution_count": 105,
   "metadata": {},
   "outputs": [
    {
     "name": "stdout",
     "output_type": "stream",
     "text": [
      "Probabilidade de estar morto ou ser italiano: 0.32%\n"
     ]
    }
   ],
   "source": [
    "morte_ou_it = (dados(\"Italy\", \"dead\", recente) / total_populacao) / (\n",
    "    dados(\"Italy\", \"pop\", recente) / total_populacao\n",
    ")\n",
    "\n",
    "print(f\"Probabilidade de estar morto ou ser italiano: \" + porcentagem(morte_ou_it))"
   ]
  },
  {
   "cell_type": "markdown",
   "metadata": {},
   "source": [
    "## j) Compare estes resultados com o mesmo período do ano passado."
   ]
  },
  {
   "cell_type": "code",
   "execution_count": 106,
   "metadata": {},
   "outputs": [
    {
     "name": "stdout",
     "output_type": "stream",
     "text": [
      "Mortos e italianos: Atual: 0.03%, ano passado: 8.64%, dif: 0.34%\n",
      "Mortos ou italianos: Atual: 0.32%, ano passado: 0.26%, dif: 120.44%\n"
     ]
    }
   ],
   "source": [
    "morte_e_it_passado = dados(\"Italy\", \"dead\", ano_passado) / total_mortes_passado\n",
    "morte_ou_it_passado = (dados(\"Italy\", \"dead\", ano_passado) / total_populacao) / (\n",
    "    dados(\"Italy\", \"pop\", ano_passado) / total_populacao\n",
    ")\n",
    "\n",
    "print(\"Mortos e italianos: \" + comparador(morte_e_it, morte_e_it_passado))\n",
    "print(\"Mortos ou italianos: \" + comparador(morte_ou_it, morte_ou_it_passado))"
   ]
  },
  {
   "cell_type": "markdown",
   "metadata": {},
   "source": [
    "## 5 – Gerar uma tabela resumo de todos os resultados. Comente as diferenças."
   ]
  },
  {
   "cell_type": "code",
   "execution_count": 107,
   "metadata": {},
   "outputs": [],
   "source": [
    "resumo_infectados = [\n",
    "    [\n",
    "        \"Brazil\",\n",
    "        sum(df[(df[\"country\"] == \"Brazil\") & (df[\"date\"] == recente)][\"infected\"]),\n",
    "        sum(df[(df[\"country\"] == \"Brazil\") & (df[\"date\"] == ano_passado)][\"infected\"]),\n",
    "        infectado_e_br,\n",
    "        infectado_e_br_passado,\n",
    "        infectado_ou_br,\n",
    "        infectado_ou_br_passado,\n",
    "    ],\n",
    "    [\n",
    "        \"Italy\",\n",
    "        sum(df[(df[\"country\"] == \"Italy\") & (df[\"date\"] == recente)][\"infected\"]),\n",
    "        sum(df[(df[\"country\"] == \"Italy\") & (df[\"date\"] == ano_passado)][\"infected\"]),\n",
    "        infectado_e_it,\n",
    "        infectado_e_it_passado,\n",
    "        infectado_ou_it,\n",
    "        infectado_ou_it_passado,\n",
    "    ],\n",
    "    [\n",
    "        \"US\",\n",
    "        sum(df[(df[\"country\"] == \"US\") & (df[\"date\"] == recente)][\"infected\"]),\n",
    "        sum(df[(df[\"country\"] == \"US\") & (df[\"date\"] == ano_passado)][\"infected\"]),\n",
    "        infectado_e_us,\n",
    "        infectado_e_us_passado,\n",
    "        infectado_ou_us,\n",
    "        infectado_ou_us_passado,\n",
    "    ],\n",
    "]\n",
    "resumo_infectados_df = pd.DataFrame(\n",
    "    resumo_infectados,\n",
    "    columns=[\n",
    "        \"País\",\n",
    "        \"Total infectados 2022\",\n",
    "        \"Total infectados 2021\",\n",
    "        \"Infectados+ 2022\",\n",
    "        \"Infectados+ 2021\",\n",
    "        \"Infectados| 2022\",\n",
    "        \"Infectados| 2021\",\n",
    "    ],\n",
    ")"
   ]
  },
  {
   "cell_type": "code",
   "execution_count": 108,
   "metadata": {},
   "outputs": [],
   "source": [
    "resumo_mortes = [\n",
    "    [\n",
    "        \"Brazil\",\n",
    "        sum(df[(df[\"country\"] == \"Brazil\") & (df[\"date\"] == recente)][\"dead\"]),\n",
    "        sum(df[(df[\"country\"] == \"Brazil\") & (df[\"date\"] == ano_passado)][\"dead\"]),\n",
    "        morte_e_br,\n",
    "        morte_e_br_passado,\n",
    "        morte_ou_br,\n",
    "        morte_ou_br_passado,\n",
    "    ],\n",
    "    [\n",
    "        \"Italy\",\n",
    "        sum(df[(df[\"country\"] == \"Italy\") & (df[\"date\"] == recente)][\"dead\"]),\n",
    "        sum(df[(df[\"country\"] == \"Italy\") & (df[\"date\"] == ano_passado)][\"dead\"]),\n",
    "        morte_e_it,\n",
    "        morte_e_it_passado,\n",
    "        morte_ou_it,\n",
    "        morte_ou_it_passado,\n",
    "    ],\n",
    "    [\n",
    "        \"US\",\n",
    "        sum(df[(df[\"country\"] == \"US\") & (df[\"date\"] == recente)][\"dead\"]),\n",
    "        sum(df[(df[\"country\"] == \"US\") & (df[\"date\"] == ano_passado)][\"dead\"]),\n",
    "        morte_e_us,\n",
    "        morte_e_us_passado,\n",
    "        morte_ou_us,\n",
    "        morte_ou_us_passado,\n",
    "    ],\n",
    "]\n",
    "resumo_mortes_df = pd.DataFrame(\n",
    "    resumo_mortes,\n",
    "    columns=[\n",
    "        \"País\",\n",
    "        \"Total mortes 2022\",\n",
    "        \"Total mortes 2021\",\n",
    "        \"Mortos+ 2022\",\n",
    "        \"Mortos+ 2021\",\n",
    "        \"Mortos| 2022\",\n",
    "        \"Mortos| 2021\",\n",
    "    ],\n",
    ")"
   ]
  },
  {
   "cell_type": "code",
   "execution_count": 109,
   "metadata": {},
   "outputs": [
    {
     "data": {
      "text/html": [
       "<div>\n",
       "<style scoped>\n",
       "    .dataframe tbody tr th:only-of-type {\n",
       "        vertical-align: middle;\n",
       "    }\n",
       "\n",
       "    .dataframe tbody tr th {\n",
       "        vertical-align: top;\n",
       "    }\n",
       "\n",
       "    .dataframe thead th {\n",
       "        text-align: right;\n",
       "    }\n",
       "</style>\n",
       "<table border=\"1\" class=\"dataframe\">\n",
       "  <thead>\n",
       "    <tr style=\"text-align: right;\">\n",
       "      <th></th>\n",
       "      <th>País</th>\n",
       "      <th>Total infectados 2022</th>\n",
       "      <th>Total infectados 2021</th>\n",
       "      <th>Infectados+ 2022</th>\n",
       "      <th>Infectados+ 2021</th>\n",
       "      <th>Infectados| 2022</th>\n",
       "      <th>Infectados| 2021</th>\n",
       "    </tr>\n",
       "  </thead>\n",
       "  <tbody>\n",
       "    <tr>\n",
       "      <th>0</th>\n",
       "      <td>Brazil</td>\n",
       "      <td>37076053</td>\n",
       "      <td>29198101</td>\n",
       "      <td>0.057962</td>\n",
       "      <td>0.233119</td>\n",
       "      <td>0.174393</td>\n",
       "      <td>0.137338</td>\n",
       "    </tr>\n",
       "    <tr>\n",
       "      <th>1</th>\n",
       "      <td>Italy</td>\n",
       "      <td>25603510</td>\n",
       "      <td>13159342</td>\n",
       "      <td>0.040027</td>\n",
       "      <td>0.105065</td>\n",
       "      <td>0.429950</td>\n",
       "      <td>0.220980</td>\n",
       "    </tr>\n",
       "    <tr>\n",
       "      <th>2</th>\n",
       "      <td>US</td>\n",
       "      <td>103802702</td>\n",
       "      <td>79536060</td>\n",
       "      <td>0.162278</td>\n",
       "      <td>0.635019</td>\n",
       "      <td>0.315031</td>\n",
       "      <td>0.241384</td>\n",
       "    </tr>\n",
       "  </tbody>\n",
       "</table>\n",
       "</div>"
      ],
      "text/plain": [
       "     País  Total infectados 2022  Total infectados 2021  Infectados+ 2022  \\\n",
       "0  Brazil               37076053               29198101          0.057962   \n",
       "1   Italy               25603510               13159342          0.040027   \n",
       "2      US              103802702               79536060          0.162278   \n",
       "\n",
       "   Infectados+ 2021  Infectados| 2022  Infectados| 2021  \n",
       "0          0.233119          0.174393          0.137338  \n",
       "1          0.105065          0.429950          0.220980  \n",
       "2          0.635019          0.315031          0.241384  "
      ]
     },
     "execution_count": 109,
     "metadata": {},
     "output_type": "execute_result"
    }
   ],
   "source": [
    "resumo_infectados_df"
   ]
  },
  {
   "cell_type": "code",
   "execution_count": 110,
   "metadata": {},
   "outputs": [
    {
     "data": {
      "text/html": [
       "<div>\n",
       "<style scoped>\n",
       "    .dataframe tbody tr th:only-of-type {\n",
       "        vertical-align: middle;\n",
       "    }\n",
       "\n",
       "    .dataframe tbody tr th {\n",
       "        vertical-align: top;\n",
       "    }\n",
       "\n",
       "    .dataframe thead th {\n",
       "        text-align: right;\n",
       "    }\n",
       "</style>\n",
       "<table border=\"1\" class=\"dataframe\">\n",
       "  <thead>\n",
       "    <tr style=\"text-align: right;\">\n",
       "      <th></th>\n",
       "      <th>País</th>\n",
       "      <th>Total mortes 2022</th>\n",
       "      <th>Total mortes 2021</th>\n",
       "      <th>Mortos+ 2022</th>\n",
       "      <th>Mortos+ 2021</th>\n",
       "      <th>Mortos| 2022</th>\n",
       "      <th>Mortos| 2021</th>\n",
       "    </tr>\n",
       "  </thead>\n",
       "  <tbody>\n",
       "    <tr>\n",
       "      <th>0</th>\n",
       "      <td>Brazil</td>\n",
       "      <td>699276</td>\n",
       "      <td>653767</td>\n",
       "      <td>0.001093</td>\n",
       "      <td>0.361086</td>\n",
       "      <td>0.003289</td>\n",
       "      <td>0.003075</td>\n",
       "    </tr>\n",
       "    <tr>\n",
       "      <th>1</th>\n",
       "      <td>Italy</td>\n",
       "      <td>188322</td>\n",
       "      <td>156357</td>\n",
       "      <td>0.000294</td>\n",
       "      <td>0.086359</td>\n",
       "      <td>0.003162</td>\n",
       "      <td>0.002626</td>\n",
       "    </tr>\n",
       "    <tr>\n",
       "      <th>2</th>\n",
       "      <td>US</td>\n",
       "      <td>1123836</td>\n",
       "      <td>963275</td>\n",
       "      <td>0.001757</td>\n",
       "      <td>0.532032</td>\n",
       "      <td>0.003411</td>\n",
       "      <td>0.002923</td>\n",
       "    </tr>\n",
       "  </tbody>\n",
       "</table>\n",
       "</div>"
      ],
      "text/plain": [
       "     País  Total mortes 2022  Total mortes 2021  Mortos+ 2022  Mortos+ 2021  \\\n",
       "0  Brazil             699276             653767      0.001093      0.361086   \n",
       "1   Italy             188322             156357      0.000294      0.086359   \n",
       "2      US            1123836             963275      0.001757      0.532032   \n",
       "\n",
       "   Mortos| 2022  Mortos| 2021  \n",
       "0      0.003289      0.003075  \n",
       "1      0.003162      0.002626  \n",
       "2      0.003411      0.002923  "
      ]
     },
     "execution_count": 110,
     "metadata": {},
     "output_type": "execute_result"
    }
   ],
   "source": [
    "resumo_mortes_df"
   ]
  },
  {
   "cell_type": "code",
   "execution_count": 111,
   "metadata": {},
   "outputs": [
    {
     "name": "stdout",
     "output_type": "stream",
     "text": [
      "Média de infecções em 2022: 55494088.333333336\n",
      "Média de infecções em 2021: 40631167.666666664\n",
      "Média de mortes em 2022: 670478.0\n",
      "Média de mortes em 2021: 591133.0\n"
     ]
    }
   ],
   "source": [
    "print(\n",
    "    \"Média de infecções em 2022: %s\"\n",
    "    % (np.mean(resumo_infectados_df[\"Total infectados 2022\"]))\n",
    ")\n",
    "print(\n",
    "    \"Média de infecções em 2021: %s\"\n",
    "    % (np.mean(resumo_infectados_df[\"Total infectados 2021\"]))\n",
    ")\n",
    "print(\"Média de mortes em 2022: %s\" % (np.mean(resumo_mortes_df[\"Total mortes 2022\"])))\n",
    "print(\"Média de mortes em 2021: %s\" % (np.mean(resumo_mortes_df[\"Total mortes 2021\"])))"
   ]
  },
  {
   "attachments": {},
   "cell_type": "markdown",
   "metadata": {},
   "source": [
    "As taxas de infecção e morte se amenizam conforme o tempo passa, devido a aplicação de vacinas.\n",
    "\n",
    "Por mais que os dados revelem que houve um crescimento de 160% na taxa de mortalidade devemos levar em consideração que isso é uma taxa de aumento.\n",
    "\n",
    "Sendo que na realidade morre-se menos do que nos picos de 2021.\n",
    "\n",
    "Porém, a taxa de infecção aumentou bastante sendo ela 250%."
   ]
  }
 ],
 "metadata": {
  "colab": {
   "authorship_tag": "ABX9TyOTpSJR+yOLsjQNQLAz5SX/",
   "collapsed_sections": [],
   "name": "codigo_checkpoint2.ipynb",
   "provenance": []
  },
  "interpreter": {
   "hash": "8f42765979c22f497b75a418cc51cb578c9929c6ef13d9d7bf0b0dd8a227ee3c"
  },
  "kernelspec": {
   "display_name": "Python 3.9.7 ('base')",
   "language": "python",
   "name": "python3"
  },
  "language_info": {
   "codemirror_mode": {
    "name": "ipython",
    "version": 3
   },
   "file_extension": ".py",
   "mimetype": "text/x-python",
   "name": "python",
   "nbconvert_exporter": "python",
   "pygments_lexer": "ipython3",
   "version": "3.11.0"
  }
 },
 "nbformat": 4,
 "nbformat_minor": 4
}
