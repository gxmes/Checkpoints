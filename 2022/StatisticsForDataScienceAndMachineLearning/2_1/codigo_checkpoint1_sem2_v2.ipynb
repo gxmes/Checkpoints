{
 "cells": [
  {
   "cell_type": "code",
   "execution_count": 1,
   "metadata": {
    "id": "HnM4GloBS6ur"
   },
   "outputs": [],
   "source": [
    "import pandas as pd\n",
    "import numpy as np\n",
    "import matplotlib.pyplot as plt\n",
    "from wordcloud import WordCloud\n",
    "from statistics import mode as moda"
   ]
  },
  {
   "cell_type": "code",
   "execution_count": null,
   "metadata": {
    "id": "luT9qMvkTymk"
   },
   "outputs": [],
   "source": [
    "df = pd.read_csv(\"dados_atendimentos.csv\")\n",
    "df_renda_municipios_2010 = pd.read_csv(\"dados_renda_municipios_2010.csv\")"
   ]
  },
  {
   "cell_type": "code",
   "execution_count": null,
   "metadata": {
    "colab": {
     "base_uri": "https://localhost:8080/",
     "height": 478
    },
    "id": "gOKPjqQEUCp7",
    "outputId": "1924344d-6439-4f07-eed4-9e37c8282b8e"
   },
   "outputs": [],
   "source": [
    "df.head()"
   ]
  },
  {
   "cell_type": "markdown",
   "metadata": {
    "id": "5kdo4wXCV4Bu"
   },
   "source": [
    "# Questão 1"
   ]
  },
  {
   "cell_type": "markdown",
   "metadata": {
    "id": "20ZqPykMVc5v"
   },
   "source": [
    "## Atendimentos online:"
   ]
  },
  {
   "cell_type": "code",
   "execution_count": null,
   "metadata": {
    "colab": {
     "base_uri": "https://localhost:8080/"
    },
    "id": "TYbxyaRTUX0Y",
    "outputId": "b015b6e9-597b-4ada-d7b2-860c45a7c9bc"
   },
   "outputs": [],
   "source": [
    "atendimentos_online = df[\"usuarioOnline\"].sum()\n",
    "atendimentos_online"
   ]
  },
  {
   "cell_type": "markdown",
   "metadata": {
    "id": "ARdK93qdVheU"
   },
   "source": [
    "## Atendimentos offline:"
   ]
  },
  {
   "cell_type": "code",
   "execution_count": null,
   "metadata": {
    "colab": {
     "base_uri": "https://localhost:8080/"
    },
    "id": "TsO4Og0UVOLM",
    "outputId": "33415d47-ec02-46fe-9245-8f2a90a51b42"
   },
   "outputs": [],
   "source": [
    "atendimentos_offline = df[\"usuarioOnline\"].count() - atendimentos_online\n",
    "atendimentos_offline"
   ]
  },
  {
   "cell_type": "markdown",
   "metadata": {
    "id": "YQ0bHXQ4V9sS"
   },
   "source": [
    "# Questão 2"
   ]
  },
  {
   "cell_type": "markdown",
   "metadata": {
    "id": "IUiWWBBEWCaJ"
   },
   "source": [
    "## Quantidade de tipos de avaliação"
   ]
  },
  {
   "cell_type": "code",
   "execution_count": null,
   "metadata": {
    "colab": {
     "base_uri": "https://localhost:8080/"
    },
    "id": "Qo88DrnMV-7h",
    "outputId": "a9ea8a56-96e9-46f5-9c08-67e622bebf6e"
   },
   "outputs": [],
   "source": [
    "df[\"avaliacao\"].unique()"
   ]
  },
  {
   "cell_type": "markdown",
   "metadata": {
    "id": "VXUO_J_uWX4R"
   },
   "source": [
    "## Ocorrências por tipo"
   ]
  },
  {
   "cell_type": "code",
   "execution_count": null,
   "metadata": {
    "colab": {
     "base_uri": "https://localhost:8080/"
    },
    "id": "7TJOChWsWa93",
    "outputId": "6d6cd2cc-c254-4e10-d83a-4b287407c1a5"
   },
   "outputs": [],
   "source": [
    "ocorrencias_positivas = df[df[\"avaliacao\"] == \"positiva\"][\"avaliacao\"].count()\n",
    "ocorrencias_positivas"
   ]
  },
  {
   "cell_type": "code",
   "execution_count": null,
   "metadata": {
    "colab": {
     "base_uri": "https://localhost:8080/"
    },
    "id": "8bSh_NaKWuvD",
    "outputId": "7c0bc197-a274-4113-f4a4-ea3c7192a645"
   },
   "outputs": [],
   "source": [
    "ocorrencias_negativas = df[df[\"avaliacao\"] == \"negativa\"][\"avaliacao\"].count()\n",
    "ocorrencias_negativas"
   ]
  },
  {
   "cell_type": "code",
   "execution_count": null,
   "metadata": {
    "colab": {
     "base_uri": "https://localhost:8080/"
    },
    "id": "7KImeoahW-ru",
    "outputId": "f6bc3227-e4ef-47ba-af5b-89c0d32ec5a1"
   },
   "outputs": [],
   "source": [
    "ocorrencias_n_a = df[df[\"avaliacao\"] == \"n/ avaliado\"][\"avaliacao\"].count()\n",
    "ocorrencias_n_a"
   ]
  },
  {
   "cell_type": "markdown",
   "metadata": {
    "id": "gdd5lZe9XRAV"
   },
   "source": [
    "# Questão 3"
   ]
  },
  {
   "cell_type": "markdown",
   "metadata": {
    "id": "1YuIWxO-XWAx"
   },
   "source": [
    "## Quantidades de tipos de erros"
   ]
  },
  {
   "cell_type": "code",
   "execution_count": null,
   "metadata": {
    "colab": {
     "base_uri": "https://localhost:8080/"
    },
    "id": "En3gDZJaXYAX",
    "outputId": "455e55bb-2e77-493d-9c40-85416bcd7fb1"
   },
   "outputs": [],
   "source": [
    "df[\"codigo\"].unique()"
   ]
  },
  {
   "cell_type": "markdown",
   "metadata": {
    "id": "yoGI0H3pXx0S"
   },
   "source": [
    "## Ocorrências por erro"
   ]
  },
  {
   "cell_type": "code",
   "execution_count": null,
   "metadata": {
    "colab": {
     "base_uri": "https://localhost:8080/"
    },
    "id": "a5f8i7chX4Dy",
    "outputId": "e82df699-ef7a-46d0-c535-6532ac47544f"
   },
   "outputs": [],
   "source": [
    "ocorrencias_550 = df[df[\"codigo\"] == 550][\"codigo\"].count()\n",
    "ocorrencias_550"
   ]
  },
  {
   "cell_type": "code",
   "execution_count": null,
   "metadata": {
    "colab": {
     "base_uri": "https://localhost:8080/"
    },
    "id": "mPr-fz1AX9JS",
    "outputId": "33e660a2-517b-4291-9191-94c3572a2191"
   },
   "outputs": [],
   "source": [
    "ocorrencias_500 = df[df[\"codigo\"] == 500][\"codigo\"].count()\n",
    "ocorrencias_500"
   ]
  },
  {
   "cell_type": "markdown",
   "metadata": {
    "id": "Z9wrqF_UYLlU"
   },
   "source": [
    "# Questão 4"
   ]
  },
  {
   "cell_type": "markdown",
   "metadata": {
    "id": "otFImJdmYRCM"
   },
   "source": [
    "## Medidas descritivas"
   ]
  },
  {
   "cell_type": "code",
   "execution_count": null,
   "metadata": {
    "id": "Z6h-y3CrZC3B"
   },
   "outputs": [],
   "source": [
    "tempo_de_acesso = df[\"tempoAcesso\"]\n",
    "pd.DataFrame(tempo_de_acesso).describe()"
   ]
  },
  {
   "cell_type": "markdown",
   "metadata": {
    "id": "nuI663QUau8X"
   },
   "source": [
    "# 5 – Obter as medidas descritivas em relação ao tempo de acesso por atendimentos ocorrem online e offline. (colunas: tempoAcesso e usuarioOnline)."
   ]
  },
  {
   "cell_type": "code",
   "execution_count": null,
   "metadata": {},
   "outputs": [],
   "source": [
    "def tempoAcesso(groupby):\n",
    "    return df.groupby(groupby).agg(\n",
    "    minTempoAcesso=pd.NamedAgg(\"tempoAcesso\", \"min\"),\n",
    "    maxTempoAcesso=pd.NamedAgg(\"tempoAcesso\", \"max\"),\n",
    "    mediaTempoAcesso=pd.NamedAgg(\"tempoAcesso\", \"mean\"),\n",
    "    medianaTempoAcesso=pd.NamedAgg(\"tempoAcesso\", \"median\"),\n",
    "    modaTempoAcesso=pd.NamedAgg(\"tempoAcesso\", moda),\n",
    "    varianciaTempoAcesso=pd.NamedAgg(\"tempoAcesso\", \"var\"),\n",
    "    desvioPadraoTempoAcesso=pd.NamedAgg(\"tempoAcesso\", \"std\"),\n",
    "    quartil25=pd.NamedAgg(\"tempoAcesso\", lambda x: np.quantile(x, 0.25)),\n",
    "    quartil50=pd.NamedAgg(\"tempoAcesso\", lambda x: np.quantile(x, 0.50)),\n",
    "    quartil75=pd.NamedAgg(\"tempoAcesso\", lambda x: np.quantile(x, 0.75)),\n",
    ").reset_index()"
   ]
  },
  {
   "cell_type": "code",
   "execution_count": null,
   "metadata": {
    "colab": {
     "base_uri": "https://localhost:8080/",
     "height": 112
    },
    "id": "oYVZzalsawuN",
    "outputId": "50ae0e4b-4dbc-493b-f782-2f1541b5533d"
   },
   "outputs": [],
   "source": [
    "tempoAcesso(\"usuarioOnline\")"
   ]
  },
  {
   "cell_type": "markdown",
   "metadata": {
    "id": "U8iUBYHrct_7"
   },
   "source": [
    "# 6 – Obter as medidas descritivas em relação aos tipos de avaliação. (colunas: tempoAcesso e avaliacao).\n"
   ]
  },
  {
   "cell_type": "code",
   "execution_count": null,
   "metadata": {
    "colab": {
     "base_uri": "https://localhost:8080/",
     "height": 143
    },
    "id": "qxGonM76cxgs",
    "outputId": "48f1ed67-06b4-4cf0-9c40-1b64057a5ff4"
   },
   "outputs": [],
   "source": [
    "tempoAcesso(\"avaliacao\")"
   ]
  },
  {
   "cell_type": "markdown",
   "metadata": {
    "id": "_Quk92yydNVU"
   },
   "source": [
    "# 7 – Obter as medidas descritivas em relação aos tipos de erros. (colunas: tempoAcesso e codigo).\n"
   ]
  },
  {
   "cell_type": "code",
   "execution_count": null,
   "metadata": {
    "colab": {
     "base_uri": "https://localhost:8080/",
     "height": 112
    },
    "id": "R-2OKEd-dOXd",
    "outputId": "e719cf20-531f-47bf-fd22-eb6bc905d630"
   },
   "outputs": [],
   "source": [
    "tempoAcesso(\"codigo\")"
   ]
  },
  {
   "cell_type": "markdown",
   "metadata": {
    "id": "xTFbonoWefPc"
   },
   "source": [
    "# 8 – Montar uma nuvem de palavras para as mensagens de erro. (coluna: erro)."
   ]
  },
  {
   "cell_type": "code",
   "execution_count": null,
   "metadata": {
    "id": "bEdt6gsjeggV"
   },
   "outputs": [],
   "source": [
    "text = \" \".join(message for message in df[\"erro\"])"
   ]
  },
  {
   "cell_type": "code",
   "execution_count": null,
   "metadata": {
    "id": "WZu2hT9bf3AG"
   },
   "outputs": [],
   "source": [
    "wc = WordCloud(\n",
    "    background_color=\"White\",\n",
    "    color_func=lambda *args, **kwargs: \"black\",\n",
    "    max_words=50,\n",
    "    width=800,\n",
    "    height=400,\n",
    ").generate(text)"
   ]
  },
  {
   "cell_type": "code",
   "execution_count": null,
   "metadata": {
    "colab": {
     "base_uri": "https://localhost:8080/"
    },
    "id": "8WRDzD-XgOeO",
    "outputId": "1d51f286-b13d-4a30-80f2-dcc61c4ff8b7"
   },
   "outputs": [],
   "source": [
    "wc.generate(text)"
   ]
  },
  {
   "cell_type": "code",
   "execution_count": null,
   "metadata": {
    "colab": {
     "base_uri": "https://localhost:8080/",
     "height": 215
    },
    "id": "rTgZg-C_gSNG",
    "outputId": "6c54f2ce-1989-493b-d0ed-994d88b80a30"
   },
   "outputs": [],
   "source": [
    "plt.figure()\n",
    "plt.imshow(wc, interpolation=\"bilinear\")\n",
    "plt.axis(\"off\")"
   ]
  },
  {
   "cell_type": "markdown",
   "metadata": {
    "id": "x8MSe9ttBA1n"
   },
   "source": [
    "# 9 – Montar nuvem de palavras sobre as mensagens de erro para os tipos de avaliação dos clientes. (colunas: erro e avaliacao)."
   ]
  },
  {
   "cell_type": "code",
   "execution_count": null,
   "metadata": {
    "colab": {
     "base_uri": "https://localhost:8080/",
     "height": 560
    },
    "id": "YMeiWBzNBA1n",
    "outputId": "4eca01a5-065b-420f-9958-bd18cca1324b"
   },
   "outputs": [],
   "source": [
    "def criar_nuvem(avaliacao):\n",
    "    _df = df[df[\"avaliacao\"] == avaliacao]\n",
    "    text = \" \".join(message for message in _df[\"erro\"])\n",
    "    wc = WordCloud(\n",
    "        background_color=\"White\",\n",
    "        color_func=lambda *args, **kwargs: \"black\",\n",
    "        max_words=50,\n",
    "        width=800,\n",
    "        height=400,\n",
    "    )\n",
    "    wc.generate(text)\n",
    "    plt.figure()\n",
    "    plt.imshow(wc, interpolation=\"bilinear\")\n",
    "    plt.axis(\"off\")\n",
    "\n",
    "\n",
    "criar_nuvem(\"positiva\")\n",
    "criar_nuvem(\"negativa\")\n",
    "criar_nuvem(\"n/ avaliado\")"
   ]
  },
  {
   "cell_type": "markdown",
   "metadata": {
    "id": "hUPBO_JcBA1n"
   },
   "source": [
    "# 10 – Na tabela do censo de 2010, obter o índice de Gini por UF (state) (criar um dataframe como df_gini_estado)."
   ]
  },
  {
   "cell_type": "code",
   "execution_count": null,
   "metadata": {
    "colab": {
     "base_uri": "https://localhost:8080/",
     "height": 864
    },
    "id": "TyhOk_a1BA1n",
    "outputId": "7fbb2aaf-a5ca-4782-c535-831869abaec0"
   },
   "outputs": [],
   "source": [
    "def gini(array: np.ndarray or pd.core.series.Series) -> float:\n",
    "    \"\"\"\n",
    "    Calculates the Gini coefficient of a 1D array.\n",
    "\n",
    "    Args:\n",
    "        array (array-like): A 1D array of values.\n",
    "\n",
    "    Returns:\n",
    "        float: The Gini coefficient of the array.\n",
    "\n",
    "    \"\"\"\n",
    "    # Convert a pandas series to a numpy array\n",
    "    if type(array) == pd.core.series.Series:\n",
    "        array = array.to_numpy()\n",
    "\n",
    "    # Flatten the array if it is not already 1D\n",
    "    array = array.flatten()\n",
    "\n",
    "    # Convert the array to float64 if it is not already\n",
    "    if array.dtype != np.float64:\n",
    "        array = np.ascontiguousarray(array, dtype=np.float64)\n",
    "\n",
    "    # Shift the values in the array so that the minimum value is 0\n",
    "    if np.amin(array) < 0:\n",
    "        array -= np.amin(array)\n",
    "\n",
    "    array += 0.0000001\n",
    "    array = np.sort(array)\n",
    "    index = np.arange(1, array.shape[0] + 1)\n",
    "    n = array.shape[0]\n",
    "    return (np.sum((2 * index - n - 1) * array)) / (n * np.sum(array))\n",
    "\n",
    "\n",
    "df_gini_estado = (\n",
    "    df_renda_municipios_2010.groupby(\"state\")\n",
    "    .agg(\n",
    "        gini=pd.NamedAgg(\"RDPC\", gini),\n",
    "    )\n",
    "    .reset_index()\n",
    ")\n",
    "\n",
    "df_gini_estado"
   ]
  },
  {
   "cell_type": "markdown",
   "metadata": {
    "id": "Hs9qMZcyBA1o"
   },
   "source": [
    "# 11 – Realizar o join das tabelas de atendimento e df_gini_estado."
   ]
  },
  {
   "cell_type": "code",
   "execution_count": null,
   "metadata": {
    "colab": {
     "base_uri": "https://localhost:8080/",
     "height": 765
    },
    "id": "sMgezPN6BA1o",
    "outputId": "c0b92374-f22e-4519-af76-d21f1bd3ee14"
   },
   "outputs": [],
   "source": [
    "atendimento_x_gini_estado = pd.merge(df, df_gini_estado, on=\"state\", how=\"inner\")\n",
    "atendimento_x_gini_estado"
   ]
  },
  {
   "cell_type": "markdown",
   "metadata": {
    "id": "gnrwf36PBA1o"
   },
   "source": [
    "# 12 – Obter as medidas descritivas em relação ao índice de gini por tipo de avaliação (colunas: indice_gini e avaliacao). Esta análise é importante para conhecer se o banco realiza melhor atendimento em estados de maior diferença social. Pode ser um problema para a imagem do banco."
   ]
  },
  {
   "cell_type": "code",
   "execution_count": null,
   "metadata": {
    "colab": {
     "base_uri": "https://localhost:8080/",
     "height": 143
    },
    "id": "1617FYJ0CvYF",
    "outputId": "beca8328-8bc3-4770-8cad-cda5574eb77d"
   },
   "outputs": [],
   "source": [
    "atendimento_x_gini_estado.groupby(\"avaliacao\").agg(\n",
    "    min=pd.NamedAgg(\"gini\", \"min\"),\n",
    "    max=pd.NamedAgg(\"gini\", \"max\"),\n",
    "    media=pd.NamedAgg(\"gini\", \"mean\"),\n",
    "    mediana=pd.NamedAgg(\"gini\", \"median\"),\n",
    "    moda=pd.NamedAgg(\"gini\", moda),\n",
    "    variancia=pd.NamedAgg(\"gini\", \"var\"),\n",
    "    desvioPadrao=pd.NamedAgg(\"gini\", \"std\"),\n",
    "    quartil25=pd.NamedAgg(\"gini\", lambda x: np.quantile(x, 0.25)),\n",
    "    quartil50=pd.NamedAgg(\"gini\", lambda x: np.quantile(x, 0.50)),\n",
    "    quartil75=pd.NamedAgg(\"gini\", lambda x: np.quantile(x, 0.75)),\n",
    ").reset_index()"
   ]
  },
  {
   "attachments": {},
   "cell_type": "markdown",
   "metadata": {
    "id": "r_1b6XKcDtxR"
   },
   "source": [
    "## 13 – Escreva um breve resumo das suas análises demonstrando os pontos mais relevantes."
   ]
  },
  {
   "cell_type": "markdown",
   "metadata": {
    "id": "v8rGGo6IFOJK"
   },
   "source": [
    "Nesse dataframe foram analisados 1000 usuários.\n",
    "Onde 74,6% dos casos de atendimentos foram offline e apenas 25,4% tiveram um atendimento online.\n",
    "É importante avaliar que 51% dos casos de avaliação foram negativas, 25,1% foi positivo e 23,9% decidiram não avaliar. Com esses dados é possivel compreender que o aplicativo não está conseguindo obter resultados favoráveis \n",
    "Comentasse também que os dados não podem ser conclusiveis sobre positivos e negativos, pois há muitos usuários que decidiram não avaliar e isso afeta diretamente os resultados. Porém, é possivel dizer que a situação não poderia se tornar agrádavel mesmo que todos que não avaliacem decidicem dar um positivo, pois não ultrapassaria a quantidade de avaliações negativas.\n",
    "A maior quantidade de erros obtidos foi do 550 sendo então 53,3%.\n",
    "\n",
    "A mediana de tempo de acesso foi de 246s, sendo o minimo registrado 1s e o máximo de 629s\n",
    "Detalhadamente:\n",
    "É possível dizer entender o porque há muito mais casos de atendimentos offline usando o tempo de acesso, a mediana de tempo de acesso offline é de 244s com um minímo de 1s e máximo de 563 enquanto o Online tem uma mediana de 251s um mínimo de 7 e máximo de 629, assim podesse concluir que o atendimento offline é muito mais rápido.\n",
    "Um dado estranho é que os usuários que avaliaram positivamente demoraram muito mais para concluir suas ações que os que avaliaram negativamente.\n",
    "\n",
    "ERROS\n",
    "Com os erros, é possível analisar que os erros que aparecem mais apresentam as mensagens \"TENTE NOVAMENTE\", \"NOVAMENTE MAIS\", \"MAIS TARDE\". Essas mesmas mensagens aparecem para as avaliações relacionadas aos erros.\n",
    "\n",
    "A respeito das avaliações\n",
    "\n",
    "Quanto maior a renda municipal maior a chance da avaliação ser negativa, quanto menor maior a chance de ser uma avaliação positiva ou não existir nenhuma avaliação, a moda aponta tal fato.\n",
    "\n",
    "Isso indica que pessoas com maiores rendas tem mais problemas ao utilizar a plataforma.\n",
    "\n"
   ]
  }
 ],
 "metadata": {
  "colab": {
   "collapsed_sections": [],
   "provenance": []
  },
  "kernelspec": {
   "display_name": "Python 3.10.6 64-bit (system)",
   "language": "python",
   "name": "python3"
  },
  "language_info": {
   "codemirror_mode": {
    "name": "ipython",
    "version": 3
   },
   "file_extension": ".py",
   "mimetype": "text/x-python",
   "name": "python",
   "nbconvert_exporter": "python",
   "pygments_lexer": "ipython3",
   "version": "3.11.0"
  },
  "vscode": {
   "interpreter": {
    "hash": "4969e0abbe28ddf3d158229b7275f3b2892003586087673d7a4034d2fe371621"
   }
  }
 },
 "nbformat": 4,
 "nbformat_minor": 0
}
